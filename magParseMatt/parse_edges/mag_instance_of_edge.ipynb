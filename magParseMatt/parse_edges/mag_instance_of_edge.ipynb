{
 "cells": [
  {
   "cell_type": "code",
   "execution_count": 2,
   "metadata": {},
   "outputs": [],
   "source": [
    "from pyspark.sql import SparkSession\n",
    "from pyspark.sql.functions import to_timestamp, col, lower, regexp_replace, split\n",
    "\n",
    "spark= SparkSession.builder.config('spark.ui.port','4040').getOrCreate()"
   ]
  },
  {
   "cell_type": "code",
   "execution_count": 3,
   "metadata": {},
   "outputs": [],
   "source": [
    "conf_inst = spark.read.csv(\"file:///N/project/mag/mag-2021-01-05/mag/ConferenceInstances.txt\",\\\n",
    "                         header = False,\\\n",
    "                         sep=r'\\t')"
   ]
  },
  {
   "cell_type": "code",
   "execution_count": 4,
   "metadata": {},
   "outputs": [],
   "source": [
    "instance_of = conf_inst.select(\n",
    "                               conf_inst._c0.cast(\"string\").alias(\"conferenceInstanceId\"),\n",
    "                               conf_inst._c3.cast(\"string\").alias(\"conferenceSeriesId\")\n",
    ")\n",
    "\n",
    "\n",
    "instance_of = instance_of.na.drop()\n",
    "\n",
    "#instance_of.show(10)"
   ]
  },
  {
   "cell_type": "code",
   "execution_count": 5,
   "metadata": {},
   "outputs": [
    {
     "name": "stdout",
     "output_type": "stream",
     "text": [
      "CPU times: user 2.84 ms, sys: 1.9 ms, total: 4.74 ms\n",
      "Wall time: 1.63 s\n"
     ]
    }
   ],
   "source": [
    "%%time\n",
    "\n",
    "instance_of.coalesce(64).write.option(\"header\",\"true\") \\\n",
    "                               .option(\"sep\",\"\\t\") \\\n",
    "                               .option(\"quoteAll\", False) \\\n",
    "                               .mode(\"overwrite\") \\\n",
    "                               .csv('/N/project/mag/mag_jg_2021_update/edges/instance_of')               "
   ]
  }
 ],
 "metadata": {
  "kernelspec": {
   "display_name": "Python 3",
   "language": "python",
   "name": "python3"
  },
  "language_info": {
   "codemirror_mode": {
    "name": "ipython",
    "version": 3
   },
   "file_extension": ".py",
   "mimetype": "text/x-python",
   "name": "python",
   "nbconvert_exporter": "python",
   "pygments_lexer": "ipython3",
   "version": "3.6.8"
  }
 },
 "nbformat": 4,
 "nbformat_minor": 2
}
