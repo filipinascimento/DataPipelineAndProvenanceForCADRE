{
 "cells": [
  {
   "cell_type": "code",
   "execution_count": 1,
   "metadata": {},
   "outputs": [],
   "source": [
    "from pyspark.sql import SparkSession\n",
    "from pyspark.sql.functions import to_timestamp, col, lower, regexp_replace, split\n",
    "\n",
    "spark= SparkSession.builder.config('spark.ui.port','4040').getOrCreate()"
   ]
  },
  {
   "cell_type": "code",
   "execution_count": 3,
   "metadata": {},
   "outputs": [
    {
     "name": "stdout",
     "output_type": "stream",
     "text": [
      "+----------+-------------+\n",
      "|  authorId|affiliationId|\n",
      "+----------+-------------+\n",
      "|2112229745|      5467274|\n",
      "|2310386835|      5467274|\n",
      "|2998086493|      5467274|\n",
      "|2134355495|     74801974|\n",
      "|2556390793|     74801974|\n",
      "+----------+-------------+\n",
      "only showing top 5 rows\n",
      "\n"
     ]
    }
   ],
   "source": [
    "aw = spark.read.csv(\"file:///N/project/mag/mag_jg_2021_update/edges/affiliated_with/*.csv\",\\\n",
    "                         header = True,\\\n",
    "                         sep=r'\\t')\n",
    "\n",
    "aw.show(5)"
   ]
  },
  {
   "cell_type": "code",
   "execution_count": 11,
   "metadata": {},
   "outputs": [
    {
     "name": "stdout",
     "output_type": "stream",
     "text": [
      "+----------+-------------+\n",
      "|authorId  |affiliationId|\n",
      "+----------+-------------+\n",
      "|2165709822|116067653    |\n",
      "|2165709822|116067653    |\n",
      "|2165709822|116067653    |\n",
      "|2165709822|116067653    |\n",
      "|2165709822|116067653    |\n",
      "|2165709822|116067653    |\n",
      "|2165709822|116067653    |\n",
      "|2165709822|116067653    |\n",
      "|2165709822|116067653    |\n",
      "|2165709822|116067653    |\n",
      "|2165709822|116067653    |\n",
      "|2165709822|116067653    |\n",
      "|2165709822|116067653    |\n",
      "|2165709822|116067653    |\n",
      "|2165709822|116067653    |\n",
      "|2165709822|116067653    |\n",
      "|2165709822|116067653    |\n",
      "|2165709822|116067653    |\n",
      "|2165709822|116067653    |\n",
      "|2165709822|116067653    |\n",
      "|2165709822|116067653    |\n",
      "|2165709822|116067653    |\n",
      "|2165709822|116067653    |\n",
      "|2165709822|116067653    |\n",
      "|2165709822|116067653    |\n",
      "|2165709822|116067653    |\n",
      "|2165709822|116067653    |\n",
      "|2165709822|116067653    |\n",
      "|2165709822|116067653    |\n",
      "|2165709822|116067653    |\n",
      "|2165709822|116067653    |\n",
      "|2165709822|116067653    |\n",
      "|2165709822|116067653    |\n",
      "|2165709822|116067653    |\n",
      "|2165709822|116067653    |\n",
      "|2165709822|116067653    |\n",
      "|2165709822|116067653    |\n",
      "|2165709822|116067653    |\n",
      "|2165709822|116067653    |\n",
      "|2165709822|116067653    |\n",
      "|2165709822|116067653    |\n",
      "|2165709822|116067653    |\n",
      "|2165709822|116067653    |\n",
      "|2165709822|116067653    |\n",
      "|2165709822|116067653    |\n",
      "|2165709822|116067653    |\n",
      "|2165709822|116067653    |\n",
      "|2165709822|116067653    |\n",
      "|2165709822|116067653    |\n",
      "|2165709822|116067653    |\n",
      "+----------+-------------+\n",
      "only showing top 50 rows\n",
      "\n"
     ]
    }
   ],
   "source": [
    "aff_edge = aw.filter(aw.affiliationId.contains('116067653'))\n",
    "\n",
    "aff_edge2 = aff_edge.filter(aff_edge.authorId.contains('2165709822'))\n",
    "\n",
    "aff_edge2.sort('affiliationId').show(50, truncate=False) \n"
   ]
  },
  {
   "cell_type": "code",
   "execution_count": 8,
   "metadata": {},
   "outputs": [
    {
     "name": "stdout",
     "output_type": "stream",
     "text": [
      "+-------------+-----+--------------------+--------------------+-------------+--------------------+--------------------+----------+----------------+-------------+-----------+---------+---------+-----------+\n",
      "|affiliationId| rank|      normalizedName|         displayName|       gridId|        officialPage|            wikiPage|paperCount|paperFamilyCount|citationCount|iso3166Code| latitude|longitude|createdDate|\n",
      "+-------------+-----+--------------------+--------------------+-------------+--------------------+--------------------+----------+----------------+-------------+-----------+---------+---------+-----------+\n",
      "|     20455151| 9871|         air liquide|         Air Liquide|grid.476009.c|https://web.archi...|http://en.wikiped...|      7688|            5628|        60013|         GB|52.503593| -1.80516| 2016-06-24|\n",
      "|     24386293|13928|hellenic national...|Hellenic National...|         null|http://www.hnms.g...|http://en.wikiped...|        85|              85|         1966|         GR| 37.97614|  23.7364| 2016-06-24|\n",
      "|     32956416|12970|catholic universi...|Catholic Universi...|grid.448708.7|  http://www.uco.fr/|http://en.wikiped...|       361|             352|         4276|         FR| 47.46472| -0.54861| 2016-06-24|\n",
      "|     35926432|11671|mackay medical co...|Mackay Medical Co...|grid.452449.a|http://www.mmc.ed...|http://en.wikiped...|      1503|            1497|        14443|         TW| 25.25436|121.49509| 2016-06-24|\n",
      "|     37448385|11874|chinese people s ...|Chinese People's ...|         null|http://www.ppsuc....|http://en.wikiped...|      1788|            1782|         2582|         CN| 39.90469|116.40717| 2016-06-24|\n",
      "+-------------+-----+--------------------+--------------------+-------------+--------------------+--------------------+----------+----------------+-------------+-----------+---------+---------+-----------+\n",
      "only showing top 5 rows\n",
      "\n"
     ]
    }
   ],
   "source": [
    "aff_n = spark.read.csv(\"file:///N/project/mag/mag_jg_2021_update/nodes/affiliations/*.csv\",\\\n",
    "                         header = True,\\\n",
    "                         sep=r'\\t')\n",
    "\n",
    "aff_n.show(5)"
   ]
  },
  {
   "cell_type": "code",
   "execution_count": 10,
   "metadata": {},
   "outputs": [
    {
     "name": "stdout",
     "output_type": "stream",
     "text": [
      "+-------------+----+------------------------------+------------------------------+-----------+-----------------------+-----------------------------------------------------------+----------+----------------+-------------+-----------+--------+---------+-----------+\n",
      "|affiliationId|rank|normalizedName                |displayName                   |gridId     |officialPage           |wikiPage                                                   |paperCount|paperFamilyCount|citationCount|iso3166Code|latitude|longitude|createdDate|\n",
      "+-------------+----+------------------------------+------------------------------+-----------+-----------------------+-----------------------------------------------------------+----------+----------------+-------------+-----------+--------+---------+-----------+\n",
      "|116067653    |7775|university of rome tor vergata|University of Rome Tor Vergata|grid.6530.0|http://www.uniroma2.it/|http://en.wikipedia.org/wiki/University_of_Rome_Tor_Vergata|26370     |25633           |600958       |IT         |41.85361|12.60333 |2016-06-24 |\n",
      "+-------------+----+------------------------------+------------------------------+-----------+-----------------------+-----------------------------------------------------------+----------+----------------+-------------+-----------+--------+---------+-----------+\n",
      "\n"
     ]
    }
   ],
   "source": [
    "aff_n = aff_n.filter(aff_n.affiliationId.contains('116067653'))\n",
    "                                       \n",
    "aff_n.sort('affiliationId').show(50, truncate=False) "
   ]
  }
 ],
 "metadata": {
  "kernelspec": {
   "display_name": "Python 3",
   "language": "python",
   "name": "python3"
  },
  "language_info": {
   "codemirror_mode": {
    "name": "ipython",
    "version": 3
   },
   "file_extension": ".py",
   "mimetype": "text/x-python",
   "name": "python",
   "nbconvert_exporter": "python",
   "pygments_lexer": "ipython3",
   "version": "3.6.8"
  }
 },
 "nbformat": 4,
 "nbformat_minor": 2
}
