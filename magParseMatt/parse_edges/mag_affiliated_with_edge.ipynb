{
 "cells": [
  {
   "cell_type": "code",
   "execution_count": 1,
   "metadata": {},
   "outputs": [],
   "source": [
    "from pyspark.sql import SparkSession\n",
    "from pyspark.sql.functions import to_timestamp, col, lower, regexp_replace, split\n",
    "\n",
    "spark= SparkSession.builder.config('spark.ui.port','4040').getOrCreate()"
   ]
  },
  {
   "cell_type": "code",
   "execution_count": 3,
   "metadata": {},
   "outputs": [
    {
     "name": "stdout",
     "output_type": "stream",
     "text": [
      "+---+----------+--------+---+--------------------+--------------------+\n",
      "|_c0|       _c1|     _c2|_c3|                 _c4|                 _c5|\n",
      "+---+----------+--------+---+--------------------+--------------------+\n",
      "|  9|2632942543|    null|  1|Victoriano Perruc...|                null|\n",
      "| 15| 199142497|    null|  1|     Robert Münscher|Heidelberg, Deuts...|\n",
      "| 15| 680395887|    null|  2|       Julia Hormuth|Reutlingen, Deuts...|\n",
      "| 23|1243978490|79576946|  1|     Eric T Stoopler|Department of Ora...|\n",
      "| 23|2582258949|    null|  3| Arthur S Kuperstein|                null|\n",
      "+---+----------+--------+---+--------------------+--------------------+\n",
      "only showing top 5 rows\n",
      "\n"
     ]
    }
   ],
   "source": [
    "paa = spark.read.csv(\"file:///N/project/mag/mag-2021-01-05/mag/PaperAuthorAffiliations.txt\",\\\n",
    "                         header = False,\\\n",
    "                         sep=r'\\t')\n",
    "\n",
    "paa.show(5)"
   ]
  },
  {
   "cell_type": "code",
   "execution_count": 11,
   "metadata": {},
   "outputs": [
    {
     "name": "stdout",
     "output_type": "stream",
     "text": [
      "+----------+----------+---------+---+---------------+--------------------+\n",
      "|       _c0|       _c1|      _c2|_c3|            _c4|                 _c5|\n",
      "+----------+----------+---------+---+---------------+--------------------+\n",
      "|1930403392|2165709822|116067653|  1|Giovanni Abramo|National Research...|\n",
      "|1963613126|2165709822|116067653|  1|Giovanni Abramo|                null|\n",
      "|1966279025|2165709822|116067653|  3|Giovanni Abramo|National Research...|\n",
      "|1978273326|2165709822|116067653|  1|Giovanni Abramo|Laboratory for St...|\n",
      "|1987352748|2165709822|116067653|  1|Giovanni Abramo|Laboratory for St...|\n",
      "|1991447625|2165709822|116067653|  1|Giovanni Abramo|University of Rom...|\n",
      "|1999876112|2165709822|116067653|  1|Giovanni Abramo|Laboratory for St...|\n",
      "|2006605121|2165709822|116067653|  1|Giovanni Abramo|Laboratory for St...|\n",
      "|2009228135|2165709822|116067653|  1|Giovanni Abramo|                null|\n",
      "|2012506063|2165709822|116067653|  1|Giovanni Abramo|Laboratory for St...|\n",
      "|2012636016|2165709822|116067653|  1|Giovanni Abramo|Laboratory for St...|\n",
      "|2023273205|2165709822|116067653|  1|Giovanni Abramo|university of Rom...|\n",
      "|2025248999|2165709822|116067653|  1|Giovanni Abramo|University of Rom...|\n",
      "|2026871663|2165709822|116067653|  1|Giovanni Abramo|university of Rom...|\n",
      "|2034003982|2165709822|116067653|  1|Giovanni Abramo|Italian Research ...|\n",
      "|2037915805|2165709822|116067653|  1|Giovanni Abramo|University of Rom...|\n",
      "|2039358761|2165709822|116067653|  1|Giovanni Abramo|Laboratory for St...|\n",
      "|2043913671|2165709822|116067653|  1|Giovanni Abramo|Laboratory for St...|\n",
      "|2050010356|2165709822|116067653|  1|Giovanni Abramo|University of Rom...|\n",
      "|2054537087|2165709822|116067653|  1|Giovanni Abramo|Univ. of Rome, To...|\n",
      "|2057774003|2165709822|116067653|  1|Giovanni Abramo|Laboratory for St...|\n",
      "|2057845655|2165709822|116067653|  1|Giovanni Abramo|Laboratory for St...|\n",
      "|2059495357|2165709822|116067653|  1|Giovanni Abramo|Laboratory for St...|\n",
      "|2060532203|2165709822|116067653|  1|Giovanni Abramo|Laboratory for St...|\n",
      "|2068169498|2165709822|116067653|  1|Giovanni Abramo|National Research...|\n",
      "|2074830665|2165709822|116067653|  1|Giovanni Abramo|1National Researc...|\n",
      "|2075293457|2165709822|116067653|  1|Giovanni Abramo|National Research...|\n",
      "|2080160261|2165709822|116067653|  1|Giovanni Abramo|National Research...|\n",
      "|2087374082|2165709822|116067653|  1|Giovanni Abramo|University of Rom...|\n",
      "|2091001169|2165709822|116067653|  1|Giovanni Abramo|National Research...|\n",
      "|2093491347|2165709822|116067653|  1|Giovanni Abramo|Laboratory for St...|\n",
      "|2093689166|2165709822|116067653|  1|Giovanni Abramo|University of Rom...|\n",
      "|2094649542|2165709822|116067653|  1|Giovanni Abramo|university of Rom...|\n",
      "|2137165660|2165709822|116067653|  1|Giovanni Abramo|National Research...|\n",
      "|2141863666|2165709822|116067653|  2|Giovanni Abramo|University of Rom...|\n",
      "|2144010635|2165709822|116067653|  1|Giovanni Abramo|Laboratory for St...|\n",
      "|2144599295|2165709822|116067653|  1|Giovanni Abramo|National Research...|\n",
      "|2201918520|2165709822|116067653|  1|Giovanni Abramo|University of Rom...|\n",
      "|2884078607|2165709822|116067653|  1|Giovanni Abramo|University of Rom...|\n",
      "|2951157123|2165709822|116067653|  1|Giovanni Abramo|1National Researc...|\n",
      "|2951211284|2165709822|116067653|  1|Giovanni Abramo|National Research...|\n",
      "|3001304293|2165709822|116067653|  1|Giovanni Abramo|University of Rom...|\n",
      "|3098125907|2165709822|116067653|  1|Giovanni Abramo|University of Rom...|\n",
      "|3098317145|2165709822|116067653|  1|Giovanni Abramo|Laboratory for St...|\n",
      "|3098318533|2165709822|116067653|  1|Giovanni Abramo|Laboratory for St...|\n",
      "|3098486709|2165709822|116067653|  1|Giovanni Abramo|university of Rom...|\n",
      "|3098805579|2165709822|116067653|  1|Giovanni Abramo|Univ. of Rome, To...|\n",
      "|3098827649|2165709822|116067653|  1|Giovanni Abramo|National Research...|\n",
      "|3098910529|2165709822|116067653|  1|Giovanni Abramo|Laboratory for St...|\n",
      "|3099134158|2165709822|116067653|  1|Giovanni Abramo|University of Rom...|\n",
      "+----------+----------+---------+---+---------------+--------------------+\n",
      "only showing top 50 rows\n",
      "\n"
     ]
    }
   ],
   "source": [
    "#116067653\n",
    "\n",
    "aff_edge = paa.filter(paa._c2.contains('116067653'))\n",
    "\n",
    "#aff_edge = affiliated_with.filter(affiliated_with.affiliationId.contains('116067653'))\n",
    "\n",
    "aff_edge2 = aff_edge.filter(aff_edge._c1.contains('2165709822'))\n",
    "\n",
    "#aff_edge2.sort('affiliationId').show(50, truncate=False) \n",
    "\n",
    "\n",
    "aff_edge2.show(50)\n",
    "    \n",
    "    \n",
    "#aff_edge.show(5, truncate=False)                                       "
   ]
  },
  {
   "cell_type": "code",
   "execution_count": 6,
   "metadata": {},
   "outputs": [
    {
     "name": "stdout",
     "output_type": "stream",
     "text": [
      "+----------+-------------+\n",
      "|authorId  |affiliationId|\n",
      "+----------+-------------+\n",
      "|2165709822|116067653    |\n",
      "|2165709822|116067653    |\n",
      "|2165709822|116067653    |\n",
      "|2165709822|116067653    |\n",
      "|2165709822|116067653    |\n",
      "|2165709822|116067653    |\n",
      "|2165709822|116067653    |\n",
      "|2165709822|116067653    |\n",
      "|2165709822|116067653    |\n",
      "|2165709822|116067653    |\n",
      "|2165709822|116067653    |\n",
      "|2165709822|116067653    |\n",
      "|2165709822|116067653    |\n",
      "|2165709822|116067653    |\n",
      "|2165709822|116067653    |\n",
      "|2165709822|116067653    |\n",
      "|2165709822|116067653    |\n",
      "|2165709822|116067653    |\n",
      "|2165709822|116067653    |\n",
      "|2165709822|116067653    |\n",
      "|2165709822|116067653    |\n",
      "|2165709822|116067653    |\n",
      "|2165709822|116067653    |\n",
      "|2165709822|116067653    |\n",
      "|2165709822|116067653    |\n",
      "|2165709822|116067653    |\n",
      "|2165709822|116067653    |\n",
      "|2165709822|116067653    |\n",
      "|2165709822|116067653    |\n",
      "|2165709822|116067653    |\n",
      "|2165709822|116067653    |\n",
      "|2165709822|116067653    |\n",
      "|2165709822|116067653    |\n",
      "|2165709822|116067653    |\n",
      "|2165709822|116067653    |\n",
      "|2165709822|116067653    |\n",
      "|2165709822|116067653    |\n",
      "|2165709822|116067653    |\n",
      "|2165709822|116067653    |\n",
      "|2165709822|116067653    |\n",
      "|2165709822|116067653    |\n",
      "|2165709822|116067653    |\n",
      "|2165709822|116067653    |\n",
      "|2165709822|116067653    |\n",
      "|2165709822|116067653    |\n",
      "|2165709822|116067653    |\n",
      "|2165709822|116067653    |\n",
      "|2165709822|116067653    |\n",
      "|2165709822|116067653    |\n",
      "|2165709822|116067653    |\n",
      "+----------+-------------+\n",
      "only showing top 50 rows\n",
      "\n",
      "+----------+-------------+\n",
      "|  authorId|affiliationId|\n",
      "+----------+-------------+\n",
      "|2165709822|    116067653|\n",
      "|2165709822|    116067653|\n",
      "|2165709822|    116067653|\n",
      "|2165709822|    116067653|\n",
      "|2165709822|    116067653|\n",
      "+----------+-------------+\n",
      "only showing top 5 rows\n",
      "\n"
     ]
    }
   ],
   "source": [
    "affiliated_with = paa.select(paa._c1.cast(\"string\").alias(\"authorId\"),\n",
    "                             paa._c2.cast(\"string\").alias(\"affiliationId\"))\n",
    "\n",
    "affiliated_with = affiliated_with.na.drop()\n",
    "\n",
    "\n"
   ]
  },
  {
   "cell_type": "code",
   "execution_count": 6,
   "metadata": {},
   "outputs": [
    {
     "name": "stdout",
     "output_type": "stream",
     "text": [
      "CPU times: user 32.8 ms, sys: 16.9 ms, total: 49.7 ms\n",
      "Wall time: 2min 57s\n"
     ]
    }
   ],
   "source": [
    "%%time\n",
    "\n",
    "affiliated_with.coalesce(10).write.option(\"header\",\"true\") \\\n",
    "                               .option(\"sep\",\"\\t\") \\\n",
    "                               .option(\"quoteAll\", False) \\\n",
    "                               .option(\"emptyValue\", None) \\\n",
    "                               .option(\"nullValue\", None) \\\n",
    "                               .mode(\"overwrite\") \\\n",
    "                               .csv('/N/project/mag/mag_jg_2021_update/edges/affiliated_with')  "
   ]
  }
 ],
 "metadata": {
  "kernelspec": {
   "display_name": "Python 3",
   "language": "python",
   "name": "python3"
  },
  "language_info": {
   "codemirror_mode": {
    "name": "ipython",
    "version": 3
   },
   "file_extension": ".py",
   "mimetype": "text/x-python",
   "name": "python",
   "nbconvert_exporter": "python",
   "pygments_lexer": "ipython3",
   "version": "3.6.8"
  }
 },
 "nbformat": 4,
 "nbformat_minor": 2
}
