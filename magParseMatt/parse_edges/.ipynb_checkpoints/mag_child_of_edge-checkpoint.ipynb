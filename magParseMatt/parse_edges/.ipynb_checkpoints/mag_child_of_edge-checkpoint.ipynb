{
 "cells": [
  {
   "cell_type": "code",
   "execution_count": 3,
   "metadata": {},
   "outputs": [],
   "source": [
    "from pyspark.sql import SparkSession\n",
    "from pyspark.sql.functions import to_timestamp, col, lower, regexp_replace, split\n",
    "\n",
    "spark= SparkSession.builder.config('spark.ui.port','4040').getOrCreate()"
   ]
  },
  {
   "cell_type": "code",
   "execution_count": 2,
   "metadata": {},
   "outputs": [
    {
     "name": "stdout",
     "output_type": "stream",
     "text": [
      "+-----+---------+\n",
      "|  _c0|      _c1|\n",
      "+-----+---------+\n",
      "| 4250|139676723|\n",
      "|12843|  8105449|\n",
      "|12843| 71383303|\n",
      "|12843|105805003|\n",
      "|12843|112019140|\n",
      "+-----+---------+\n",
      "only showing top 5 rows\n",
      "\n"
     ]
    }
   ],
   "source": [
    "fsc = spark.read.csv(\"file:///N/project/mag/mag-2021-01-05/advanced/FieldOfStudyChildren.txt\",\\\n",
    "                         header = False,\\\n",
    "                         sep=r'\\t')\n",
    "\n",
    "fsc.show(5)"
   ]
  },
  {
   "cell_type": "code",
   "execution_count": 6,
   "metadata": {},
   "outputs": [
    {
     "name": "stdout",
     "output_type": "stream",
     "text": [
      "+-----------+----------+\n",
      "|fosParentId|fosChildId|\n",
      "+-----------+----------+\n",
      "|       4250| 139676723|\n",
      "|      12843|   8105449|\n",
      "|      12843|  71383303|\n",
      "|      12843| 105805003|\n",
      "|      12843| 112019140|\n",
      "+-----------+----------+\n",
      "only showing top 5 rows\n",
      "\n"
     ]
    }
   ],
   "source": [
    "child_of = fsc.select(fsc._c0.cast(\"int\").alias(\"fosParentId\"),\n",
    "                      fsc._c1.cast(\"int\").alias(\"fosChildId\"))\n",
    "\n",
    "child_of = child_of.na.drop()\n",
    "\n",
    "child_of.show(5)"
   ]
  },
  {
   "cell_type": "code",
   "execution_count": null,
   "metadata": {},
   "outputs": [],
   "source": [
    "child_of.coalesce(10).write.option(\"header\",\"true\") \\\n",
    "                               .option(\"sep\",\"~\") \\\n",
    "                               .option(\"quoteAll\", True) \\\n",
    "                               .mode(\"overwrite\") \\\n",
    "                               .csv('/N/project/mag/mag_jg_2021_update/edges/child_of')  "
   ]
  }
 ],
 "metadata": {
  "kernelspec": {
   "display_name": "Python 3",
   "language": "python",
   "name": "python3"
  },
  "language_info": {
   "codemirror_mode": {
    "name": "ipython",
    "version": 3
   },
   "file_extension": ".py",
   "mimetype": "text/x-python",
   "name": "python",
   "nbconvert_exporter": "python",
   "pygments_lexer": "ipython3",
   "version": "3.6.8"
  }
 },
 "nbformat": 4,
 "nbformat_minor": 2
}
