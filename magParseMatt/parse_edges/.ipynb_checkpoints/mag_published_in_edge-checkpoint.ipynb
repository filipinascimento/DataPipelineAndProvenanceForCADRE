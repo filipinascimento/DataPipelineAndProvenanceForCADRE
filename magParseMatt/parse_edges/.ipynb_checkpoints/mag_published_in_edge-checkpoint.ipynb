{
 "cells": [
  {
   "cell_type": "code",
   "execution_count": 2,
   "metadata": {},
   "outputs": [],
   "source": [
    "from pyspark.sql import SparkSession\n",
    "from pyspark.sql.functions import to_timestamp, col, lower, regexp_replace, split\n",
    "\n",
    "spark= SparkSession.builder.config('spark.ui.port','4040').getOrCreate()"
   ]
  },
  {
   "cell_type": "code",
   "execution_count": 4,
   "metadata": {},
   "outputs": [],
   "source": [
    "paper = spark.read.csv(\"file:///N/project/mag/mag-2021-01-05/mag/Papers.txt\",\\\n",
    "                         header = False,\\\n",
    "                         sep=r'\\t')"
   ]
  },
  {
   "cell_type": "code",
   "execution_count": 8,
   "metadata": {},
   "outputs": [
    {
     "name": "stdout",
     "output_type": "stream",
     "text": [
      "+----------+----------+\n",
      "|   paperId| journalId|\n",
      "+----------+----------+\n",
      "|   2789336| 204851967|\n",
      "|   9552966|2737568815|\n",
      "|  23032558|2755313529|\n",
      "|  26755577|2765032009|\n",
      "|  33698157| 105208853|\n",
      "|  35428871| 201609156|\n",
      "|2071784645|  22656279|\n",
      "|  47457668|   4362743|\n",
      "|  55534668|    985303|\n",
      "|  62531800|2898246533|\n",
      "+----------+----------+\n",
      "only showing top 10 rows\n",
      "\n"
     ]
    }
   ],
   "source": [
    "published_in = paper.select(paper._c0.cast(\"int\").alias(\"paperId\"),\n",
    "                            paper._c11.cast(\"string\").alias(\"journalId\")\n",
    ")\n",
    "\n",
    "published_in = published_in.na.drop()\n",
    "\n",
    "published_in.show(10)"
   ]
  },
  {
   "cell_type": "code",
   "execution_count": null,
   "metadata": {},
   "outputs": [],
   "source": [
    "published_in.coalesce(10).write.option(\"header\",\"true\") \\\n",
    "                               .option(\"sep\",\"~\") \\\n",
    "                               .option(\"quoteAll\", True) \\\n",
    "                               .mode(\"overwrite\") \\\n",
    "                               .csv('/N/project/mag/mag_jg_2021_update/edges/published_in')  "
   ]
  }
 ],
 "metadata": {
  "kernelspec": {
   "display_name": "Python 3",
   "language": "python",
   "name": "python3"
  },
  "language_info": {
   "codemirror_mode": {
    "name": "ipython",
    "version": 3
   },
   "file_extension": ".py",
   "mimetype": "text/x-python",
   "name": "python",
   "nbconvert_exporter": "python",
   "pygments_lexer": "ipython3",
   "version": "3.6.8"
  }
 },
 "nbformat": 4,
 "nbformat_minor": 2
}
