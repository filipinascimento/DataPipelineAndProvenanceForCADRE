{
 "cells": [
  {
   "cell_type": "code",
   "execution_count": 1,
   "metadata": {},
   "outputs": [],
   "source": [
    "from pyspark.sql import SparkSession\n",
    "from pyspark.sql.functions import to_timestamp, col, lower, regexp_replace, split\n",
    "\n",
    "spark= SparkSession.builder.config('spark.ui.port','4040').getOrCreate()"
   ]
  },
  {
   "cell_type": "code",
   "execution_count": 2,
   "metadata": {},
   "outputs": [],
   "source": [
    "conf_inst = spark.read.csv(\"file:///N/project/mag/mag-2021-01-05/mag/ConferenceInstances.txt\",\\\n",
    "                         header = False,\\\n",
    "                         sep=r'\\t')"
   ]
  },
  {
   "cell_type": "code",
   "execution_count": 4,
   "metadata": {},
   "outputs": [
    {
     "name": "stdout",
     "output_type": "stream",
     "text": [
      "+--------------------+------------------+\n",
      "|conferenceInstanceId|conferenceSeriesId|\n",
      "+--------------------+------------------+\n",
      "|            15420687|        1128239323|\n",
      "|            18230910|        1128894334|\n",
      "|            31227610|        1190350587|\n",
      "|            44720736|        1135681269|\n",
      "|            59954559|        1180161503|\n",
      "|            68472377|        1142184186|\n",
      "|            82659484|        1190088697|\n",
      "|           117819942|        1179516875|\n",
      "|           126152135|        1189460273|\n",
      "|           126949542|        1142381819|\n",
      "+--------------------+------------------+\n",
      "only showing top 10 rows\n",
      "\n"
     ]
    }
   ],
   "source": [
    "instance_of = conf_inst.select(\n",
    "                               conf_inst._c0.cast(\"int\").alias(\"conferenceInstanceId\"),\n",
    "                               conf_inst._c3.cast(\"int\").alias(\"conferenceSeriesId\")\n",
    ")\n",
    "\n",
    "\n",
    "instance_of = instance_of.na.drop()\n",
    "\n",
    "instance_of.show(10)"
   ]
  },
  {
   "cell_type": "code",
   "execution_count": null,
   "metadata": {},
   "outputs": [],
   "source": [
    "instance_of.coalesce(10).write.option(\"header\",\"true\") \\\n",
    "                               .option(\"sep\",\"~\") \\\n",
    "                               .option(\"quoteAll\", True) \\\n",
    "                               .mode(\"overwrite\") \\\n",
    "                               .csv('/N/project/mag/mag_jg_2021_update/edges/instance_of')               "
   ]
  }
 ],
 "metadata": {
  "kernelspec": {
   "display_name": "Python 3",
   "language": "python",
   "name": "python3"
  },
  "language_info": {
   "codemirror_mode": {
    "name": "ipython",
    "version": 3
   },
   "file_extension": ".py",
   "mimetype": "text/x-python",
   "name": "python",
   "nbconvert_exporter": "python",
   "pygments_lexer": "ipython3",
   "version": "3.6.8"
  }
 },
 "nbformat": 4,
 "nbformat_minor": 2
}
