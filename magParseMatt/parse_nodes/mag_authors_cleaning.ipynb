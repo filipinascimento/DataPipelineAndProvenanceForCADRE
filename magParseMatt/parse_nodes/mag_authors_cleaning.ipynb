{
 "cells": [
  {
   "cell_type": "code",
   "execution_count": 1,
   "metadata": {},
   "outputs": [],
   "source": [
    "from pyspark.sql import SparkSession\n",
    "from pyspark.sql.functions import to_timestamp, col, lower, regexp_replace, split, to_date\n",
    "spark= SparkSession.builder.config('spark.ui.port','4040').getOrCreate()"
   ]
  },
  {
   "cell_type": "code",
   "execution_count": 21,
   "metadata": {},
   "outputs": [
    {
     "name": "stdout",
     "output_type": "stream",
     "text": [
      "root\n",
      " |-- _c0: string (nullable = true)\n",
      " |-- _c1: string (nullable = true)\n",
      " |-- _c2: string (nullable = true)\n",
      " |-- _c3: string (nullable = true)\n",
      " |-- _c4: string (nullable = true)\n",
      " |-- _c5: string (nullable = true)\n",
      " |-- _c6: string (nullable = true)\n",
      " |-- _c7: string (nullable = true)\n",
      " |-- _c8: string (nullable = true)\n",
      "\n",
      "+----+-----+--------------------+--------------------+---------+---+---+---+----------+\n",
      "| _c0|  _c1|                 _c2|                 _c3|      _c4|_c5|_c6|_c7|       _c8|\n",
      "+----+-----+--------------------+--------------------+---------+---+---+---+----------+\n",
      "| 584|19419|gozde ozdikmenlid...|Gözde Özdikmenli-...| 79946792|  5|  5| 11|2016-06-24|\n",
      "| 859|19820|           gy tolmar|          Gy. Tolmár|     null|  3|  3|  2|2016-06-24|\n",
      "| 978|17891|      ximena faundez|      Ximena Faúndez|149744451| 19| 19| 62|2016-06-24|\n",
      "|1139|19630|      jennifer putzi|      Jennifer Putzi|     null|  4|  4|  6|2016-06-24|\n",
      "|1476|21131|           勲矢 手島|           勲矢 手島|     null|  1|  1|  0|2016-06-24|\n",
      "+----+-----+--------------------+--------------------+---------+---+---+---+----------+\n",
      "only showing top 5 rows\n",
      "\n"
     ]
    }
   ],
   "source": [
    "authors = spark.read.csv(\"file:///N/project/mag/mag-2021-01-05/mag/Authors.txt\",\\\n",
    "                         header = False,\\\n",
    "                         sep=r'\\t')\n",
    "authors.printSchema()\n",
    "authors.show(5)"
   ]
  },
  {
   "cell_type": "code",
   "execution_count": 22,
   "metadata": {},
   "outputs": [],
   "source": [
    "def clean_text(c):\n",
    "  c = regexp_replace(c, '\"' , '')\n",
    "  c = regexp_replace(c, '\\\\\\\\' , '')\n",
    "  #c = regexp_replace(c, \"(https?\\://)\\S+\", \"\")\n",
    "  #c = regexp_replace(c, \"[^a-zA-Z0-9\\\\s]\", \"\")\n",
    "  #c = split(c, \"\\\\s+\") tokenization...\n",
    "  return c"
   ]
  },
  {
   "cell_type": "code",
   "execution_count": 23,
   "metadata": {},
   "outputs": [],
   "source": [
    "authors = authors.select(\n",
    "    authors._c0.cast(\"string\").alias(\"authorId\"),\n",
    "    authors._c1.cast(\"int\").alias(\"rank\"),\n",
    "    authors._c2.cast(\"string\").alias(\"normalizedName\"),\n",
    "    clean_text(col(\"_c3\")).alias(\"displayName\"),\n",
    "    authors._c4.cast(\"string\").alias(\"lastKnownAffiliationId\"),\n",
    "    authors._c5.cast(\"int\").alias(\"paperCount\"),\n",
    "    authors._c7.cast(\"int\").alias(\"citationCount\"), \n",
    "    to_date(authors._c8, \"yyyy-MM-dd\").alias(\"createdDate\")\n",
    "    )"
   ]
  },
  {
   "cell_type": "code",
   "execution_count": 24,
   "metadata": {},
   "outputs": [],
   "source": [
    "authors = authors.select(\n",
    "        authors.authorId,\n",
    "        authors.rank,\n",
    "        authors.normalizedName, \n",
    "        authors.displayName, \n",
    "        authors.lastKnownAffiliationId, \n",
    "        authors.paperCount, \n",
    "        authors.citationCount, \n",
    "        clean_text(col(\"createdDate\")).alias(\"createdDate\")\n",
    "    )"
   ]
  },
  {
   "cell_type": "code",
   "execution_count": 5,
   "metadata": {},
   "outputs": [],
   "source": [
    "#authors.printSchema()"
   ]
  },
  {
   "cell_type": "code",
   "execution_count": 6,
   "metadata": {},
   "outputs": [],
   "source": [
    "#authors.show(10)"
   ]
  },
  {
   "cell_type": "code",
   "execution_count": 25,
   "metadata": {},
   "outputs": [
    {
     "name": "stdout",
     "output_type": "stream",
     "text": [
      "CPU times: user 36 ms, sys: 24.2 ms, total: 60.2 ms\n",
      "Wall time: 2min 56s\n"
     ]
    }
   ],
   "source": [
    "%%time\n",
    "\n",
    "authors.coalesce(64).write.option(\"header\",\"true\") \\\n",
    "                          .option(\"sep\",\"\\t\") \\\n",
    "                          .option(\"quoteAll\", False) \\\n",
    "                          .option(\"emptyValue\", None) \\\n",
    "                          .option(\"nullValue\", None)\\\n",
    "                          .mode(\"overwrite\") \\\n",
    "                          .csv('/N/project/mag/mag_jg_2021_update/nodes/authors') "
   ]
  }
 ],
 "metadata": {
  "kernelspec": {
   "display_name": "Python 3",
   "language": "python",
   "name": "python3"
  },
  "language_info": {
   "codemirror_mode": {
    "name": "ipython",
    "version": 3
   },
   "file_extension": ".py",
   "mimetype": "text/x-python",
   "name": "python",
   "nbconvert_exporter": "python",
   "pygments_lexer": "ipython3",
   "version": "3.6.8"
  }
 },
 "nbformat": 4,
 "nbformat_minor": 2
}
