{
 "cells": [
  {
   "cell_type": "code",
   "execution_count": 1,
   "metadata": {},
   "outputs": [],
   "source": [
    "from pyspark.sql import SparkSession\n",
    "from pyspark.sql.functions import to_timestamp, col, lower, regexp_replace, split, to_date"
   ]
  },
  {
   "cell_type": "code",
   "execution_count": 2,
   "metadata": {},
   "outputs": [],
   "source": [
    "spark= SparkSession.builder.config('spark.ui.port','4040').getOrCreate()"
   ]
  },
  {
   "cell_type": "code",
   "execution_count": 34,
   "metadata": {},
   "outputs": [],
   "source": [
    "affiliations = spark.read.csv(\"file:///N/project/mag/mag-2021-01-05/mag/Affiliations.txt\",\\\n",
    "                         header = False,\\\n",
    "                         sep=r'\\t')\n",
    "#affiliations.show(5)"
   ]
  },
  {
   "cell_type": "code",
   "execution_count": 35,
   "metadata": {},
   "outputs": [],
   "source": [
    "def clean_text(c):\n",
    "  c = regexp_replace(c, '\"' , '')\n",
    "  c = regexp_replace(c, '\\\\\\\\' , '')\n",
    "  #c = regexp_replace(c, \"(https?\\://)\\S+\", \"\")\n",
    "  #c = regexp_replace(c, \"[^a-zA-Z0-9\\\\s]\", \"\")\n",
    "  #c = split(c, \"\\\\s+\") tokenization...\n",
    "  return c"
   ]
  },
  {
   "cell_type": "code",
   "execution_count": 36,
   "metadata": {},
   "outputs": [],
   "source": [
    "affiliations = affiliations.select(\n",
    "                                   affiliations._c0.cast(\"string\").alias(\"affiliationId\"),\n",
    "                                   affiliations._c1.cast(\"int\").alias(\"rank\"),\n",
    "                                   affiliations._c2.cast(\"string\").alias(\"normalizedName\"),\n",
    "                                   clean_text(col(\"_c3\")).alias(\"displayName\"),\n",
    "                                   affiliations._c4.cast(\"string\").alias(\"gridId\"),\n",
    "                                   clean_text(col(\"_c5\")).alias(\"officialPage\"),\n",
    "                                   clean_text(col(\"_c6\")).alias(\"wikiPage\"),\n",
    "                                   affiliations._c7.cast(\"int\").alias(\"paperCount\"),\n",
    "                                   affiliations._c8.cast(\"int\").alias(\"paperFamilyCount\"),\n",
    "                                   affiliations._c9.cast(\"float\").alias(\"citationCount\"),\n",
    "                                   affiliations._c10.alias(\"iso3166Code\"),\n",
    "                                   affiliations._c11.cast(\"float\").alias(\"latitude\"),\n",
    "                                   affiliations._c12.cast(\"float\").alias(\"longitude\"),\n",
    "                                   to_date(affiliations._c13, \"yyyy-MM-dd\").alias(\"createdDate\")\n",
    "                                  )\n",
    "#affiliations.show(10)"
   ]
  },
  {
   "cell_type": "code",
   "execution_count": 37,
   "metadata": {},
   "outputs": [
    {
     "name": "stdout",
     "output_type": "stream",
     "text": [
      "CPU times: user 3.39 ms, sys: 3.31 ms, total: 6.7 ms\n",
      "Wall time: 961 ms\n"
     ]
    }
   ],
   "source": [
    "%%time\n",
    "\n",
    "affiliations.coalesce(8).write.option(\"header\",\"True\") \\\n",
    "                               .option(\"sep\",\"\\t\") \\\n",
    "                               .option(\"quoteAll\", False) \\\n",
    "                               .option(\"emptyValue\", None) \\\n",
    "                               .option(\"nullValue\", None)\\\n",
    "                               .mode(\"overwrite\") \\\n",
    "                               .csv('/N/project/mag/mag_jg_2021_update/nodes/affiliations')"
   ]
  }
 ],
 "metadata": {
  "kernelspec": {
   "display_name": "Python 3",
   "language": "python",
   "name": "python3"
  },
  "language_info": {
   "codemirror_mode": {
    "name": "ipython",
    "version": 3
   },
   "file_extension": ".py",
   "mimetype": "text/x-python",
   "name": "python",
   "nbconvert_exporter": "python",
   "pygments_lexer": "ipython3",
   "version": "3.6.8"
  }
 },
 "nbformat": 4,
 "nbformat_minor": 2
}
