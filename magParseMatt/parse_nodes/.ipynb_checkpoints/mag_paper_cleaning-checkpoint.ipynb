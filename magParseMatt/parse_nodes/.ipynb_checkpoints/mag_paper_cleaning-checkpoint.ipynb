{
 "cells": [
  {
   "cell_type": "code",
   "execution_count": 7,
   "metadata": {},
   "outputs": [],
   "source": [
    "from pyspark.sql import SparkSession\n",
    "from pyspark.sql.functions import to_timestamp, col, lower, regexp_replace, split, to_date, translate\n",
    "\n",
    "spark= SparkSession.builder.config('spark.ui.port','4040').getOrCreate()"
   ]
  },
  {
   "cell_type": "code",
   "execution_count": 37,
   "metadata": {},
   "outputs": [],
   "source": [
    "paper = spark.read.csv(\"file:///N/project/mag/mag-2021-01-05/mag/Papers.txt\",\\\n",
    "                         header = False,\\\n",
    "                         sep=r'\\t')\n",
    "#paper.show(5)"
   ]
  },
  {
   "cell_type": "code",
   "execution_count": null,
   "metadata": {},
   "outputs": [],
   "source": [
    "def clean_text(c):\n",
    "  c = regexp_replace(c, '\"' , '')\n",
    "  c = regexp_replace(c, '\\\\\\\\' , '')\n",
    "  #c = regexp_replace(c, \"(https?\\://)\\S+\", \"\")\n",
    "  c = regexp_replace(c, '$s/\"//g', '')\n",
    "  #c = regexp_replace(c, \"[^a-zA-Z0-9\\\\s]\", \"\")\n",
    "  #c = split(c, \"\\\\s+\") tokenization...\n",
    "  c = regexp(c, \"([0-9]+\\.{0,1}[0-9]*)\")\n",
    "  return c"
   ]
  },
  {
   "cell_type": "code",
   "execution_count": 35,
   "metadata": {},
   "outputs": [],
   "source": [
    "paper = paper.select(\n",
    "                     paper._c0.cast(\"string\").alias(\"paperId\"),\n",
    "                     paper._c1.cast(\"int\").alias(\"rank\"),\n",
    "                     paper._c2.cast(\"string\").alias(\"doi\"),\n",
    "                     paper._c3.cast(\"string\").alias(\"docType\"),\n",
    "                     paper._c4.cast(\"string\").alias(\"paperTitle\"),\n",
    "                     clean_text(col(\"_c5\")).alias(\"originalTitle\"),\n",
    "                     clean_text(col(\"_c6\")).alias(\"bookTitle\"),\n",
    "                     paper._c7.cast(\"int\").alias(\"year\"),\n",
    "                     to_date(paper._c8, \"yyyy-MM-dd\").alias(\"Date\"),\n",
    "                     paper._c9.cast(\"string\").alias(\"onlineDate\"),\n",
    "                     clean_text(col(\"_c10\")).alias(\"publisher\"),\n",
    "                     clean_text(col(\"_c11\")).alias(\"journalId\"),\n",
    "                     paper._c12.cast(\"string\").alias(\"conferenceSeriesId\"),\n",
    "                     paper._c13.cast(\"string\").alias(\"conferenceInstanceId\"),\n",
    "                     paper._c14.cast(\"string\").alias(\"volume\"),\n",
    "                     paper._c15.cast(\"string\").alias(\"issue\"),\n",
    "                     paper._c16.cast(\"string\").alias(\"firstPage\"),\n",
    "                     paper._c17.cast(\"string\").alias(\"lastPage\"),\n",
    "                     paper._c18.cast(\"int\").alias(\"referenceCount\"),\n",
    "                     paper._c19.cast(\"string\").alias(\"citationCount\"),\n",
    "                     paper._c20.cast(\"string\").alias(\"estimatedCitation\"),\n",
    "                     clean_text(col(\"_c21\")).alias(\"originalVenue\"),\n",
    "                     paper._c22.cast(\"string\").alias(\"familyId\"),\n",
    "                     paper._c23.cast(\"string\").alias(\"familyRank\"),\n",
    "                     to_date(paper._c24, \"yyyy-MM-dd\").alias(\"createdDate\")  \n",
    ")   "
   ]
  },
  {
   "cell_type": "code",
   "execution_count": 23,
   "metadata": {},
   "outputs": [
    {
     "name": "stdout",
     "output_type": "stream",
     "text": [
      "+----------+-----+--------------------+-------+--------------------+--------------------+---------+----+----------+----------+---------+----------+------------------+--------------------+------+-----+---------+--------+--------------+-------------+-----------------+--------------------+--------+----------+-----------+\n",
      "|   paperId| rank|                 doi|docType|          paperTitle|       originalTitle|bookTitle|year|      Date|onlineDate|publisher| journalId|conferenceSeriesId|conferenceInstanceId|volume|issue|firstPage|lastPage|referenceCount|citationCount|estimatedCitation|       originalVenue|familyId|familyRank|createdDate|\n",
      "+----------+-----+--------------------+-------+--------------------+--------------------+---------+----+----------+----------+---------+----------+------------------+--------------------+------+-----+---------+--------+--------------+-------------+-----------------+--------------------+--------+----------+-----------+\n",
      "|2906390199|25643|                null|   null|the impact of dif...|The impact of dif...|     null|2004|2004-01-01|      null|    WCTRS|      null|              null|                null|  null| null|     null|    null|             0|            0|                0|10th World Confer...|  760496|     22816| 2019-01-01|\n",
      "|    760496|22878|                null|   null|the impact of dif...|The Impact of Dif...|     null|2004|2004-01-01|      null|    WCTRS|      null|              null|                null|  null| null|     null|    null|             0|            2|                2|10th World Confer...|  760496|     22816| 2016-06-24|\n",
      "|   2789336|23851|                null|Journal|inheritance and p...|Inheritance and P...|      EJC|2008|2008-01-01|      null|     null| 204851967|              null|                null|  null| null|      354|     358|             0|            0|                0|European Journal ...| 2789336|     22645| 2016-06-24|\n",
      "|2257060365|23001|10.3233/978-1-586...|   null|inheritance and p...|Inheritance and P...|     null|2009|2009-07-10|      null|IOS Press|      null|              null|                null|  null| null|      354|     358|            12|            2|                2|Proceedings of th...| 2789336|     22645| 2016-06-24|\n",
      "|   9552966|24089|                null|Journal|the effect of mil...|The effect of mil...|     null|2005|2005-01-01|      null|     null|2737568815|              null|                null|    26|    2|      113|     118|            37|            1|                1|Revista de Ciênci...| 9552966|     23507| 2016-06-24|\n",
      "+----------+-----+--------------------+-------+--------------------+--------------------+---------+----+----------+----------+---------+----------+------------------+--------------------+------+-----+---------+--------+--------------+-------------+-----------------+--------------------+--------+----------+-----------+\n",
      "only showing top 5 rows\n",
      "\n"
     ]
    }
   ],
   "source": [
    "#paper.withColumn('paperTitle', translate('paperTitle', '\"', ''))\n",
    "#paper.withColumn('originalTitle', translate('originalTitle', '\"', ''))\n",
    "#paper.withColumn('publisher', translate('publisher', '\"', ''))\n",
    "#paper.withColumn('originalVenue', translate('originalVenue', '\"', ''))\n",
    "paper.withColumn('createdDate', translate('createdDate', '\"', ''))\n",
    "#paper.show(5)"
   ]
  },
  {
   "cell_type": "code",
   "execution_count": 36,
   "metadata": {},
   "outputs": [
    {
     "name": "stdout",
     "output_type": "stream",
     "text": [
      "CPU times: user 71.9 ms, sys: 33.4 ms, total: 105 ms\n",
      "Wall time: 6min 59s\n"
     ]
    }
   ],
   "source": [
    "%%time\n",
    "\n",
    "paper.coalesce(64).write.option(\"header\",\"true\") \\\n",
    "                               .option(\"sep\",\"\\t\") \\\n",
    "                               .option(\"quoteAll\", False) \\\n",
    "                               .option(\"emptyValue\", None) \\\n",
    "                               .option(\"nullValue\", None) \\\n",
    "                               .mode(\"overwrite\") \\\n",
    "                               .csv('/N/project/mag/mag_jg_2021_update/nodes/papers')               "
   ]
  }
 ],
 "metadata": {
  "kernelspec": {
   "display_name": "Python 3",
   "language": "python",
   "name": "python3"
  },
  "language_info": {
   "codemirror_mode": {
    "name": "ipython",
    "version": 3
   },
   "file_extension": ".py",
   "mimetype": "text/x-python",
   "name": "python",
   "nbconvert_exporter": "python",
   "pygments_lexer": "ipython3",
   "version": "3.6.8"
  }
 },
 "nbformat": 4,
 "nbformat_minor": 2
}
