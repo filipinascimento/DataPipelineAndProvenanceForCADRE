{
 "cells": [
  {
   "cell_type": "code",
   "execution_count": 1,
   "metadata": {},
   "outputs": [],
   "source": [
    "from pyspark.sql import SparkSession\n",
    "from pyspark.sql.functions import to_timestamp, col, lower, regexp_replace, split, to_date\n",
    "spark= SparkSession.builder.config('spark.ui.port','4040').getOrCreate()"
   ]
  },
  {
   "cell_type": "code",
   "execution_count": 2,
   "metadata": {},
   "outputs": [],
   "source": [
    "authors = spark.read.csv(\"file:///N/project/mag/mag-2021-01-05/mag/Authors.txt\",\\\n",
    "                         header = False,\\\n",
    "                         sep=r'\\t')\n",
    "#authors.printSchema()"
   ]
  },
  {
   "cell_type": "code",
   "execution_count": 3,
   "metadata": {},
   "outputs": [],
   "source": [
    "def clean_text(c):\n",
    "  c = lower(c)\n",
    "  c = regexp_replace(c, \"^rt \", \"\")\n",
    "  c = regexp_replace(c, \"(https?\\://)\\S+\", \"\")\n",
    "  c = regexp_replace(c, \"[^a-zA-Z0-9\\\\s]\", \"\")\n",
    "  #c = split(c, \"\\\\s+\") tokenization...\n",
    "  return c"
   ]
  },
  {
   "cell_type": "code",
   "execution_count": 4,
   "metadata": {},
   "outputs": [],
   "source": [
    "authors = authors.select(\n",
    "        authors._c0.cast(\"string\").alias(\"authorId\"),\n",
    "        authors._c1.cast(\"int\").alias(\"rank\"),\n",
    "        clean_text(col(\"_c3\")).alias(\"displayName\"),\n",
    "        authors._c2.cast(\"string\").alias(\"normalizedName\"),\n",
    "        authors._c4.cast(\"string\").alias(\"lastKnownAffiliationId\"),\n",
    "        authors._c5.cast(\"int\").alias(\"paperCount\"),\n",
    "        authors._c7.cast(\"int\").alias(\"citationCount\"), \n",
    "        to_date(authors._c8, \"yyyy-MM-dd\").alias(\"createdDate\")\n",
    "        )"
   ]
  },
  {
   "cell_type": "code",
   "execution_count": 5,
   "metadata": {},
   "outputs": [],
   "source": [
    "#authors.printSchema()"
   ]
  },
  {
   "cell_type": "code",
   "execution_count": 6,
   "metadata": {},
   "outputs": [],
   "source": [
    "#authors.show(10)"
   ]
  },
  {
   "cell_type": "code",
   "execution_count": 5,
   "metadata": {},
   "outputs": [
    {
     "name": "stdout",
     "output_type": "stream",
     "text": [
      "CPU times: user 44.6 ms, sys: 18.5 ms, total: 63.1 ms\n",
      "Wall time: 2min 59s\n"
     ]
    }
   ],
   "source": [
    "%%time\n",
    "\n",
    "authors.coalesce(64).write.option(\"header\",\"true\") \\\n",
    "                          .option(\"sep\",\"\\t\") \\\n",
    "                          .option(\"quoteAll\", False) \\\n",
    "                          .mode(\"overwrite\") \\\n",
    "                          .option(\"treatEmptyValuesAsNulls\", \"false\") \\\n",
    "                          .csv('/N/project/mag/mag_jg_2021_update/nodes/authors') "
   ]
  }
 ],
 "metadata": {
  "kernelspec": {
   "display_name": "Python 3",
   "language": "python",
   "name": "python3"
  },
  "language_info": {
   "codemirror_mode": {
    "name": "ipython",
    "version": 3
   },
   "file_extension": ".py",
   "mimetype": "text/x-python",
   "name": "python",
   "nbconvert_exporter": "python",
   "pygments_lexer": "ipython3",
   "version": "3.6.8"
  }
 },
 "nbformat": 4,
 "nbformat_minor": 2
}
