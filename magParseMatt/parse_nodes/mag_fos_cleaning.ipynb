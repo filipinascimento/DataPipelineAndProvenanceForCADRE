{
 "cells": [
  {
   "cell_type": "code",
   "execution_count": 1,
   "metadata": {},
   "outputs": [],
   "source": [
    "from pyspark.sql import SparkSession\n",
    "from pyspark.sql.functions import to_timestamp, col, lower, regexp_replace, split, to_date\n",
    "\n",
    "spark= SparkSession.builder.config('spark.ui.port','4040').getOrCreate()"
   ]
  },
  {
   "cell_type": "code",
   "execution_count": 2,
   "metadata": {},
   "outputs": [],
   "source": [
    "fos = spark.read.csv(\"file:///N/project/mag/mag-2021-01-05/advanced/FieldsOfStudy.txt\",\\\n",
    "                         header = False,\\\n",
    "                         sep=r'\\t')\n",
    "#fos.printSchema()"
   ]
  },
  {
   "cell_type": "code",
   "execution_count": 3,
   "metadata": {},
   "outputs": [],
   "source": [
    "def clean_text(c):\n",
    "  c = regexp_replace(c, '\"' , '')\n",
    "  c = regexp_replace(c, '\\\\\\\\' , '')\n",
    "  #c = regexp_replace(c, \"(https?\\://)\\S+\", \"\")\n",
    "  #c = regexp_replace(c, \"[^a-zA-Z0-9\\\\s]\", \"\")\n",
    "  #c = split(c, \"\\\\s+\") tokenization...\n",
    "  return c"
   ]
  },
  {
   "cell_type": "code",
   "execution_count": 5,
   "metadata": {},
   "outputs": [
    {
     "name": "stdout",
     "output_type": "stream",
     "text": [
      "+--------------+-----+--------------------+--------------------+--------+-----+----------+----------------+-------------+-----------+\n",
      "|fieldOfStudyId| rank|      normalizedName|         displayName|mainType|level|paperCount|paperFamilyCount|citationCount|createdDate|\n",
      "+--------------+-----+--------------------+--------------------+--------+-----+----------+----------------+-------------+-----------+\n",
      "|        417682|16758|           night air|           Night air|    null|    2|        99|              99|          576| 2016-06-24|\n",
      "|       1443462|15557|         immobiliser|         Immobiliser|    null|    2|       410|             403|         1178| 2016-06-24|\n",
      "|       1576492|13013|       matrix pencil|       Matrix pencil|    null|    3|      1820|            1777|        26908| 2016-06-24|\n",
      "|       2657588|13530|combinatorial top...|Combinatorial top...|    null|    3|       571|             541|        20917| 2016-06-24|\n",
      "|       3079626| 8569|quantum electrody...|Quantum electrody...|    null|    1|    233364|          226788|      3001657| 2016-06-24|\n",
      "+--------------+-----+--------------------+--------------------+--------+-----+----------+----------------+-------------+-----------+\n",
      "only showing top 5 rows\n",
      "\n"
     ]
    }
   ],
   "source": [
    "fos = fos.select(\n",
    "                 fos._c0.cast(\"string\").alias(\"fieldOfStudyId\"),\n",
    "                 fos._c1.cast(\"string\").alias(\"rank\"),\n",
    "                 fos._c2.cast(\"string\").alias(\"normalizedName\"),   \n",
    "                 clean_text(col(\"_c3\")).alias(\"displayName\"),\n",
    "                 fos._c4.cast(\"string\").alias(\"mainType\"),\n",
    "                 fos._c5.cast(\"int\").alias(\"level\"),\n",
    "                 fos._c6.cast(\"int\").alias(\"paperCount\"),\n",
    "                 fos._c7.cast(\"int\").alias(\"paperFamilyCount\"),\n",
    "                 fos._c8.cast(\"int\").alias(\"citationCount\"),\n",
    "                 to_date(fos._c9, \"yyyy-MM-dd\").alias(\"createdDate\")\n",
    ")\n",
    "fos.show(5)"
   ]
  },
  {
   "cell_type": "code",
   "execution_count": 6,
   "metadata": {},
   "outputs": [
    {
     "name": "stdout",
     "output_type": "stream",
     "text": [
      "CPU times: user 6.06 ms, sys: 3.12 ms, total: 9.18 ms\n",
      "Wall time: 5.89 s\n"
     ]
    }
   ],
   "source": [
    "%%time\n",
    "\n",
    "fos.coalesce(64).write.option(\"header\",\"true\") \\\n",
    "                               .option(\"sep\",\"\\t\") \\\n",
    "                               .option(\"quoteAll\", False) \\\n",
    "                               .option(\"emptyValue\", None) \\\n",
    "                               .option(\"nullValue\", None)\\\n",
    "                               .mode(\"overwrite\") \\\n",
    "                               .csv('/N/project/mag/mag_jg_2021_update/nodes/fos')               "
   ]
  }
 ],
 "metadata": {
  "kernelspec": {
   "display_name": "Python 3",
   "language": "python",
   "name": "python3"
  },
  "language_info": {
   "codemirror_mode": {
    "name": "ipython",
    "version": 3
   },
   "file_extension": ".py",
   "mimetype": "text/x-python",
   "name": "python",
   "nbconvert_exporter": "python",
   "pygments_lexer": "ipython3",
   "version": "3.6.8"
  }
 },
 "nbformat": 4,
 "nbformat_minor": 2
}
