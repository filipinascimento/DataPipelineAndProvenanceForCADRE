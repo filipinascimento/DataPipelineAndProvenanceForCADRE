{
 "cells": [
  {
   "cell_type": "code",
   "execution_count": 7,
   "metadata": {},
   "outputs": [],
   "source": [
    "from pyspark.sql import SparkSession\n",
    "from pyspark.sql.functions import to_timestamp, col, lower, regexp_replace, split, to_date, translate\n",
    "\n",
    "spark= SparkSession.builder.config('spark.ui.port','4040').getOrCreate()"
   ]
  },
  {
   "cell_type": "code",
   "execution_count": 71,
   "metadata": {},
   "outputs": [],
   "source": [
    "paper = spark.read.csv(\"file:///N/project/mag/mag-2021-01-05/mag/Papers.txt\",\\\n",
    "                         header = False,\\\n",
    "                         sep=r'\\t')\n",
    "#paper.show(5)"
   ]
  },
  {
   "cell_type": "code",
   "execution_count": 72,
   "metadata": {},
   "outputs": [],
   "source": [
    "def clean_text(c):\n",
    "  c = regexp_replace(c, '\"' , '')\n",
    "  c = regexp_replace(c, '\\\\\\\\' , '')\n",
    "  #c = regexp_replace(c, \"(https?\\://)\\S+\", \"\")\n",
    "  c = regexp_replace(c, '$s/\"//g', '')\n",
    "  #c = regexp_replace(c, \"[^a-zA-Z0-9\\\\s]\", \"\")\n",
    "  #c = split(c, \"\\\\s+\") tokenization...\n",
    "  #c = regexp_replace(c, \"([\\d\\.]+)\", '')\n",
    "  #c = replace(c, \"\\201C\", '')\n",
    "  return c"
   ]
  },
  {
   "cell_type": "code",
   "execution_count": 73,
   "metadata": {},
   "outputs": [],
   "source": [
    "paper = paper.select(\n",
    "                     paper._c0.cast(\"string\").alias(\"paperId\"),\n",
    "                     paper._c1.cast(\"int\").alias(\"rank\"),\n",
    "                     paper._c2.cast(\"string\").alias(\"doi\"),\n",
    "                     paper._c3.cast(\"string\").alias(\"docType\"),\n",
    "                     paper._c4.cast(\"string\").alias(\"paperTitle\"),\n",
    "                     clean_text(col(\"_c5\")).alias(\"originalTitle\"),\n",
    "                     clean_text(col(\"_c6\")).alias(\"bookTitle\"),\n",
    "                     paper._c7.cast(\"int\").alias(\"year\"),\n",
    "                     to_date(paper._c8, \"yyyy-MM-dd\").alias(\"Date\"),\n",
    "                     paper._c9.cast(\"string\").alias(\"onlineDate\"),\n",
    "                     clean_text(col(\"_c10\")).alias(\"publisher\"),\n",
    "                     clean_text(col(\"_c11\")).alias(\"journalId\"),\n",
    "                     paper._c12.cast(\"string\").alias(\"conferenceSeriesId\"),\n",
    "                     paper._c13.cast(\"string\").alias(\"conferenceInstanceId\"),\n",
    "                     paper._c14.cast(\"string\").alias(\"volume\"),\n",
    "                     paper._c15.cast(\"string\").alias(\"issue\"),\n",
    "                     paper._c16.cast(\"string\").alias(\"firstPage\"),\n",
    "                     paper._c17.cast(\"string\").alias(\"lastPage\"),\n",
    "                     paper._c18.cast(\"int\").alias(\"referenceCount\"),\n",
    "                     paper._c19.cast(\"string\").alias(\"citationCount\"),\n",
    "                     paper._c20.cast(\"string\").alias(\"estimatedCitation\"),\n",
    "                     clean_text(col(\"_c21\")).alias(\"originalVenue\"),\n",
    "                     paper._c22.cast(\"string\").alias(\"familyId\"),\n",
    "                     paper._c23.cast(\"string\").alias(\"familyRank\"),\n",
    "                     to_date(paper._c24, \"yyyy-MM-dd\").alias(\"createdDate\")  \n",
    ")   "
   ]
  },
  {
   "cell_type": "code",
   "execution_count": 74,
   "metadata": {},
   "outputs": [
    {
     "name": "stdout",
     "output_type": "stream",
     "text": [
      "+----------+-----+----+-------+--------------------+--------------------+---------+----+----+----------+---------+---------+------------------+--------------------+------+-----+---------+--------+--------------+-------------+-----------------+-------------+--------+----------+-----------+\n",
      "|   paperId| rank| doi|docType|          paperTitle|       originalTitle|bookTitle|year|Date|onlineDate|publisher|journalId|conferenceSeriesId|conferenceInstanceId|volume|issue|firstPage|lastPage|referenceCount|citationCount|estimatedCitation|originalVenue|familyId|familyRank|createdDate|\n",
      "+----------+-----+----+-------+--------------------+--------------------+---------+----+----+----------+---------+---------+------------------+--------------------+------+-----+---------+--------+--------------+-------------+-----------------+-------------+--------+----------+-----------+\n",
      "|2758718266|28215|null|   null|ossidazione a 900...|Ossidazione a 900...|     null|null|null|      null|     null|     null|              null|                null|  null| null|     null|    null|          null|         null|             null|         null|    null|      null|       null|\n",
      "+----------+-----+----+-------+--------------------+--------------------+---------+----+----+----------+---------+---------+------------------+--------------------+------+-----+---------+--------+--------------+-------------+-----------------+-------------+--------+----------+-----------+\n",
      "\n",
      "CPU times: user 24.1 ms, sys: 19.5 ms, total: 43.5 ms\n",
      "Wall time: 2min 50s\n"
     ]
    }
   ],
   "source": [
    "%%time\n",
    "\n",
    "paper2 = paper.filter(paper.paperId.contains('2758718266'))\n",
    "\n",
    "paper2.show()"
   ]
  },
  {
   "cell_type": "code",
   "execution_count": 75,
   "metadata": {},
   "outputs": [
    {
     "name": "stdout",
     "output_type": "stream",
     "text": [
      "CPU times: user 72.7 ms, sys: 44.5 ms, total: 117 ms\n",
      "Wall time: 7min 23s\n"
     ]
    }
   ],
   "source": [
    "%%time\n",
    "\n",
    "paper.coalesce(64).write.option(\"header\",\"true\") \\\n",
    "                               .option(\"sep\",\"\\t\") \\\n",
    "                               .option(\"quoteAll\", False) \\\n",
    "                               .option(\"emptyValue\", None) \\\n",
    "                               .option(\"nullValue\", None) \\\n",
    "                               .mode(\"overwrite\") \\\n",
    "                               .csv('/N/project/mag/mag_jg_2021_update/nodes/papers')               "
   ]
  }
 ],
 "metadata": {
  "kernelspec": {
   "display_name": "Python 3",
   "language": "python",
   "name": "python3"
  },
  "language_info": {
   "codemirror_mode": {
    "name": "ipython",
    "version": 3
   },
   "file_extension": ".py",
   "mimetype": "text/x-python",
   "name": "python",
   "nbconvert_exporter": "python",
   "pygments_lexer": "ipython3",
   "version": "3.6.8"
  }
 },
 "nbformat": 4,
 "nbformat_minor": 2
}
