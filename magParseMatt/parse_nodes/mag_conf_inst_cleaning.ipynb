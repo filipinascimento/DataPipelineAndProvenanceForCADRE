{
 "cells": [
  {
   "cell_type": "code",
   "execution_count": 3,
   "metadata": {},
   "outputs": [],
   "source": [
    "from pyspark.sql import SparkSession\n",
    "from pyspark.sql.functions import to_timestamp, col, lower, regexp_replace, split, to_date\n",
    "\n",
    "spark= SparkSession.builder.config('spark.ui.port','4040').getOrCreate()"
   ]
  },
  {
   "cell_type": "code",
   "execution_count": 4,
   "metadata": {},
   "outputs": [],
   "source": [
    "conf_inst = spark.read.csv(\"file:///N/project/mag/mag-2021-01-05/mag/ConferenceInstances.txt\",\\\n",
    "                         header = False,\\\n",
    "                         sep=r'\\t')\n",
    "#conf_inst.printSchema()"
   ]
  },
  {
   "cell_type": "code",
   "execution_count": 3,
   "metadata": {},
   "outputs": [],
   "source": [
    "conf_inst_first6 = conf_inst.select(\n",
    "                                  conf_inst._c0.cast(\"string\").alias(\"conferenceInstanceId\"),\n",
    "                                  conf_inst._c1.cast(\"string\").alias(\"normalizedName\"),\n",
    "                                  conf_inst._c2.cast(\"string\").alias(\"displayName\"),\n",
    "                                  conf_inst._c3.cast(\"string\").alias(\"conferenceSeriesId\"),\n",
    "                                  conf_inst._c4.cast(\"string\").alias(\"location\"),\n",
    "                                  conf_inst._c5.cast(\"string\").alias(\"officialUrl\")               \n",
    ")\n",
    "\n",
    "#conf_inst_first6.show(5)"
   ]
  },
  {
   "cell_type": "code",
   "execution_count": 4,
   "metadata": {},
   "outputs": [],
   "source": [
    "conf_inst_second6 = conf_inst.select(\n",
    "                                  to_timestamp(conf_inst._c6, \"yyyy-MM-dd\").alias(\"startDate\"),\n",
    "                                  to_timestamp(conf_inst._c7, \"yyyy-MM-dd\").alias(\"endDate\"),\n",
    "                                  to_timestamp(conf_inst._c8, \"yyyy-MM-dd\").alias(\"abstractRegistrationDate\"),\n",
    "                                  to_timestamp(conf_inst._c9, \"yyyy-MM-dd\").alias(\"submissionDeadlineDate\"),\n",
    "                                  to_timestamp(conf_inst._c10, \"yyyy-MM-dd\").alias(\"notificationDueDate\"),\n",
    "                                  to_timestamp(conf_inst._c11, \"yyyy-MM-dd\").alias(\"finalVersionDueDate\")              \n",
    ")\n",
    "\n",
    "#conf_inst_second6.show(5)"
   ]
  },
  {
   "cell_type": "code",
   "execution_count": 5,
   "metadata": {},
   "outputs": [],
   "source": [
    "conf_inst_third5 = conf_inst.select(\n",
    "                                    conf_inst._c12.cast(\"int\").alias(\"pageCount\"),\n",
    "                                    conf_inst._c13.cast(\"int\").alias(\"paperFamilyCount\"),\n",
    "                                    conf_inst._c14.cast(\"int\").alias(\"citationCount\"),\n",
    "                                    conf_inst._c15.cast(\"float\").alias(\"latitude\"),\n",
    "                                    conf_inst._c16.cast(\"float\").alias(\"longitude\"),\n",
    "                                    to_timestamp(conf_inst._c17, \"yyyy-MM-dd\").alias(\"createdDate\")\n",
    ")\n",
    "\n",
    "#conf_inst_third5.show(5)"
   ]
  },
  {
   "cell_type": "code",
   "execution_count": 5,
   "metadata": {},
   "outputs": [],
   "source": [
    "conf_inst = conf_inst.select(\n",
    "                             conf_inst._c0.cast(\"string\").alias(\"conferenceInstanceId\"),\n",
    "                             conf_inst._c1.cast(\"string\").alias(\"normalizedName\"),\n",
    "                             conf_inst._c2.cast(\"string\").alias(\"displayName\"),\n",
    "                             conf_inst._c3.cast(\"string\").alias(\"conferenceSeriesId\"),\n",
    "                             conf_inst._c4.cast(\"string\").alias(\"location\"),\n",
    "                             conf_inst._c5.cast(\"string\").alias(\"officialUrl\"),\n",
    "                             to_date(conf_inst._c6, \"yyyy-MM-dd\").alias(\"startDate\"),\n",
    "                             to_date(conf_inst._c7, \"yyyy-MM-dd\").alias(\"endDate\"),\n",
    "                             to_date(conf_inst._c8, \"yyyy-MM-dd\").alias(\"abstractRegistrationDate\"),\n",
    "                             to_date(conf_inst._c9, \"yyyy-MM-dd\").alias(\"submissionDeadlineDate\"),\n",
    "                             to_date(conf_inst._c10, \"yyyy-MM-dd\").alias(\"notificationDueDate\"),\n",
    "                             to_date(conf_inst._c11, \"yyyy-MM-dd\").alias(\"finalVersionDueDate\"),\n",
    "                             conf_inst._c12.cast(\"int\").alias(\"pageCount\"),\n",
    "                             conf_inst._c13.cast(\"int\").alias(\"paperFamilyCount\"),\n",
    "                             conf_inst._c14.cast(\"int\").alias(\"citationCount\"),\n",
    "                             conf_inst._c15.cast(\"float\").alias(\"latitude\"),\n",
    "                             conf_inst._c16.cast(\"float\").alias(\"longitude\"),\n",
    "                             to_date(conf_inst._c17, \"yyyy-MM-dd\").alias(\"createdDate\")\n",
    ")\n",
    "\n",
    "#conf_inst.printSchema()"
   ]
  },
  {
   "cell_type": "code",
   "execution_count": 6,
   "metadata": {},
   "outputs": [
    {
     "name": "stdout",
     "output_type": "stream",
     "text": [
      "CPU times: user 3.82 ms, sys: 3.83 ms, total: 7.65 ms\n",
      "Wall time: 2.89 s\n"
     ]
    }
   ],
   "source": [
    "%%time\n",
    "\n",
    "conf_inst.coalesce(64).write.option(\"header\",\"true\") \\\n",
    "                               .option(\"sep\",\"\\t\") \\\n",
    "                               .option(\"quoteAll\", False) \\\n",
    "                               .option(\"emptyValue\", None) \\\n",
    "                               .option(\"nullValue\", None)\\\n",
    "                               .mode(\"overwrite\") \\\n",
    "                               .csv('/N/project/mag/mag_jg_2021_update/nodes/conf_inst')               "
   ]
  }
 ],
 "metadata": {
  "kernelspec": {
   "display_name": "Python 3",
   "language": "python",
   "name": "python3"
  },
  "language_info": {
   "codemirror_mode": {
    "name": "ipython",
    "version": 3
   },
   "file_extension": ".py",
   "mimetype": "text/x-python",
   "name": "python",
   "nbconvert_exporter": "python",
   "pygments_lexer": "ipython3",
   "version": "3.6.8"
  }
 },
 "nbformat": 4,
 "nbformat_minor": 2
}
