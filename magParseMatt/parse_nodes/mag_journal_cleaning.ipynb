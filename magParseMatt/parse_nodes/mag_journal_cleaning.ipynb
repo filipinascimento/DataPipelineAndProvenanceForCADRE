{
 "cells": [
  {
   "cell_type": "code",
   "execution_count": 1,
   "metadata": {},
   "outputs": [],
   "source": [
    "from pyspark.sql import SparkSession\n",
    "from pyspark.sql.functions import to_timestamp, col, lower, regexp_replace, split, to_date\n",
    "\n",
    "spark= SparkSession.builder.config('spark.ui.port','4040').getOrCreate()"
   ]
  },
  {
   "cell_type": "code",
   "execution_count": 2,
   "metadata": {},
   "outputs": [],
   "source": [
    "journal = spark.read.csv(\"file:///N/project/mag/mag-2021-01-05/mag/Journals.txt\",\\\n",
    "                         header = False,\\\n",
    "                         sep=r'\\t')\n",
    "#journal.printSchema()"
   ]
  },
  {
   "cell_type": "code",
   "execution_count": 3,
   "metadata": {},
   "outputs": [],
   "source": [
    "def clean_text(c):\n",
    "  c = regexp_replace(c, '\"' , '')\n",
    "  c = regexp_replace(c, '\\\\\\\\' , '')\n",
    "  #c = regexp_replace(c, \"(https?\\://)\\S+\", \"\")\n",
    "  #c = regexp_replace(c, \"[^a-zA-Z0-9\\\\s]\", \"\")\n",
    "  #c = split(c, \"\\\\s+\") tokenization...\n",
    "  return c"
   ]
  },
  {
   "cell_type": "code",
   "execution_count": 4,
   "metadata": {},
   "outputs": [],
   "source": [
    "journal = journal.select(\n",
    "                         journal._c0.cast(\"string\").alias(\"journalId\"),\n",
    "                         journal._c1.cast(\"int\").alias(\"rank\"),\n",
    "                         journal._c2.cast(\"string\").alias(\"normalizedName\"),\n",
    "                         clean_text(col(\"_c3\")).alias(\"displayName\"),\n",
    "                         journal._c4.cast(\"string\").alias(\"issn\"),\n",
    "                         journal._c5.cast(\"string\").alias(\"publisher\"),\n",
    "                         journal._c6.cast(\"string\").alias(\"webpage\"),\n",
    "                         journal._c7.cast(\"int\").alias(\"paperCount\"),\n",
    "                         journal._c8.cast(\"int\").alias(\"paperFamilyCount\"),\n",
    "                         journal._c9.cast(\"int\").alias(\"citationCount\"),\n",
    "                         to_date(journal._c10, \"yyyy-MM-dd\").alias(\"createdDate\")\n",
    ")\n",
    "\n",
    "#journal.show(5)"
   ]
  },
  {
   "cell_type": "code",
   "execution_count": 5,
   "metadata": {},
   "outputs": [
    {
     "name": "stdout",
     "output_type": "stream",
     "text": [
      "CPU times: user 6.54 ms, sys: 1.37 ms, total: 7.9 ms\n",
      "Wall time: 2.32 s\n"
     ]
    }
   ],
   "source": [
    "%%time\n",
    "\n",
    "journal.coalesce(64).write.option(\"header\",\"true\") \\\n",
    "                               .option(\"sep\",\"\\t\") \\\n",
    "                               .option(\"quoteAll\", False) \\\n",
    "                               .option(\"emptyValue\", None) \\\n",
    "                               .option(\"nullValue\", None)\\\n",
    "                               .mode(\"overwrite\") \\\n",
    "                               .csv('/N/project/mag/mag_jg_2021_update/nodes/journal')               "
   ]
  }
 ],
 "metadata": {
  "kernelspec": {
   "display_name": "Python 3",
   "language": "python",
   "name": "python3"
  },
  "language_info": {
   "codemirror_mode": {
    "name": "ipython",
    "version": 3
   },
   "file_extension": ".py",
   "mimetype": "text/x-python",
   "name": "python",
   "nbconvert_exporter": "python",
   "pygments_lexer": "ipython3",
   "version": "3.6.8"
  }
 },
 "nbformat": 4,
 "nbformat_minor": 2
}
