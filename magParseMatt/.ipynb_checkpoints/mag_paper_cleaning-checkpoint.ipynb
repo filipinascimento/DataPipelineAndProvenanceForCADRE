{
 "cells": [
  {
   "cell_type": "code",
   "execution_count": 1,
   "metadata": {},
   "outputs": [],
   "source": [
    "from pyspark.sql import SparkSession\n",
    "from pyspark.sql.functions import to_timestamp, col, lower, regexp_replace, split\n",
    "\n",
    "spark= SparkSession.builder.config('spark.ui.port','4040').getOrCreate()"
   ]
  },
  {
   "cell_type": "code",
   "execution_count": 5,
   "metadata": {},
   "outputs": [
    {
     "name": "stdout",
     "output_type": "stream",
     "text": [
      "root\n",
      " |-- _c0: string (nullable = true)\n",
      " |-- _c1: string (nullable = true)\n",
      " |-- _c2: string (nullable = true)\n",
      " |-- _c3: string (nullable = true)\n",
      " |-- _c4: string (nullable = true)\n",
      " |-- _c5: string (nullable = true)\n",
      " |-- _c6: string (nullable = true)\n",
      " |-- _c7: string (nullable = true)\n",
      " |-- _c8: string (nullable = true)\n",
      " |-- _c9: string (nullable = true)\n",
      " |-- _c10: string (nullable = true)\n",
      " |-- _c11: string (nullable = true)\n",
      " |-- _c12: string (nullable = true)\n",
      " |-- _c13: string (nullable = true)\n",
      " |-- _c14: string (nullable = true)\n",
      " |-- _c15: string (nullable = true)\n",
      " |-- _c16: string (nullable = true)\n",
      " |-- _c17: string (nullable = true)\n",
      " |-- _c18: string (nullable = true)\n",
      " |-- _c19: string (nullable = true)\n",
      " |-- _c20: string (nullable = true)\n",
      " |-- _c21: string (nullable = true)\n",
      " |-- _c22: string (nullable = true)\n",
      " |-- _c23: string (nullable = true)\n",
      " |-- _c24: string (nullable = true)\n",
      "\n"
     ]
    }
   ],
   "source": [
    "paper = spark.read.csv(\"file:///N/project/mag/mag-2021-01-05/mag/Papers.txt\",\\\n",
    "                         header = False,\\\n",
    "                         sep=r'\\t')\n",
    "paper.printSchema()"
   ]
  },
  {
   "cell_type": "code",
   "execution_count": 8,
   "metadata": {},
   "outputs": [
    {
     "name": "stdout",
     "output_type": "stream",
     "text": [
      "+-------+-----+--------------------+-------+--------------------+--------------------+\n",
      "|paperId| rank|                 doi|docType|          paperTitle|       originalTitle|\n",
      "+-------+-----+--------------------+-------+--------------------+--------------------+\n",
      "|   null|25643|                null|   null|the impact of dif...|The impact of dif...|\n",
      "| 760496|22878|                null|   null|the impact of dif...|The Impact of Dif...|\n",
      "|2789336|23851|                null|Journal|inheritance and p...|Inheritance and P...|\n",
      "|   null|23001|10.3233/978-1-586...|   null|inheritance and p...|Inheritance and P...|\n",
      "|9552966|24089|                null|Journal|the effect of mil...|The effect of mil...|\n",
      "+-------+-----+--------------------+-------+--------------------+--------------------+\n",
      "only showing top 5 rows\n",
      "\n"
     ]
    }
   ],
   "source": [
    "paper_first6 = paper.select(\n",
    "                            paper._c0.cast(\"int\").alias(\"paperId\"),\n",
    "                            paper._c1.cast(\"int\").alias(\"rank\"),\n",
    "                            paper._c2.cast(\"string\").alias(\"doi\"),\n",
    "                            paper._c3.cast(\"string\").alias(\"docType\"),\n",
    "                            paper._c4.cast(\"string\").alias(\"paperTitle\"),\n",
    "                            paper._c5.cast(\"string\").alias(\"originalTitle\")\n",
    ")\n",
    "\n",
    "paper_first6.show(5)"
   ]
  },
  {
   "cell_type": "code",
   "execution_count": 11,
   "metadata": {},
   "outputs": [
    {
     "name": "stdout",
     "output_type": "stream",
     "text": [
      "+---------+----+-------------------+---------+---------+------------------+\n",
      "|bookTitle|year|        createdDate|publisher|journalId|conferenceSeriesId|\n",
      "+---------+----+-------------------+---------+---------+------------------+\n",
      "|     null|2004|2004-01-01 00:00:00|     null|    WCTRS|              null|\n",
      "|     null|2004|2004-01-01 00:00:00|     null|    WCTRS|              null|\n",
      "|      EJC|2008|2008-01-01 00:00:00|     null|     null|         204851967|\n",
      "|     null|2009|2009-07-10 00:00:00|     null|IOS Press|              null|\n",
      "|     null|2005|2005-01-01 00:00:00|     null|     null|        2737568815|\n",
      "+---------+----+-------------------+---------+---------+------------------+\n",
      "only showing top 5 rows\n",
      "\n"
     ]
    }
   ],
   "source": [
    "paper_second6 = paper.select(\n",
    "                            paper._c6.cast(\"string\").alias(\"bookTitle\"),\n",
    "                            paper._c7.cast(\"int\").alias(\"year\"),\n",
    "                            to_timestamp(paper._c8, \"yyyy-MM-dd\").alias(\"createdDate\"),\n",
    "                            paper._c9.cast(\"string\").alias(\"publisher\"),\n",
    "                            paper._c10.cast(\"string\").alias(\"journalId\"),\n",
    "                            paper._c11.cast(\"int\").alias(\"conferenceSeriesId\")\n",
    ")\n",
    "\n",
    "paper_second6.show(5)"
   ]
  },
  {
   "cell_type": "code",
   "execution_count": 14,
   "metadata": {},
   "outputs": [
    {
     "name": "stdout",
     "output_type": "stream",
     "text": [
      "+--------------------+---------+-----+---------+--------+--------------+\n",
      "|conferenceInstanceId|   volume|issue|firstPage|lastPage|referenceCount|\n",
      "+--------------------+---------+-----+---------+--------+--------------+\n",
      "|                null|     null| null|     null|    null|          null|\n",
      "|                null|     null| null|     null|    null|          null|\n",
      "|                null|     null| null|     null|     354|           358|\n",
      "|                null|     null| null|     null|     354|           358|\n",
      "|                null|     null|   26|        2|     113|           118|\n",
      "|                null|     null| null|     null|    null|          null|\n",
      "|                null|     null| 2005|     null|     145|          null|\n",
      "|                null|     null| 2005|     null|     145|          null|\n",
      "|                null|     null| null|     null|    null|          null|\n",
      "|          1131603458|  4038532| null|     null|     406|           420|\n",
      "|          1154039276|157008481| null|     null|     725|           736|\n",
      "|                null|     null| null|     null|    null|          null|\n",
      "|                null|     null| null|        5|      57|            61|\n",
      "|                null|     null| null|        6|      73|            77|\n",
      "|                null|     null| null|      142|     795|           824|\n",
      "|                null|     null|  223|        3|     649|           682|\n",
      "|          1176104424|     null| null|     null|       3|            20|\n",
      "|                null|     null| 2014|     null|     191|          null|\n",
      "|                null|     null| 2014|     null|     191|          null|\n",
      "|          1190393634|     null| null|     null|       1|             5|\n",
      "+--------------------+---------+-----+---------+--------+--------------+\n",
      "only showing top 20 rows\n",
      "\n"
     ]
    }
   ],
   "source": [
    "paper_third6 = paper.select(\n",
    "                            paper._c12.cast(\"int\").alias(\"conferenceInstanceId\"),\n",
    "                            paper._c13.cast(\"string\").alias(\"volume\"),\n",
    "                            paper._c14.cast(\"string\").alias(\"issue\"),\n",
    "                            paper._c15.cast(\"string\").alias(\"firstPage\"),\n",
    "                            paper._c16.cast(\"string\").alias(\"lastPage\"),\n",
    "                            paper._c17.cast(\"int\").alias(\"referenceCount\")\n",
    ")\n",
    "\n",
    "paper_third6.show(20)"
   ]
  },
  {
   "cell_type": "code",
   "execution_count": 28,
   "metadata": {},
   "outputs": [
    {
     "name": "stdout",
     "output_type": "stream",
     "text": [
      "+-------+-------------+-----------------+--------------------+--------+----------+-------------------+\n",
      "|Unknown|citationCount|estimatedCitation|       originalVenue|familyId|familyRank|        createdDate|\n",
      "+-------+-------------+-----------------+--------------------+--------+----------+-------------------+\n",
      "|      0|            0|                0|10th World Confer...|  760496|     22816|2019-01-01 00:00:00|\n",
      "|      0|            2|                2|10th World Confer...|  760496|     22816|2016-06-24 00:00:00|\n",
      "|      0|            0|                0|European Journal ...| 2789336|     22645|2016-06-24 00:00:00|\n",
      "|     12|            2|                2|Proceedings of th...| 2789336|     22645|2016-06-24 00:00:00|\n",
      "|     37|            1|                1|Revista de Ciênci...| 9552966|     23507|2016-06-24 00:00:00|\n",
      "|      0|            0|                0|              Scopus| 9552966|     23507|2017-12-04 00:00:00|\n",
      "|      7|           11|               11|IACR Cryptol. ePr...|14320823|     20725|2016-06-24 00:00:00|\n",
      "|      0|            0|                0|IACR Cryptology e...|14320823|     20725|2020-06-05 00:00:00|\n",
      "|      6|            0|                0|arXiv: Distribute...|14558443|     20019|2019-06-27 00:00:00|\n",
      "|     11|           11|               11|international sym...|14558443|     20019|2016-06-24 00:00:00|\n",
      "|     18|           10|               10|european symposiu...|15354235|     19858|2016-06-24 00:00:00|\n",
      "|     13|            1|                1|arXiv: Data Struc...|15354235|     19858|2019-06-27 00:00:00|\n",
      "|      0|            0|                0|Cuadernos de Alza...|16813705|     27500|2016-06-24 00:00:00|\n",
      "|      0|            0|                0|Turia: Revista cu...|16813705|     27500|2016-06-24 00:00:00|\n",
      "|      0|            0|                0|         Altar Mayor|17001766|     25014|2016-06-24 00:00:00|\n",
      "|      0|            0|                0|Ciudad de Dios: R...|17001766|     25014|2016-06-24 00:00:00|\n",
      "|     55|           25|               25|international con...|18192006|     19872|2016-06-24 00:00:00|\n",
      "|      0|            0|                0|IACR Cryptology e...|18192006|     19872|2020-06-05 00:00:00|\n",
      "|      0|            0|                0|IACR Cryptol. ePr...|18192006|     19872|2019-06-27 00:00:00|\n",
      "|      2|           19|               19|new interfaces fo...|21605082|     20531|2016-06-24 00:00:00|\n",
      "|      2|            0|                0|arXiv: Human-Comp...|21605082|     20531|2020-10-15 00:00:00|\n",
      "|      0|            0|                0|Delaware medical ...|23032558|     22945|2016-06-24 00:00:00|\n",
      "|      0|            4|                4|Bulletin of the A...|23032558|     22945|2016-06-24 00:00:00|\n",
      "|      0|            0|                0|Subsurface SpaceE...|26755577|     27272|2016-06-24 00:00:00|\n",
      "|      0|            0|                0|ISRM Internationa...|26755577|     27272|2017-06-15 00:00:00|\n",
      "|      0|            0|                0|Boletín de la Ins...|30694494|     26353|2016-06-24 00:00:00|\n",
      "|      0|            0|                0|El Basilisco: Rev...|30694494|     26353|2016-06-24 00:00:00|\n",
      "|      0|            1|                1|Journal of Chemic...|33698157|     26595|2016-06-24 00:00:00|\n",
      "|      0|            0|                0|Hard tissue lesio...|33698157|     26595|2017-01-06 00:00:00|\n",
      "|     16|            6|                6|    Brain Topography|35428871|     22035|2016-06-24 00:00:00|\n",
      "|      0|            0|                0|Electroencephalog...|35428871|     22035|2016-06-24 00:00:00|\n",
      "|      0|            0|                0|Revista española ...|35549567|     25370|2016-06-24 00:00:00|\n",
      "|      0|            0|                0|DS : Derecho y salud|35549567|     25370|2016-06-24 00:00:00|\n",
      "|      0|            3|                3|international con...|39862623|     21101|2016-06-24 00:00:00|\n",
      "|      0|            0|                0|Special Session o...|39862623|     21101|2016-11-30 00:00:00|\n",
      "|      0|            0|                0|República de las ...|40318657|     26309|2016-06-24 00:00:00|\n",
      "|      0|            0|                0|Ilu. Revista de c...|40318657|     26309|2016-06-24 00:00:00|\n",
      "|      0|            0|                0|pp 535-45 of Proc...|47276731|     29040|2016-06-24 00:00:00|\n",
      "|      0|            0|                0|Cosmic Rays, Elem...|47276731|     29040|2020-08-18 00:00:00|\n",
      "|      0|            0|                0|                 evn|47369392|     21538|2020-05-13 00:00:00|\n",
      "|      3|            0|                0|Proceedings of Th...|47369392|     21538|2016-06-24 00:00:00|\n",
      "|      0|            0|                0|Canadian Medical ...|47457668|     30600|2016-06-24 00:00:00|\n",
      "|      0|            0|                0|California and we...|47457668|     30600|2016-06-24 00:00:00|\n",
      "|     34|           50|               71|       Technometrics|55534668|     19214|2016-06-24 00:00:00|\n",
      "|      0|            2|                2|  arXiv: Methodology|55534668|     19214|2019-06-27 00:00:00|\n",
      "|      0|            0|                0|                epsc|59135775|     21737|2016-06-24 00:00:00|\n",
      "|      0|            0|                0|               EGUGA|59135775|     21737|2020-05-21 00:00:00|\n",
      "|      5|            0|                0|database and expe...|60437532|     22655|2016-06-24 00:00:00|\n",
      "|      0|            0|                0|Lecture Notes in ...|60437532|     22655|2017-03-16 00:00:00|\n",
      "|      7|            4|                4|IFAC Proceedings ...|62531800|     22939|2016-06-24 00:00:00|\n",
      "+-------+-------------+-----------------+--------------------+--------+----------+-------------------+\n",
      "only showing top 50 rows\n",
      "\n"
     ]
    }
   ],
   "source": [
    "paper_fourth6 = paper.select(\n",
    "                            paper._c18.cast(\"int\").alias(\"Unknown\"),\n",
    "                            paper._c19.cast(\"string\").alias(\"citationCount\"),\n",
    "                            paper._c20.cast(\"string\").alias(\"estimatedCitation\"),\n",
    "                            paper._c21.cast(\"string\").alias(\"originalVenue\"),\n",
    "                            paper._c22.cast(\"int\").alias(\"familyId\"),\n",
    "                            paper._c23.cast(\"int\").alias(\"familyRank\"),\n",
    "                            to_timestamp(paper._c24, \"yyyy-MM-dd\").alias(\"createdDate\")\n",
    "                            \n",
    ")\n",
    "paper_fourth6.show(50)"
   ]
  },
  {
   "cell_type": "code",
   "execution_count": null,
   "metadata": {},
   "outputs": [],
   "source": [
    "paper = paper.select(\n",
    "                     paper._c0.cast(\"int\").alias(\"paperId\"),\n",
    "                     paper._c1.cast(\"int\").alias(\"rank\"),\n",
    "                     paper._c2.cast(\"string\").alias(\"doi\"),\n",
    "                     paper._c3.cast(\"string\").alias(\"docType\"),\n",
    "                     paper._c4.cast(\"string\").alias(\"paperTitle\"),\n",
    "                     paper._c5.cast(\"string\").alias(\"originalTitle\"),\n",
    "                     paper._c6.cast(\"string\").alias(\"bookTitle\"),\n",
    "                     paper._c7.cast(\"int\").alias(\"year\"),\n",
    "                     to_timestamp(paper._c8, \"yyyy-MM-dd\").alias(\"Date\"),\n",
    "                     paper._c9.cast(\"string\").alias(\"publisher\"),\n",
    "                     paper._c10.cast(\"string\").alias(\"journalId\"),\n",
    "                     paper._c11.cast(\"int\").alias(\"conferenceSeriesId\"),\n",
    "                     paper._c12.cast(\"int\").alias(\"conferenceInstanceId\"),\n",
    "                     paper._c13.cast(\"string\").alias(\"volume\"),\n",
    "                     paper._c14.cast(\"string\").alias(\"issue\"),\n",
    "                     paper._c15.cast(\"string\").alias(\"firstPage\"),\n",
    "                     paper._c16.cast(\"string\").alias(\"lastPage\"),\n",
    "                     paper._c17.cast(\"int\").alias(\"referenceCount\"),\n",
    "                     paper._c18.cast(\"int\").alias(\"Unknown\"),\n",
    "                     paper._c19.cast(\"string\").alias(\"citationCount\"),\n",
    "                     paper._c20.cast(\"string\").alias(\"estimatedCitation\"),\n",
    "                     paper._c21.cast(\"string\").alias(\"originalVenue\"),\n",
    "                     paper._c22.cast(\"int\").alias(\"familyId\"),\n",
    "                     paper._c23.cast(\"int\").alias(\"familyRank\"),\n",
    "                     to_timestamp(paper._c24, \"yyyy-MM-dd\").alias(\"createdDate\")\n",
    ")             "
   ]
  },
  {
   "cell_type": "code",
   "execution_count": null,
   "metadata": {},
   "outputs": [],
   "source": [
    "paper.coalesce(10).write.option(\"header\",\"true\") \\\n",
    "                               .option(\"sep\",\"~\") \\\n",
    "                               .option(\"quoteAll\", True) \\\n",
    "                               .mode(\"overwrite\") \\\n",
    "                               .csv('/N/project/mag/mag_jg_2021_update/nodes/papers')               "
   ]
  }
 ],
 "metadata": {
  "kernelspec": {
   "display_name": "Python 3",
   "language": "python",
   "name": "python3"
  },
  "language_info": {
   "codemirror_mode": {
    "name": "ipython",
    "version": 3
   },
   "file_extension": ".py",
   "mimetype": "text/x-python",
   "name": "python",
   "nbconvert_exporter": "python",
   "pygments_lexer": "ipython3",
   "version": "3.6.8"
  }
 },
 "nbformat": 4,
 "nbformat_minor": 2
}
