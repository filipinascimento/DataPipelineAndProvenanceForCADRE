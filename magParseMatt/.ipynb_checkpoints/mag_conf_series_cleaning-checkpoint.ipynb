{
 "cells": [
  {
   "cell_type": "code",
   "execution_count": 1,
   "metadata": {},
   "outputs": [],
   "source": [
    "from pyspark.sql import SparkSession\n",
    "from pyspark.sql.functions import to_timestamp, col, lower, regexp_replace, split\n",
    "\n",
    "spark= SparkSession.builder.config('spark.ui.port','4040').getOrCreate()"
   ]
  },
  {
   "cell_type": "code",
   "execution_count": 6,
   "metadata": {},
   "outputs": [
    {
     "name": "stdout",
     "output_type": "stream",
     "text": [
      "root\n",
      " |-- _c0: string (nullable = true)\n",
      " |-- _c1: string (nullable = true)\n",
      " |-- _c2: string (nullable = true)\n",
      " |-- _c3: string (nullable = true)\n",
      " |-- _c4: string (nullable = true)\n",
      " |-- _c5: string (nullable = true)\n",
      " |-- _c6: string (nullable = true)\n",
      " |-- _c7: string (nullable = true)\n",
      "\n"
     ]
    }
   ],
   "source": [
    "conf_series = spark.read.csv(\"file:///N/project/mag/mag-2021-01-05/mag/ConferenceSeries.txt\",\\\n",
    "                         header = False,\\\n",
    "                         sep=r'\\t')\n",
    "conf_series.printSchema()"
   ]
  },
  {
   "cell_type": "code",
   "execution_count": 7,
   "metadata": {},
   "outputs": [
    {
     "name": "stdout",
     "output_type": "stream",
     "text": [
      "+------------------+-----+--------------+--------------------+----------+----------------+-------------+-------------------+\n",
      "|conferenceSeriesId| rank|normalizedName|         displayName|paperCount|paperFamilyCount|citationCount|        createdDate|\n",
      "+------------------+-----+--------------+--------------------+----------+----------------+-------------+-------------------+\n",
      "|        1134804816|12796|         ICIDS|International Con...|       608|             607|         2683|2016-06-24 00:00:00|\n",
      "|        1165160117|14796|       SWAT4LS|Semantic Web Appl...|        81|              81|          197|2016-06-24 00:00:00|\n",
      "|        1192093291|12249|    TRIDENTCOM|Testbeds and Rese...|       570|             570|         5047|2016-06-24 00:00:00|\n",
      "|        1199066382|10257|BIOINFORMATICS|International Con...|      9202|            9202|        14314|2016-06-24 00:00:00|\n",
      "|        1201746639|15533|           AIS|Autonomous and In...|       165|             165|          961|2016-06-24 00:00:00|\n",
      "+------------------+-----+--------------+--------------------+----------+----------------+-------------+-------------------+\n",
      "only showing top 5 rows\n",
      "\n"
     ]
    }
   ],
   "source": [
    "conf_series = conf_series.select(\n",
    "                                 conf_series._c0.cast(\"int\").alias(\"conferenceSeriesId\"),\n",
    "                                 conf_series._c1.cast(\"int\").alias(\"rank\"),\n",
    "                                 conf_series._c2.cast(\"string\").alias(\"normalizedName\"),\n",
    "                                 conf_series._c3.cast(\"string\").alias(\"displayName\"),\n",
    "                                 conf_series._c4.cast(\"int\").alias(\"paperCount\"),\n",
    "                                 conf_series._c5.cast(\"int\").alias(\"paperFamilyCount\"),\n",
    "                                 conf_series._c6.cast(\"int\").alias(\"citationCount\"),\n",
    "                                 to_timestamp(conf_series._c7, \"yyyy-MM-dd\").alias(\"createdDate\")\n",
    ")\n",
    "\n",
    "conf_series.show(5)"
   ]
  },
  {
   "cell_type": "code",
   "execution_count": null,
   "metadata": {},
   "outputs": [],
   "source": [
    "conf_series.coalesce(10).write.option(\"header\",\"true\") \\\n",
    "                               .option(\"sep\",\"~\") \\\n",
    "                               .option(\"quoteAll\", True) \\\n",
    "                               .mode(\"overwrite\") \\\n",
    "                               .csv('/N/project/mag/mag_jg_2021_update/nodes/conf_series')               "
   ]
  }
 ],
 "metadata": {
  "kernelspec": {
   "display_name": "Python 3",
   "language": "python",
   "name": "python3"
  },
  "language_info": {
   "codemirror_mode": {
    "name": "ipython",
    "version": 3
   },
   "file_extension": ".py",
   "mimetype": "text/x-python",
   "name": "python",
   "nbconvert_exporter": "python",
   "pygments_lexer": "ipython3",
   "version": "3.6.8"
  }
 },
 "nbformat": 4,
 "nbformat_minor": 2
}
