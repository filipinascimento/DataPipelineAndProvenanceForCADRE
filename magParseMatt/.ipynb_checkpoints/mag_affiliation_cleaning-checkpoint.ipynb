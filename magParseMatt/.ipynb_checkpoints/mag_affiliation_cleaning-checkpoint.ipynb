{
 "cells": [
  {
   "cell_type": "code",
   "execution_count": 1,
   "metadata": {},
   "outputs": [],
   "source": [
    "from pyspark.sql import SparkSession\n",
    "from pyspark.sql.functions import to_timestamp, col, lower, regexp_replace, split"
   ]
  },
  {
   "cell_type": "code",
   "execution_count": 2,
   "metadata": {},
   "outputs": [],
   "source": [
    "spark= SparkSession.builder.config('spark.ui.port','4040').getOrCreate()"
   ]
  },
  {
   "cell_type": "code",
   "execution_count": 3,
   "metadata": {},
   "outputs": [
    {
     "name": "stdout",
     "output_type": "stream",
     "text": [
      "root\n",
      " |-- _c0: string (nullable = true)\n",
      " |-- _c1: string (nullable = true)\n",
      " |-- _c2: string (nullable = true)\n",
      " |-- _c3: string (nullable = true)\n",
      " |-- _c4: string (nullable = true)\n",
      " |-- _c5: string (nullable = true)\n",
      " |-- _c6: string (nullable = true)\n",
      " |-- _c7: string (nullable = true)\n",
      " |-- _c8: string (nullable = true)\n",
      " |-- _c9: string (nullable = true)\n",
      " |-- _c10: string (nullable = true)\n",
      " |-- _c11: string (nullable = true)\n",
      " |-- _c12: string (nullable = true)\n",
      " |-- _c13: string (nullable = true)\n",
      "\n"
     ]
    }
   ],
   "source": [
    "affiliations = spark.read.csv(\"file:///N/project/mag/mag-2021-01-05/mag/Affiliations.txt\",\\\n",
    "                         header = False,\\\n",
    "                         sep=r'\\t')\n",
    "affiliations.printSchema()"
   ]
  },
  {
   "cell_type": "code",
   "execution_count": 6,
   "metadata": {},
   "outputs": [
    {
     "name": "stdout",
     "output_type": "stream",
     "text": [
      "+--------+-----+-------------------------------------------+-------------------------------------------+-------------+-----------------------------------------------------------------------------+-------------------------------------------------------------------------+----+----+-----+----+----------+----------+----------+\n",
      "|_c0     |_c1  |_c2                                        |_c3                                        |_c4          |_c5                                                                          |_c6                                                                      |_c7 |_c8 |_c9  |_c10|_c11      |_c12      |_c13      |\n",
      "+--------+-----+-------------------------------------------+-------------------------------------------+-------------+-----------------------------------------------------------------------------+-------------------------------------------------------------------------+----+----+-----+----+----------+----------+----------+\n",
      "|20455151|9871 |air liquide                                |Air Liquide                                |grid.476009.c|https://web.archive.org/web/20100205175402/http://airliquide.com/en/home.html|http://en.wikipedia.org/wiki/Air_Liquide                                 |7688|5628|60013|GB  |52.5035934|-1.80516  |2016-06-24|\n",
      "|24386293|13928|hellenic national meteorological service   |Hellenic National Meteorological Service   |null         |http://www.hnms.gr/hnms/english/index_html                                   |http://en.wikipedia.org/wiki/Hellenic_National_Meteorological_Service    |85  |85  |1966 |GR  |37.97614  |23.7364   |2016-06-24|\n",
      "|32956416|12970|catholic university of the west            |Catholic University of the West            |grid.448708.7|http://www.uco.fr/                                                           |http://en.wikipedia.org/wiki/Catholic_University_of_the_West             |361 |352 |4276 |FR  |47.46472  |-0.54861  |2016-06-24|\n",
      "|35926432|11671|mackay medical college                     |Mackay Medical College                     |grid.452449.a|http://www.mmc.edu.tw/                                                       |http://en.wikipedia.org/wiki/Mackay_Medical_College                      |1503|1497|14443|TW  |25.25436  |121.495087|2016-06-24|\n",
      "|37448385|11874|chinese people s public security university|Chinese People's Public Security University|null         |http://www.ppsuc.edu.cn/                                                     |http://en.wikipedia.org/wiki/People's_Public_Security_University_of_China|1788|1782|2582 |CN  |39.90469  |116.407173|2016-06-24|\n",
      "+--------+-----+-------------------------------------------+-------------------------------------------+-------------+-----------------------------------------------------------------------------+-------------------------------------------------------------------------+----+----+-----+----+----------+----------+----------+\n",
      "only showing top 5 rows\n",
      "\n"
     ]
    }
   ],
   "source": [
    "affiliations.show(5, False)"
   ]
  },
  {
   "cell_type": "code",
   "execution_count": 10,
   "metadata": {},
   "outputs": [],
   "source": [
    "aff_first5 = affiliations.select(\n",
    "          affiliations._c0.cast(\"int\").alias(\"affiliationId\"),\n",
    "          affiliations._c1.cast(\"int\").alias(\"rank\"),\n",
    "          affiliations._c2.cast(\"string\").alias(\"normalizedName\"),\n",
    "          affiliations._c3.cast(\"string\").alias(\"displayName\"),\n",
    "          affiliations._c4.cast(\"string\").alias(\"gridId\")\n",
    "    \n",
    ")"
   ]
  },
  {
   "cell_type": "code",
   "execution_count": 12,
   "metadata": {},
   "outputs": [
    {
     "name": "stdout",
     "output_type": "stream",
     "text": [
      "+-------------+-----+-------------------------------------------+-------------------------------------------+-------------+\n",
      "|affiliationId|rank |normalizedName                             |displayName                                |gridId       |\n",
      "+-------------+-----+-------------------------------------------+-------------------------------------------+-------------+\n",
      "|20455151     |9871 |air liquide                                |Air Liquide                                |grid.476009.c|\n",
      "|24386293     |13928|hellenic national meteorological service   |Hellenic National Meteorological Service   |null         |\n",
      "|32956416     |12970|catholic university of the west            |Catholic University of the West            |grid.448708.7|\n",
      "|35926432     |11671|mackay medical college                     |Mackay Medical College                     |grid.452449.a|\n",
      "|37448385     |11874|chinese people s public security university|Chinese People's Public Security University|null         |\n",
      "+-------------+-----+-------------------------------------------+-------------------------------------------+-------------+\n",
      "only showing top 5 rows\n",
      "\n"
     ]
    }
   ],
   "source": [
    "aff_first5.show(5, False)"
   ]
  },
  {
   "cell_type": "code",
   "execution_count": 24,
   "metadata": {},
   "outputs": [
    {
     "name": "stdout",
     "output_type": "stream",
     "text": [
      "+--------------------+--------------------+----------+-------------+--------+\n",
      "|        officialPage|            wikiPage|paperCount|citationCount|NewField|\n",
      "+--------------------+--------------------+----------+-------------+--------+\n",
      "|https://web.archi...|http://en.wikiped...|      7688|         5628| 60013.0|\n",
      "|http://www.hnms.g...|http://en.wikiped...|        85|           85|  1966.0|\n",
      "|  http://www.uco.fr/|http://en.wikiped...|       361|          352|  4276.0|\n",
      "|http://www.mmc.ed...|http://en.wikiped...|      1503|         1497| 14443.0|\n",
      "|http://www.ppsuc....|http://en.wikiped...|      1788|         1782|  2582.0|\n",
      "+--------------------+--------------------+----------+-------------+--------+\n",
      "only showing top 5 rows\n",
      "\n"
     ]
    }
   ],
   "source": [
    "aff_second5= affiliations.select(\n",
    "             affiliations._c5.cast(\"string\").alias(\"officialPage\"),\n",
    "             affiliations._c6.cast(\"string\").alias(\"wikiPage\"),\n",
    "             affiliations._c7.cast(\"int\").alias(\"paperCount\"),\n",
    "             affiliations._c8.cast(\"int\").alias(\"citationCount\"),\n",
    "             affiliations._c9.cast(\"float\").alias(\"NewField\")\n",
    ")\n",
    "\n",
    "aff_second5.show(5)"
   ]
  },
  {
   "cell_type": "code",
   "execution_count": 26,
   "metadata": {},
   "outputs": [
    {
     "name": "stdout",
     "output_type": "stream",
     "text": [
      "+----------+---------+---------+-----------+\n",
      "|New Field2| latitude|longitude|createdDate|\n",
      "+----------+---------+---------+-----------+\n",
      "|        GB|52.503593| -1.80516| 2016-06-24|\n",
      "|        GR| 37.97614|  23.7364| 2016-06-24|\n",
      "|        FR| 47.46472| -0.54861| 2016-06-24|\n",
      "|        TW| 25.25436|121.49509| 2016-06-24|\n",
      "|        CN| 39.90469|116.40717| 2016-06-24|\n",
      "+----------+---------+---------+-----------+\n",
      "only showing top 5 rows\n",
      "\n"
     ]
    }
   ],
   "source": [
    "aff_last3= affiliations.select(\n",
    "             affiliations._c10.alias(\"New Field2\"),\n",
    "             affiliations._c11.cast(\"float\").alias(\"latitude\"),\n",
    "             affiliations._c12.cast(\"float\").alias(\"longitude\"),\n",
    "             affiliations._c13.alias(\"createdDate\")\n",
    ")\n",
    "\n",
    "aff_last3.show(5)"
   ]
  },
  {
   "cell_type": "code",
   "execution_count": null,
   "metadata": {},
   "outputs": [],
   "source": [
    "affiliations = affiliations.select(\n",
    "                                   affiliations._c0.cast(\"int\").alias(\"affiliationId\"),\n",
    "                                   affiliations._c1.cast(\"int\").alias(\"rank\"),\n",
    "                                   affiliations._c2.cast(\"string\").alias(\"normalizedName\"),\n",
    "                                   affiliations._c3.cast(\"string\").alias(\"displayName\"),\n",
    "                                   affiliations._c4.cast(\"string\").alias(\"gridId\"),\n",
    "                                   affiliations._c5.cast(\"string\").alias(\"officialPage\"),\n",
    "                                   affiliations._c6.cast(\"string\").alias(\"wikiPage\"),\n",
    "                                   affiliations._c7.cast(\"int\").alias(\"paperCount\"),\n",
    "                                   affiliations._c8.cast(\"int\").alias(\"paperFamilyCount\"),\n",
    "                                   affiliations._c9.cast(\"float\").alias(\"citationCount\"),\n",
    "                                   affiliations._c10.alias(\"iso3166Code\"),\n",
    "                                   affiliations._c11.cast(\"float\").alias(\"latitude\"),\n",
    "                                   affiliations._c12.cast(\"float\").alias(\"longitude\"),\n",
    "                                   to_timestamp(affiliations._c13, \"yyyy-MM-dd\").alias(\"createdDate\")\n",
    "                                  )"
   ]
  },
  {
   "cell_type": "code",
   "execution_count": null,
   "metadata": {},
   "outputs": [],
   "source": [
    "affiliations.coalesce(10).write.option(\"header\",\"true\") \\\n",
    "                               .option(\"sep\",\"~\") \\\n",
    "                               .option(\"quoteAll\", True) \\\n",
    "                               .mode(\"overwrite\") \\\n",
    "                               .csv('/N/project/mag/mag_jg_2021_update/nodes/affiliations_II')"
   ]
  }
 ],
 "metadata": {
  "kernelspec": {
   "display_name": "Python 3",
   "language": "python",
   "name": "python3"
  },
  "language_info": {
   "codemirror_mode": {
    "name": "ipython",
    "version": 3
   },
   "file_extension": ".py",
   "mimetype": "text/x-python",
   "name": "python",
   "nbconvert_exporter": "python",
   "pygments_lexer": "ipython3",
   "version": "3.6.8"
  }
 },
 "nbformat": 4,
 "nbformat_minor": 2
}
