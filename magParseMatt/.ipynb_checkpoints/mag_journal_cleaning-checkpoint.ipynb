{
 "cells": [
  {
   "cell_type": "code",
   "execution_count": 2,
   "metadata": {},
   "outputs": [],
   "source": [
    "from pyspark.sql import SparkSession\n",
    "from pyspark.sql.functions import to_timestamp, col, lower, regexp_replace, split\n",
    "\n",
    "spark= SparkSession.builder.config('spark.ui.port','4040').getOrCreate()"
   ]
  },
  {
   "cell_type": "code",
   "execution_count": 3,
   "metadata": {},
   "outputs": [
    {
     "name": "stdout",
     "output_type": "stream",
     "text": [
      "root\n",
      " |-- _c0: string (nullable = true)\n",
      " |-- _c1: string (nullable = true)\n",
      " |-- _c2: string (nullable = true)\n",
      " |-- _c3: string (nullable = true)\n",
      " |-- _c4: string (nullable = true)\n",
      " |-- _c5: string (nullable = true)\n",
      " |-- _c6: string (nullable = true)\n",
      " |-- _c7: string (nullable = true)\n",
      " |-- _c8: string (nullable = true)\n",
      " |-- _c9: string (nullable = true)\n",
      " |-- _c10: string (nullable = true)\n",
      "\n"
     ]
    }
   ],
   "source": [
    "journal = spark.read.csv(\"file:///N/project/mag/mag-2021-01-05/mag/Journals.txt\",\\\n",
    "                         header = False,\\\n",
    "                         sep=r'\\t')\n",
    "journal.printSchema()"
   ]
  },
  {
   "cell_type": "code",
   "execution_count": 5,
   "metadata": {},
   "outputs": [
    {
     "name": "stdout",
     "output_type": "stream",
     "text": [
      "+---------+-----+--------------------+--------------------+---------+---------+--------------------+----------+----------------+-------------+-------------------+\n",
      "|journalId| rank|      normalizedName|         displayName|     issn|publisher|             webpage|paperCount|paperFamilyCount|citationCount|        createdDate|\n",
      "+---------+-----+--------------------+--------------------+---------+---------+--------------------+----------+----------------+-------------+-------------------+\n",
      "|   465895|12371|              eureka|              Eureka|1342-5641|     null|http://www.archim...|      1113|            1113|          186|2016-06-24 00:00:00|\n",
      "|  1137746|12716|the artist and jo...|The Artist and Jo...|2151-4879|     null|                null|       560|             560|          472|2016-06-24 00:00:00|\n",
      "|  2978343|15324|cumberland law re...|Cumberland Law Re...|0360-8298|     null|http://www.cumber...|        47|              47|           45|2016-06-24 00:00:00|\n",
      "|  3010151|14791|comparative medic...|Comparative Medic...|0147-2917|     null|                null|        22|              22|          196|2016-06-24 00:00:00|\n",
      "|  3164724| 9968|physiological mea...|Physiological Mea...|0967-3334|     null|                null|      3451|            3451|        77999|2016-06-24 00:00:00|\n",
      "+---------+-----+--------------------+--------------------+---------+---------+--------------------+----------+----------------+-------------+-------------------+\n",
      "only showing top 5 rows\n",
      "\n"
     ]
    }
   ],
   "source": [
    "journal = journal.select(\n",
    "                         journal._c0.cast(\"int\").alias(\"journalId\"),\n",
    "                         journal._c1.cast(\"int\").alias(\"rank\"),\n",
    "                         journal._c2.cast(\"string\").alias(\"normalizedName\"),\n",
    "                         journal._c3.cast(\"string\").alias(\"displayName\"),\n",
    "                         journal._c4.cast(\"string\").alias(\"issn\"),\n",
    "                         journal._c5.cast(\"string\").alias(\"publisher\"),\n",
    "                         journal._c6.cast(\"string\").alias(\"webpage\"),\n",
    "                         journal._c7.cast(\"int\").alias(\"paperCount\"),\n",
    "                         journal._c8.cast(\"int\").alias(\"paperFamilyCount\"),\n",
    "                         journal._c9.cast(\"int\").alias(\"citationCount\"),\n",
    "                         to_timestamp(journal._c10, \"yyyy-MM-dd\").alias(\"createdDate\")\n",
    ")\n",
    "\n",
    "journal.show(5)"
   ]
  },
  {
   "cell_type": "code",
   "execution_count": null,
   "metadata": {},
   "outputs": [],
   "source": [
    "journal.coalesce(10).write.option(\"header\",\"true\") \\\n",
    "                               .option(\"sep\",\"~\") \\\n",
    "                               .option(\"quoteAll\", True) \\\n",
    "                               .mode(\"overwrite\") \\\n",
    "                               .csv('/N/project/mag/mag_jg_2021_update/nodes/journal')               "
   ]
  }
 ],
 "metadata": {
  "kernelspec": {
   "display_name": "Python 3",
   "language": "python",
   "name": "python3"
  },
  "language_info": {
   "codemirror_mode": {
    "name": "ipython",
    "version": 3
   },
   "file_extension": ".py",
   "mimetype": "text/x-python",
   "name": "python",
   "nbconvert_exporter": "python",
   "pygments_lexer": "ipython3",
   "version": "3.6.8"
  }
 },
 "nbformat": 4,
 "nbformat_minor": 2
}
