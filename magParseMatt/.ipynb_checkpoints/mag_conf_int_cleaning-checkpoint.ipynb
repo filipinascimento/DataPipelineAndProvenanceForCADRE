{
 "cells": [
  {
   "cell_type": "code",
   "execution_count": 1,
   "metadata": {},
   "outputs": [],
   "source": [
    "from pyspark.sql import SparkSession\n",
    "from pyspark.sql.functions import to_timestamp, col, lower, regexp_replace, split\n",
    "\n",
    "spark= SparkSession.builder.config('spark.ui.port','4040').getOrCreate()"
   ]
  },
  {
   "cell_type": "code",
   "execution_count": 7,
   "metadata": {},
   "outputs": [
    {
     "name": "stdout",
     "output_type": "stream",
     "text": [
      "root\n",
      " |-- _c0: string (nullable = true)\n",
      " |-- _c1: string (nullable = true)\n",
      " |-- _c2: string (nullable = true)\n",
      " |-- _c3: string (nullable = true)\n",
      " |-- _c4: string (nullable = true)\n",
      " |-- _c5: string (nullable = true)\n",
      " |-- _c6: string (nullable = true)\n",
      " |-- _c7: string (nullable = true)\n",
      " |-- _c8: string (nullable = true)\n",
      " |-- _c9: string (nullable = true)\n",
      " |-- _c10: string (nullable = true)\n",
      " |-- _c11: string (nullable = true)\n",
      " |-- _c12: string (nullable = true)\n",
      " |-- _c13: string (nullable = true)\n",
      " |-- _c14: string (nullable = true)\n",
      " |-- _c15: string (nullable = true)\n",
      " |-- _c16: string (nullable = true)\n",
      " |-- _c17: string (nullable = true)\n",
      "\n"
     ]
    }
   ],
   "source": [
    "conf_inst = spark.read.csv(\"file:///N/project/mag/mag-2021-01-05/mag/ConferenceInstances.txt\",\\\n",
    "                         header = False,\\\n",
    "                         sep=r'\\t')\n",
    "conf_inst.printSchema()"
   ]
  },
  {
   "cell_type": "code",
   "execution_count": 8,
   "metadata": {},
   "outputs": [
    {
     "name": "stdout",
     "output_type": "stream",
     "text": [
      "+--------------------+--------------+------------+------------------+--------------------+--------------------+\n",
      "|conferenceInstanceId|normalizedName| displayName|conferenceSeriesId|            location|         officialUrl|\n",
      "+--------------------+--------------+------------+------------------+--------------------+--------------------+\n",
      "|             7785157|     time 2008|   TIME 2008|              null|    Montreal, Canada|http://www.time20...|\n",
      "|            15420687|     ipmu 2008|   IPMU 2008|        1128239323|       Malaga, Spain|http://www.gimac....|\n",
      "|            16798864|     wosn 2010|   WOSN 2010|              null|     Boston, MA, USA|http://www.usenix...|\n",
      "|            18230910|     sasn 2009|   SASN 2009|        1128894334|Saint Petersburg ...|http://www.ieee-s...|\n",
      "|            31227610|  eurocon 2011|EUROCON 2011|        1190350587|    Lisbon, Portugal|http://www.euroco...|\n",
      "+--------------------+--------------+------------+------------------+--------------------+--------------------+\n",
      "only showing top 5 rows\n",
      "\n"
     ]
    }
   ],
   "source": [
    "conf_inst_first6 = conf_inst.select(\n",
    "                                  conf_inst._c0.cast(\"int\").alias(\"conferenceInstanceId\"),\n",
    "                                  conf_inst._c1.cast(\"string\").alias(\"normalizedName\"),\n",
    "                                  conf_inst._c2.cast(\"string\").alias(\"displayName\"),\n",
    "                                  conf_inst._c3.cast(\"int\").alias(\"conferenceSeriesId\"),\n",
    "                                  conf_inst._c4.cast(\"string\").alias(\"location\"),\n",
    "                                  conf_inst._c5.cast(\"string\").alias(\"officialUrl\")               \n",
    ")\n",
    "\n",
    "conf_inst_first6.show(5)"
   ]
  },
  {
   "cell_type": "code",
   "execution_count": 11,
   "metadata": {},
   "outputs": [
    {
     "name": "stdout",
     "output_type": "stream",
     "text": [
      "+-------------------+-------------------+------------------------+----------------------+-------------------+-------------------+\n",
      "|          startDate|            endDate|abstractRegistrationDate|submissionDeadlineDate|notificationDueDate|finalVersionDueDate|\n",
      "+-------------------+-------------------+------------------------+----------------------+-------------------+-------------------+\n",
      "|2008-06-16 00:00:00|2008-06-18 00:00:00|                    null|   2008-01-11 00:00:00|               null|               null|\n",
      "|2008-06-22 00:00:00|2008-06-27 00:00:00|                    null|   2007-12-07 00:00:00|               null|               null|\n",
      "|2010-06-22 00:00:00|2010-06-22 00:00:00|                    null|   2010-02-25 00:00:00|2010-04-30 00:00:00|2010-05-25 00:00:00|\n",
      "|2009-10-12 00:00:00|2009-10-14 00:00:00|     2009-06-19 00:00:00|   2009-06-26 00:00:00|2009-07-31 00:00:00|2009-09-11 00:00:00|\n",
      "|2011-04-27 00:00:00|2011-04-29 00:00:00|                    null|   2010-10-30 00:00:00|2011-01-30 00:00:00|2011-02-28 00:00:00|\n",
      "+-------------------+-------------------+------------------------+----------------------+-------------------+-------------------+\n",
      "only showing top 5 rows\n",
      "\n"
     ]
    }
   ],
   "source": [
    "conf_inst_second6 = conf_inst.select(\n",
    "                                  to_timestamp(conf_inst._c6, \"yyyy-MM-dd\").alias(\"startDate\"),\n",
    "                                  to_timestamp(conf_inst._c7, \"yyyy-MM-dd\").alias(\"endDate\"),\n",
    "                                  to_timestamp(conf_inst._c8, \"yyyy-MM-dd\").alias(\"abstractRegistrationDate\"),\n",
    "                                  to_timestamp(conf_inst._c9, \"yyyy-MM-dd\").alias(\"submissionDeadlineDate\"),\n",
    "                                  to_timestamp(conf_inst._c10, \"yyyy-MM-dd\").alias(\"notificationDueDate\"),\n",
    "                                  to_timestamp(conf_inst._c11, \"yyyy-MM-dd\").alias(\"finalVersionDueDate\")              \n",
    ")\n",
    "\n",
    "conf_inst_second6.show(5)"
   ]
  },
  {
   "cell_type": "code",
   "execution_count": 13,
   "metadata": {},
   "outputs": [
    {
     "name": "stdout",
     "output_type": "stream",
     "text": [
      "+---------+----------------+-------------+--------+---------+-------------------+\n",
      "|pageCount|paperFamilyCount|citationCount|latitude|longitude|        createdDate|\n",
      "+---------+----------------+-------------+--------+---------+-------------------+\n",
      "|       22|              22|          298| 45.5124|-73.55468|2016-06-24 00:00:00|\n",
      "|        5|               5|           46|36.71832| -4.42016|2016-06-24 00:00:00|\n",
      "|        1|               1|          220|42.35866|-71.05674|2016-06-24 00:00:00|\n",
      "|        0|               0|            0|59.93318| 30.30603|2016-06-24 00:00:00|\n",
      "|      279|             279|          817| 38.7257| -9.15025|2016-06-24 00:00:00|\n",
      "+---------+----------------+-------------+--------+---------+-------------------+\n",
      "only showing top 5 rows\n",
      "\n"
     ]
    }
   ],
   "source": [
    "conf_inst_third5 = conf_inst.select(\n",
    "                                    conf_inst._c12.cast(\"int\").alias(\"pageCount\"),\n",
    "                                    conf_inst._c13.cast(\"int\").alias(\"paperFamilyCount\"),\n",
    "                                    conf_inst._c14.cast(\"int\").alias(\"citationCount\"),\n",
    "                                    conf_inst._c15.cast(\"float\").alias(\"latitude\"),\n",
    "                                    conf_inst._c16.cast(\"float\").alias(\"longitude\"),\n",
    "                                    to_timestamp(conf_inst._c17, \"yyyy-MM-dd\").alias(\"createdDate\")\n",
    ")\n",
    "\n",
    "conf_inst_third5.show(5)"
   ]
  },
  {
   "cell_type": "code",
   "execution_count": null,
   "metadata": {},
   "outputs": [],
   "source": [
    "conf_inst = conf_inst.select(\n",
    "                             conf_inst._c0.cast(\"int\").alias(\"conferenceInstanceId\"),\n",
    "                             conf_inst._c1.cast(\"string\").alias(\"normalizedName\"),\n",
    "                             conf_inst._c2.cast(\"string\").alias(\"displayName\"),\n",
    "                             conf_inst._c3.cast(\"int\").alias(\"conferenceSeriesId\"),\n",
    "                             conf_inst._c4.cast(\"string\").alias(\"location\"),\n",
    "                             conf_inst._c5.cast(\"string\").alias(\"officialUrl\"),\n",
    "                             to_timestamp(conf_inst._c6, \"yyyy-MM-dd\").alias(\"startDate\"),\n",
    "                             to_timestamp(conf_inst._c7, \"yyyy-MM-dd\").alias(\"endDate\"),\n",
    "                             to_timestamp(conf_inst._c8, \"yyyy-MM-dd\").alias(\"abstractRegistrationDate\"),\n",
    "                             to_timestamp(conf_inst._c9, \"yyyy-MM-dd\").alias(\"submissionDeadlineDate\"),\n",
    "                             to_timestamp(conf_inst._c10, \"yyyy-MM-dd\").alias(\"notificationDueDate\"),\n",
    "                             to_timestamp(conf_inst._c11, \"yyyy-MM-dd\").alias(\"finalVersionDueDate\"),\n",
    "                             conf_inst._c12.cast(\"int\").alias(\"pageCount\"),\n",
    "                             conf_inst._c13.cast(\"int\").alias(\"paperFamilyCount\"),\n",
    "                             conf_inst._c14.cast(\"int\").alias(\"citationCount\"),\n",
    "                             conf_inst._c15.cast(\"float\").alias(\"latitude\"),\n",
    "                             conf_inst._c16.cast(\"float\").alias(\"longitude\"),\n",
    "                             to_timestamp(conf_inst._c17, \"yyyy-MM-dd\").alias(\"createdDate\")\n",
    ")"
   ]
  },
  {
   "cell_type": "code",
   "execution_count": null,
   "metadata": {},
   "outputs": [],
   "source": [
    "conf_inst.coalesce(10).write.option(\"header\",\"true\") \\\n",
    "                               .option(\"sep\",\"~\") \\\n",
    "                               .option(\"quoteAll\", True) \\\n",
    "                               .mode(\"overwrite\") \\\n",
    "                               .csv('/N/project/mag/mag_jg_2021_update/nodes/conf_inst')               "
   ]
  }
 ],
 "metadata": {
  "kernelspec": {
   "display_name": "Python 3",
   "language": "python",
   "name": "python3"
  },
  "language_info": {
   "codemirror_mode": {
    "name": "ipython",
    "version": 3
   },
   "file_extension": ".py",
   "mimetype": "text/x-python",
   "name": "python",
   "nbconvert_exporter": "python",
   "pygments_lexer": "ipython3",
   "version": "3.6.8"
  }
 },
 "nbformat": 4,
 "nbformat_minor": 2
}
