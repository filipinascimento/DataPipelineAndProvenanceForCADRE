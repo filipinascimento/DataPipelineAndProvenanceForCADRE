{
 "cells": [
  {
   "cell_type": "code",
   "execution_count": 7,
   "metadata": {},
   "outputs": [],
   "source": [
    "from pyspark.sql import SparkSession\n",
    "from pyspark.sql.functions import to_timestamp, col, lower, regexp_replace, split"
   ]
  },
  {
   "cell_type": "code",
   "execution_count": 3,
   "metadata": {},
   "outputs": [],
   "source": [
    "spark= SparkSession.builder.config('spark.ui.port','4040').getOrCreate()"
   ]
  },
  {
   "cell_type": "code",
   "execution_count": 28,
   "metadata": {},
   "outputs": [
    {
     "name": "stdout",
     "output_type": "stream",
     "text": [
      "root\n",
      " |-- _c0: string (nullable = true)\n",
      " |-- _c1: string (nullable = true)\n",
      " |-- _c2: string (nullable = true)\n",
      " |-- _c3: string (nullable = true)\n",
      " |-- _c4: string (nullable = true)\n",
      " |-- _c5: string (nullable = true)\n",
      " |-- _c6: string (nullable = true)\n",
      " |-- _c7: string (nullable = true)\n",
      " |-- _c8: string (nullable = true)\n",
      "\n"
     ]
    }
   ],
   "source": [
    "authors = spark.read.csv(\"file:///N/project/mag/mag-2021-01-05/mag/Authors.txt\",\\\n",
    "                         header = False,\\\n",
    "                         sep=r'\\t')\n",
    "authors.printSchema()"
   ]
  },
  {
   "cell_type": "code",
   "execution_count": 22,
   "metadata": {},
   "outputs": [],
   "source": [
    "def clean_text(c):\n",
    "  c = lower(c)\n",
    "  c = regexp_replace(c, \"^rt \", \"\")\n",
    "  c = regexp_replace(c, \"(https?\\://)\\S+\", \"\")\n",
    "  c = regexp_replace(c, \"[^a-zA-Z0-9\\\\s]\", \"\")\n",
    "  #c = split(c, \"\\\\s+\") tokenization...\n",
    "  return c"
   ]
  },
  {
   "cell_type": "code",
   "execution_count": 29,
   "metadata": {},
   "outputs": [],
   "source": [
    "authors = authors.select(\n",
    "        authors._c0.cast(\"int\").alias(\"authorId\"),\n",
    "        authors._c1.cast(\"int\").alias(\"rank\"),\n",
    "        clean_text(col(\"_c3\")).alias(\"displayName\"),\n",
    "        authors._c2.cast(\"string\").alias(\"normalizedName\"),\n",
    "        authors._c4.cast(\"int\").alias(\"lastKnownAffiliationId\"),\n",
    "        authors._c5.cast(\"int\").alias(\"paperCount\"),\n",
    "        authors._c7.cast(\"int\").alias(\"citationCount\"), \n",
    "        to_timestamp(authors._c8, \"yyyy-MM-dd\").alias(\"createdDate\")\n",
    "        )"
   ]
  },
  {
   "cell_type": "code",
   "execution_count": 30,
   "metadata": {},
   "outputs": [
    {
     "name": "stdout",
     "output_type": "stream",
     "text": [
      "root\n",
      " |-- authorId: integer (nullable = true)\n",
      " |-- rank: integer (nullable = true)\n",
      " |-- normalizedName: string (nullable = true)\n",
      " |-- displayName: string (nullable = true)\n",
      " |-- lastKnownAffiliationId: integer (nullable = true)\n",
      " |-- paperCount: integer (nullable = true)\n",
      " |-- citationCount: integer (nullable = true)\n",
      " |-- date: timestamp (nullable = true)\n",
      "\n"
     ]
    }
   ],
   "source": [
    "authors.printSchema()"
   ]
  },
  {
   "cell_type": "code",
   "execution_count": 31,
   "metadata": {},
   "outputs": [
    {
     "name": "stdout",
     "output_type": "stream",
     "text": [
      "+--------+-----+--------------------+--------------------+----------------------+----------+-------------+-------------------+\n",
      "|authorId| rank|      normalizedName|         displayName|lastKnownAffiliationId|paperCount|citationCount|               date|\n",
      "+--------+-----+--------------------+--------------------+----------------------+----------+-------------+-------------------+\n",
      "|     584|19419|gozde ozdikmenlid...| gzde zdikmenlidemir|              79946792|         5|           11|2016-06-24 00:00:00|\n",
      "|     859|19820|           gy tolmar|            gy tolmr|                  null|         3|            2|2016-06-24 00:00:00|\n",
      "|     978|17891|      ximena faundez|       ximena fandez|             149744451|        19|           62|2016-06-24 00:00:00|\n",
      "|    1139|19630|      jennifer putzi|      jennifer putzi|                  null|         4|            6|2016-06-24 00:00:00|\n",
      "|    1476|21131|           勲矢 手島|                    |                  null|         1|            0|2016-06-24 00:00:00|\n",
      "|    1611|20438|           純子 貝原|                    |                  null|         2|            0|2016-06-24 00:00:00|\n",
      "|    1799|18387|    hossein gholaman|    hossein gholaman|              62318514|         2|          246|2016-06-24 00:00:00|\n",
      "|    1968|19522|maria isabel lorc...|mara isabel lorca...|              82767444|         5|            0|2016-06-24 00:00:00|\n",
      "|    2255|19137|            bin liuy|            bin liuy|              99065089|         3|           24|2016-06-24 00:00:00|\n",
      "|    2722|19280|       susan macicak|       susan macicak|                  null|         2|           19|2016-06-24 00:00:00|\n",
      "+--------+-----+--------------------+--------------------+----------------------+----------+-------------+-------------------+\n",
      "only showing top 10 rows\n",
      "\n"
     ]
    }
   ],
   "source": [
    "authors.show(10)"
   ]
  },
  {
   "cell_type": "code",
   "execution_count": 36,
   "metadata": {},
   "outputs": [],
   "source": [
    "authors.coalesce(10).write.option(\"header\",\"true\") \\\n",
    "                          .option(\"sep\",\"~\") \\\n",
    "                          .option(\"quoteAll\", True) \\\n",
    "                          .mode(\"overwrite\") \\\n",
    "                          .csv('/N/project/mag/mag_jg_2021_update/nodes/authors') "
   ]
  }
 ],
 "metadata": {
  "kernelspec": {
   "display_name": "Python 3",
   "language": "python",
   "name": "python3"
  },
  "language_info": {
   "codemirror_mode": {
    "name": "ipython",
    "version": 3
   },
   "file_extension": ".py",
   "mimetype": "text/x-python",
   "name": "python",
   "nbconvert_exporter": "python",
   "pygments_lexer": "ipython3",
   "version": "3.6.8"
  }
 },
 "nbformat": 4,
 "nbformat_minor": 2
}
