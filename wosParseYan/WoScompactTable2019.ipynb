{
 "cells": [
  {
   "cell_type": "code",
   "execution_count": 10,
   "metadata": {},
   "outputs": [
    {
     "data": {
      "text/plain": [
       "sqlContext = org.apache.spark.sql.SQLContext@7788eaa3\n"
      ]
     },
     "metadata": {},
     "output_type": "display_data"
    },
    {
     "data": {
      "text/plain": [
       "warning: there was one deprecation warning; re-run with -deprecation for details\n"
      ]
     },
     "metadata": {},
     "output_type": "display_data"
    },
    {
     "data": {
      "text/plain": [
       "Some(http://iuni2:4040)"
      ]
     },
     "execution_count": 10,
     "metadata": {},
     "output_type": "execute_result"
    }
   ],
   "source": [
    "import org.apache.spark.sql.SQLContext\n",
    "import org.apache.spark.sql.types.{StructType, StructField, StringType, DoubleType};\n",
    "import com.databricks.spark.xml._\n",
    "\n",
    "val sqlContext = new SQLContext(sc)\n",
    "import sqlContext.implicits._\n",
    "sqlContext.sql(\"set spark.sql.caseSensitive=true\") \n",
    "//Setting up aws keys, please update for security \n",
    "sc.hadoopConfiguration.set(\"fs.s3a.access.key\", \"\");\n",
    "sc.hadoopConfiguration.set(\"fs.s3a.secret.key\", \"\");\n",
    "spark.sparkContext.uiWebUrl"
   ]
  },
  {
   "cell_type": "code",
   "execution_count": 2,
   "metadata": {
    "scrolled": true
   },
   "outputs": [
    {
     "data": {
      "text/plain": [
       "Name: org.apache.spark.SparkException\n",
       "Message: Job 0 cancelled as part of cancellation of all jobs\n",
       "StackTrace:   at org.apache.spark.scheduler.DAGScheduler.org$apache$spark$scheduler$DAGScheduler$$failJobAndIndependentStages(DAGScheduler.scala:1890)\n",
       "  at org.apache.spark.scheduler.DAGScheduler.handleJobCancellation(DAGScheduler.scala:1825)\n",
       "  at org.apache.spark.scheduler.DAGScheduler$$anonfun$doCancelAllJobs$1.apply$mcVI$sp(DAGScheduler.scala:833)\n",
       "  at org.apache.spark.scheduler.DAGScheduler$$anonfun$doCancelAllJobs$1.apply(DAGScheduler.scala:833)\n",
       "  at org.apache.spark.scheduler.DAGScheduler$$anonfun$doCancelAllJobs$1.apply(DAGScheduler.scala:833)\n",
       "  at scala.collection.mutable.HashSet.foreach(HashSet.scala:78)\n",
       "  at org.apache.spark.scheduler.DAGScheduler.doCancelAllJobs(DAGScheduler.scala:833)\n",
       "  at org.apache.spark.scheduler.DAGSchedulerEventProcessLoop.doOnReceive(DAGScheduler.scala:2083)\n",
       "  at org.apache.spark.scheduler.DAGSchedulerEventProcessLoop.onReceive(DAGScheduler.scala:2060)\n",
       "  at org.apache.spark.scheduler.DAGSchedulerEventProcessLoop.onReceive(DAGScheduler.scala:2049)\n",
       "  at org.apache.spark.util.EventLoop$$anon$1.run(EventLoop.scala:49)\n",
       "  at org.apache.spark.scheduler.DAGScheduler.runJob(DAGScheduler.scala:740)\n",
       "  at org.apache.spark.SparkContext.runJob(SparkContext.scala:2081)\n",
       "  at org.apache.spark.SparkContext.runJob(SparkContext.scala:2178)\n",
       "  at org.apache.spark.rdd.RDD$$anonfun$fold$1.apply(RDD.scala:1098)\n",
       "  at org.apache.spark.rdd.RDDOperationScope$.withScope(RDDOperationScope.scala:151)\n",
       "  at org.apache.spark.rdd.RDDOperationScope$.withScope(RDDOperationScope.scala:112)\n",
       "  at org.apache.spark.rdd.RDD.withScope(RDD.scala:363)\n",
       "  at org.apache.spark.rdd.RDD.fold(RDD.scala:1092)\n",
       "  at com.databricks.spark.xml.util.InferSchema$.infer(InferSchema.scala:111)\n",
       "  at com.databricks.spark.xml.XmlRelation$$anonfun$1.apply(XmlRelation.scala:42)\n",
       "  at com.databricks.spark.xml.XmlRelation$$anonfun$1.apply(XmlRelation.scala:42)\n",
       "  at scala.Option.getOrElse(Option.scala:121)\n",
       "  at com.databricks.spark.xml.XmlRelation.<init>(XmlRelation.scala:41)\n",
       "  at com.databricks.spark.xml.XmlRelation$.apply(XmlRelation.scala:29)\n",
       "  at com.databricks.spark.xml.DefaultSource.createRelation(DefaultSource.scala:73)\n",
       "  at com.databricks.spark.xml.DefaultSource.createRelation(DefaultSource.scala:51)\n",
       "  at org.apache.spark.sql.execution.datasources.DataSource.resolveRelation(DataSource.scala:317)\n",
       "  at org.apache.spark.sql.DataFrameReader.loadV1Source(DataFrameReader.scala:223)\n",
       "  at org.apache.spark.sql.DataFrameReader.load(DataFrameReader.scala:211)\n",
       "  at org.apache.spark.sql.DataFrameReader.load(DataFrameReader.scala:178)"
      ]
     },
     "execution_count": 2,
     "metadata": {},
     "output_type": "execute_result"
    }
   ],
   "source": [
    "//val sqlContext = new SQLContext(sc)\n",
    "val df = sqlContext.read\n",
    "  .format(\"com.databricks.spark.xml\")\n",
    "  .option(\"rowTag\", \"REC\")\n",
    "  //.schema(customSchema)\n",
    "  .load(\"/WoSraw/WoS2019/xmlRaw/*.xml.gz\")\n",
    "\n",
    "df.show(2)\n",
    "df.printSchema()"
   ]
  },
  {
   "cell_type": "code",
   "execution_count": 4,
   "metadata": {},
   "outputs": [],
   "source": [
    "import org.apache.spark.sql.SaveMode\n",
    "df.write.mode(SaveMode.Overwrite)\n",
    ".parquet(\"/WoSraw/WoS2019/parquet\")\n",
    "//WoS2.describe().filter($\"summary\" === \"count\").show"
   ]
  },
  {
   "cell_type": "code",
   "execution_count": 3,
   "metadata": {
    "scrolled": true
   },
   "outputs": [
    {
     "name": "stdout",
     "output_type": "stream",
     "text": [
      "root\n",
      " |-- UID: string (nullable = true)\n",
      " |-- identifier: array (nullable = true)\n",
      " |    |-- element: struct (containsNull = true)\n",
      " |    |    |-- _VALUE: string (nullable = true)\n",
      " |    |    |-- _type: string (nullable = true)\n",
      " |    |    |-- _value: string (nullable = true)\n",
      " |-- doctype: array (nullable = true)\n",
      " |    |-- element: string (containsNull = true)\n",
      " |-- name: array (nullable = true)\n",
      " |    |-- element: struct (containsNull = true)\n",
      " |    |    |-- _addr_no: string (nullable = true)\n",
      " |    |    |-- _orcid_id_tr: string (nullable = true)\n",
      " |    |    |-- _r_id_tr: string (nullable = true)\n",
      " |    |    |-- _reprint: string (nullable = true)\n",
      " |    |    |-- _role: string (nullable = true)\n",
      " |    |    |-- _seq_no: long (nullable = true)\n",
      " |    |    |-- display_name: string (nullable = true)\n",
      " |    |    |-- email_addr: string (nullable = true)\n",
      " |    |    |-- first_name: string (nullable = true)\n",
      " |    |    |-- full_name: string (nullable = true)\n",
      " |    |    |-- last_name: string (nullable = true)\n",
      " |    |    |-- suffix: string (nullable = true)\n",
      " |    |    |-- wos_standard: string (nullable = true)\n",
      " |-- titles: struct (nullable = true)\n",
      " |    |-- _count: long (nullable = true)\n",
      " |    |-- title: array (nullable = true)\n",
      " |    |    |-- element: struct (containsNull = true)\n",
      " |    |    |    |-- _VALUE: string (nullable = true)\n",
      " |    |    |    |-- _translated: string (nullable = true)\n",
      " |    |    |    |-- _type: string (nullable = true)\n",
      " |-- conference: array (nullable = true)\n",
      " |    |-- element: struct (containsNull = true)\n",
      " |    |    |-- _conf_id: long (nullable = true)\n",
      " |    |    |-- conf_dates: struct (nullable = true)\n",
      " |    |    |    |-- _count: long (nullable = true)\n",
      " |    |    |    |-- conf_date: struct (nullable = true)\n",
      " |    |    |    |    |-- _VALUE: string (nullable = true)\n",
      " |    |    |    |    |-- _conf_end: string (nullable = true)\n",
      " |    |    |    |    |-- _conf_start: string (nullable = true)\n",
      " |    |    |-- conf_infos: struct (nullable = true)\n",
      " |    |    |    |-- _count: long (nullable = true)\n",
      " |    |    |    |-- conf_info: string (nullable = true)\n",
      " |    |    |-- conf_locations: struct (nullable = true)\n",
      " |    |    |    |-- _count: long (nullable = true)\n",
      " |    |    |    |-- conf_location: struct (nullable = true)\n",
      " |    |    |    |    |-- conf_city: string (nullable = true)\n",
      " |    |    |    |    |-- conf_host: string (nullable = true)\n",
      " |    |    |    |    |-- conf_state: string (nullable = true)\n",
      " |    |    |-- conf_titles: struct (nullable = true)\n",
      " |    |    |    |-- _count: long (nullable = true)\n",
      " |    |    |    |-- conf_title: string (nullable = true)\n",
      " |    |    |-- sponsors: struct (nullable = true)\n",
      " |    |    |    |-- _count: long (nullable = true)\n",
      " |    |    |    |-- sponsor: array (nullable = true)\n",
      " |    |    |    |    |-- element: string (containsNull = true)\n",
      " |-- address_name: array (nullable = true)\n",
      " |    |-- element: struct (containsNull = true)\n",
      " |    |    |-- address_spec: struct (nullable = true)\n",
      " |    |    |    |-- _addr_no: long (nullable = true)\n",
      " |    |    |    |-- city: string (nullable = true)\n",
      " |    |    |    |-- country: string (nullable = true)\n",
      " |    |    |    |-- full_address: string (nullable = true)\n",
      " |    |    |    |-- organizations: struct (nullable = true)\n",
      " |    |    |    |    |-- _count: long (nullable = true)\n",
      " |    |    |    |    |-- organization: array (nullable = true)\n",
      " |    |    |    |    |    |-- element: struct (containsNull = true)\n",
      " |    |    |    |    |    |    |-- _VALUE: string (nullable = true)\n",
      " |    |    |    |    |    |    |-- _pref: string (nullable = true)\n",
      " |    |    |    |-- state: string (nullable = true)\n",
      " |    |    |    |-- street: string (nullable = true)\n",
      " |    |    |    |-- suborganizations: struct (nullable = true)\n",
      " |    |    |    |    |-- _count: long (nullable = true)\n",
      " |    |    |    |    |-- suborganization: array (nullable = true)\n",
      " |    |    |    |    |    |-- element: string (containsNull = true)\n",
      " |    |    |    |-- zip: array (nullable = true)\n",
      " |    |    |    |    |-- element: struct (containsNull = true)\n",
      " |    |    |    |    |    |-- _VALUE: string (nullable = true)\n",
      " |    |    |    |    |    |-- _location: string (nullable = true)\n",
      " |    |    |-- names: struct (nullable = true)\n",
      " |    |    |    |-- _count: long (nullable = true)\n",
      " |    |    |    |-- name: array (nullable = true)\n",
      " |    |    |    |    |-- element: struct (containsNull = true)\n",
      " |    |    |    |    |    |-- _addr_no: long (nullable = true)\n",
      " |    |    |    |    |    |-- _orcid_id_tr: string (nullable = true)\n",
      " |    |    |    |    |    |-- _r_id: string (nullable = true)\n",
      " |    |    |    |    |    |-- _r_id_tr: string (nullable = true)\n",
      " |    |    |    |    |    |-- _reprint: string (nullable = true)\n",
      " |    |    |    |    |    |-- _role: string (nullable = true)\n",
      " |    |    |    |    |    |-- _seq_no: long (nullable = true)\n",
      " |    |    |    |    |    |-- display_name: string (nullable = true)\n",
      " |    |    |    |    |    |-- email_addr: string (nullable = true)\n",
      " |    |    |    |    |    |-- first_name: string (nullable = true)\n",
      " |    |    |    |    |    |-- full_name: string (nullable = true)\n",
      " |    |    |    |    |    |-- last_name: string (nullable = true)\n",
      " |    |    |    |    |    |-- suffix: string (nullable = true)\n",
      " |    |    |    |    |    |-- wos_standard: string (nullable = true)\n",
      " |-- reprint_addresses: struct (nullable = true)\n",
      " |    |-- _count: long (nullable = true)\n",
      " |    |-- address_name: array (nullable = true)\n",
      " |    |    |-- element: struct (containsNull = true)\n",
      " |    |    |    |-- address_spec: struct (nullable = true)\n",
      " |    |    |    |    |-- _addr_no: long (nullable = true)\n",
      " |    |    |    |    |-- city: string (nullable = true)\n",
      " |    |    |    |    |-- country: string (nullable = true)\n",
      " |    |    |    |    |-- full_address: string (nullable = true)\n",
      " |    |    |    |    |-- organizations: struct (nullable = true)\n",
      " |    |    |    |    |    |-- _count: long (nullable = true)\n",
      " |    |    |    |    |    |-- organization: array (nullable = true)\n",
      " |    |    |    |    |    |    |-- element: struct (containsNull = true)\n",
      " |    |    |    |    |    |    |    |-- _VALUE: string (nullable = true)\n",
      " |    |    |    |    |    |    |    |-- _pref: string (nullable = true)\n",
      " |    |    |    |    |-- state: string (nullable = true)\n",
      " |    |    |    |    |-- street: string (nullable = true)\n",
      " |    |    |    |    |-- suborganizations: struct (nullable = true)\n",
      " |    |    |    |    |    |-- _count: long (nullable = true)\n",
      " |    |    |    |    |    |-- suborganization: array (nullable = true)\n",
      " |    |    |    |    |    |    |-- element: string (containsNull = true)\n",
      " |    |    |    |    |-- zip: array (nullable = true)\n",
      " |    |    |    |    |    |-- element: struct (containsNull = true)\n",
      " |    |    |    |    |    |    |-- _VALUE: string (nullable = true)\n",
      " |    |    |    |    |    |    |-- _location: string (nullable = true)\n",
      " |    |    |    |-- names: struct (nullable = true)\n",
      " |    |    |    |    |-- _count: long (nullable = true)\n",
      " |    |    |    |    |-- name: array (nullable = true)\n",
      " |    |    |    |    |    |-- element: struct (containsNull = true)\n",
      " |    |    |    |    |    |    |-- _addr_no: long (nullable = true)\n",
      " |    |    |    |    |    |    |-- _display: string (nullable = true)\n",
      " |    |    |    |    |    |    |-- _reprint: string (nullable = true)\n",
      " |    |    |    |    |    |    |-- _role: string (nullable = true)\n",
      " |    |    |    |    |    |    |-- _seq_no: long (nullable = true)\n",
      " |    |    |    |    |    |    |-- display_name: string (nullable = true)\n",
      " |    |    |    |    |    |    |-- email_addr: string (nullable = true)\n",
      " |    |    |    |    |    |    |-- first_name: string (nullable = true)\n",
      " |    |    |    |    |    |    |-- full_name: string (nullable = true)\n",
      " |    |    |    |    |    |    |-- last_name: string (nullable = true)\n",
      " |    |    |    |    |    |    |-- suffix: string (nullable = true)\n",
      " |    |    |    |    |    |    |-- wos_standard: string (nullable = true)\n",
      " |-- abstract_text: struct (nullable = true)\n",
      " |    |-- _count: long (nullable = true)\n",
      " |    |-- p: array (nullable = true)\n",
      " |    |    |-- element: string (containsNull = true)\n",
      " |-- keyword: array (nullable = true)\n",
      " |    |-- element: string (containsNull = true)\n",
      " |-- reference: array (nullable = true)\n",
      " |    |-- element: struct (containsNull = true)\n",
      " |    |    |-- art_no: string (nullable = true)\n",
      " |    |    |-- assignee: string (nullable = true)\n",
      " |    |    |-- citedAuthor: string (nullable = true)\n",
      " |    |    |-- citedTitle: string (nullable = true)\n",
      " |    |    |-- citedWork: string (nullable = true)\n",
      " |    |    |-- doi: string (nullable = true)\n",
      " |    |    |-- i: array (nullable = true)\n",
      " |    |    |    |-- element: string (containsNull = true)\n",
      " |    |    |-- page: string (nullable = true)\n",
      " |    |    |-- patent_no: string (nullable = true)\n",
      " |    |    |-- sub: array (nullable = true)\n",
      " |    |    |    |-- element: string (containsNull = true)\n",
      " |    |    |-- sup: array (nullable = true)\n",
      " |    |    |    |-- element: string (containsNull = true)\n",
      " |    |    |-- uid: string (nullable = true)\n",
      " |    |    |-- volume: string (nullable = true)\n",
      " |    |    |-- year: string (nullable = true)\n",
      " |-- contributor: array (nullable = true)\n",
      " |    |-- element: struct (containsNull = true)\n",
      " |    |    |-- name: struct (nullable = true)\n",
      " |    |    |    |-- _orcid_id: string (nullable = true)\n",
      " |    |    |    |-- _r_id: string (nullable = true)\n",
      " |    |    |    |-- _role: string (nullable = true)\n",
      " |    |    |    |-- _seq_no: long (nullable = true)\n",
      " |    |    |    |-- display_name: string (nullable = true)\n",
      " |    |    |    |-- first_name: string (nullable = true)\n",
      " |    |    |    |-- full_name: string (nullable = true)\n",
      " |    |    |    |-- last_name: string (nullable = true)\n",
      " |-- EWUID: struct (nullable = true)\n",
      " |    |-- WUID: struct (nullable = true)\n",
      " |    |    |-- _VALUE: string (nullable = true)\n",
      " |    |    |-- _coll_id: string (nullable = true)\n",
      " |    |-- edition: array (nullable = true)\n",
      " |    |    |-- element: struct (containsNull = true)\n",
      " |    |    |    |-- _VALUE: string (nullable = true)\n",
      " |    |    |    |-- _value: string (nullable = true)\n",
      " |-- pub_info: struct (nullable = true)\n",
      " |    |-- _coverdate: string (nullable = true)\n",
      " |    |-- _early_access_date: string (nullable = true)\n",
      " |    |-- _early_access_month: long (nullable = true)\n",
      " |    |-- _early_access_year: long (nullable = true)\n",
      " |    |-- _has_abstract: string (nullable = true)\n",
      " |    |-- _issue: string (nullable = true)\n",
      " |    |-- _part_no: string (nullable = true)\n",
      " |    |-- _pubmonth: string (nullable = true)\n",
      " |    |-- _pubtype: string (nullable = true)\n",
      " |    |-- _pubyear: long (nullable = true)\n",
      " |    |-- _sortdate: string (nullable = true)\n",
      " |    |-- _special_issue: string (nullable = true)\n",
      " |    |-- _supplement: string (nullable = true)\n",
      " |    |-- _vol: string (nullable = true)\n",
      " |    |-- page: struct (nullable = true)\n",
      " |    |    |-- _VALUE: string (nullable = true)\n",
      " |    |    |-- _begin: string (nullable = true)\n",
      " |    |    |-- _end: string (nullable = true)\n",
      " |    |    |-- _page_count: long (nullable = true)\n",
      " |-- publishers: struct (nullable = true)\n",
      " |    |-- publisher: struct (nullable = true)\n",
      " |    |    |-- address_spec: struct (nullable = true)\n",
      " |    |    |    |-- _addr_no: long (nullable = true)\n",
      " |    |    |    |-- city: string (nullable = true)\n",
      " |    |    |    |-- full_address: string (nullable = true)\n",
      " |    |    |-- names: struct (nullable = true)\n",
      " |    |    |    |-- _count: long (nullable = true)\n",
      " |    |    |    |-- name: struct (nullable = true)\n",
      " |    |    |    |    |-- _addr_no: long (nullable = true)\n",
      " |    |    |    |    |-- _role: string (nullable = true)\n",
      " |    |    |    |    |-- _seq_no: long (nullable = true)\n",
      " |    |    |    |    |-- display_name: string (nullable = true)\n",
      " |    |    |    |    |-- full_name: string (nullable = true)\n",
      " |-- fund_ack: struct (nullable = true)\n",
      " |    |-- fund_text: struct (nullable = true)\n",
      " |    |    |-- p: array (nullable = true)\n",
      " |    |    |    |-- element: string (containsNull = true)\n",
      " |    |-- grants: struct (nullable = true)\n",
      " |    |    |-- _count: long (nullable = true)\n",
      " |    |    |-- grant: array (nullable = true)\n",
      " |    |    |    |-- element: struct (containsNull = true)\n",
      " |    |    |    |    |-- grant_agency: string (nullable = true)\n",
      " |    |    |    |    |-- grant_ids: struct (nullable = true)\n",
      " |    |    |    |    |    |-- _count: long (nullable = true)\n",
      " |    |    |    |    |    |-- grant_id: array (nullable = true)\n",
      " |    |    |    |    |    |    |-- element: string (containsNull = true)\n",
      "\n"
     ]
    },
    {
     "data": {
      "text/plain": [
       "WoS = [UID: string, _r_id_disclaimer: string ... 14 more fields]\n",
       "WoS2 = [UID: string, identifier: array<struct<_VALUE:string,_type:string,_value:string>> ... 14 more fields]\n"
      ]
     },
     "metadata": {},
     "output_type": "display_data"
    },
    {
     "data": {
      "text/plain": [
       "lastException: Throwable = null\n"
      ]
     },
     "metadata": {},
     "output_type": "display_data"
    },
    {
     "data": {
      "text/plain": [
       "[UID: string, identifier: array<struct<_VALUE:string,_type:string,_value:string>> ... 14 more fields]"
      ]
     },
     "execution_count": 3,
     "metadata": {},
     "output_type": "execute_result"
    }
   ],
   "source": [
    "val WoS = spark.read.format(\"parquet\").load(\"/WoSraw/WoS2019/parquet/*.parquet\")\n",
    "\n",
    "val WoS2 = WoS.select(\"UID\",\"dynamic_data.cluster_related.identifiers.identifier\",\"static_data.summary.doctypes.doctype\",\n",
    "                      \"static_data.summary.names.name\",\"static_data.summary.titles\",\"static_data.summary.conferences.conference\",\n",
    "                      \"static_data.fullrecord_metadata.addresses.address_name\", \"static_data.fullrecord_metadata.reprint_addresses\",\n",
    "                      \"static_data.fullrecord_metadata.abstracts.abstract.abstract_text\",\n",
    "                      \"static_data.fullrecord_metadata.keywords.keyword\",\"static_data.fullrecord_metadata.references.reference\",\n",
    "                      \"static_data.contributors.contributor\",\"static_data.summary.EWUID\",\n",
    "                      \"static_data.summary.pub_info\",\"static_data.summary.publishers\",\"static_data.fullrecord_metadata.fund_ack\")\n",
    "WoS2.printSchema"
   ]
  },
  {
   "cell_type": "code",
   "execution_count": 40,
   "metadata": {
    "scrolled": true
   },
   "outputs": [
    {
     "data": {
      "text/plain": [
       "WoSref = [citing: string, refList: array<string> ... 1 more field]\n"
      ]
     },
     "metadata": {},
     "output_type": "display_data"
    },
    {
     "data": {
      "text/plain": [
       "[citing: string, refList: array<string> ... 1 more field]"
      ]
     },
     "execution_count": 40,
     "metadata": {},
     "output_type": "execute_result"
    }
   ],
   "source": [
    "import scala.util.Try\n",
    "import org.apache.spark.sql.functions._\n",
    "import org.apache.spark.sql.{Row, SQLContext}\n",
    "import org.apache.spark.sql.functions.countDistinct\n",
    "import org.apache.spark.sql.SaveMode\n",
    "\n",
    "//WoS2.write.mode(SaveMode.Overwrite).json(\"/WoSraw/WoS2019/json\")\n",
    "\n",
    "//WoS2.write.mode(SaveMode.Overwrite).parquet(\"s3a://wos-athena/wos2019raw\")\n",
    "//reading and writing from aws needs proper key setup in cell 1\n",
    "val WoSref = WoS2.select(\"UID\",\"reference.uid\").toDF(\"citing\",\"refList\").withColumn(\"cited\", explode(col(\"refList\")))\n",
    "WoSref.select(\"citing\",\"cited\").orderBy($\"citing\".desc).write.mode(SaveMode.Overwrite)\n",
    "    .parquet(\"s3a://wos-athena/wos2019raw/refEdges/\")\n",
    "\n",
    "//val test = spark.read.format(\"csv\").load(\"s3a://wos-athena/NeuroJournalsAzure.tsv\")\n",
    "//test.show"
   ]
  },
  {
   "cell_type": "code",
   "execution_count": 9,
   "metadata": {
    "scrolled": true
   },
   "outputs": [
    {
     "data": {
      "text/plain": [
       "WoSref = [citing: string, refList: array<string> ... 1 more field]\n"
      ]
     },
     "metadata": {},
     "output_type": "display_data"
    },
    {
     "data": {
      "text/plain": [
       "lastException: Throwable = null\n"
      ]
     },
     "metadata": {},
     "output_type": "display_data"
    },
    {
     "data": {
      "text/plain": [
       "[citing: string, refList: array<string> ... 1 more field]"
      ]
     },
     "execution_count": 9,
     "metadata": {},
     "output_type": "execute_result"
    }
   ],
   "source": [
    "import scala.util.Try\n",
    "import org.apache.spark.sql.functions._\n",
    "import org.apache.spark.sql.{Row, SQLContext}\n",
    "import org.apache.spark.sql.functions.countDistinct\n",
    "import org.apache.spark.sql.SaveMode\n",
    "import org.apache.spark.sql.functions.not\n",
    "\n",
    "val WoSref = WoS2.select(\"UID\",\"reference.uid\").toDF(\"citing\",\"refList\").withColumn(\"cited\", explode(col(\"refList\")))\n",
    "WoSref.select(\"citing\",\"cited\").where($\"cited\".contains(\"WOS:\") && not($\"cited\".contains(\".\")))\n",
    "    .coalesce(1).write.mode(SaveMode.Overwrite)\n",
    "    .format(\"com.databricks.spark.csv\")\n",
    "    .option(\"header\", \"true\")//.option(\"compression\", \"gzip\")\n",
    "    .save(\"/WoSraw/WoS2019/json/refEdgesFiltered.csv\")"
   ]
  },
  {
   "cell_type": "code",
   "execution_count": 7,
   "metadata": {},
   "outputs": [
    {
     "data": {
      "text/plain": [
       "WoSref = [citing: string, refList: array<string> ... 1 more field]\n"
      ]
     },
     "metadata": {},
     "output_type": "display_data"
    },
    {
     "data": {
      "text/plain": [
       "[citing: string, refList: array<string> ... 1 more field]"
      ]
     },
     "execution_count": 7,
     "metadata": {},
     "output_type": "execute_result"
    }
   ],
   "source": [
    "import scala.util.Try\n",
    "import org.apache.spark.sql.functions._\n",
    "import org.apache.spark.sql.{Row, SQLContext}\n",
    "import org.apache.spark.sql.functions.countDistinct\n",
    "import org.apache.spark.sql.SaveMode\n",
    "\n",
    "val WoSref = WoS2.select(\"UID\",\"reference.uid\").toDF(\"citing\",\"refList\").withColumn(\"cited\", explode(col(\"refList\")))\n",
    "WoSref.select(\"citing\",\"cited\").orderBy($\"cited\".desc).coalesce(1).write.mode(SaveMode.Overwrite)\n",
    "    .format(\"com.databricks.spark.csv\")\n",
    "    .option(\"header\", \"true\").option(\"compression\", \"gzip\")\n",
    "    .save(\"/WoSraw/WoS2019/json/citeEdges.csv/\")"
   ]
  },
  {
   "cell_type": "code",
   "execution_count": 19,
   "metadata": {
    "scrolled": true
   },
   "outputs": [
    {
     "name": "stdout",
     "output_type": "stream",
     "text": [
      "+-------+--------+--------+--------+---------+------------+\n",
      "|summary|     UID|_pubtype|_pubyear|full_name|allAddresses|\n",
      "+-------+--------+--------+--------+---------+------------+\n",
      "|  count|74883966|74883966|74883966| 74588122|    52459808|\n",
      "+-------+--------+--------+--------+---------+------------+\n",
      "\n"
     ]
    },
    {
     "data": {
      "text/plain": [
       "WoS3 = [UID: string, _pubtype: string ... 10 more fields]\n",
       "WoS4 = [UID: string, _pubtype: string ... 11 more fields]\n"
      ]
     },
     "metadata": {},
     "output_type": "display_data"
    },
    {
     "data": {
      "text/plain": [
       "[UID: string, _pubtype: string ... 11 more fields]"
      ]
     },
     "execution_count": 19,
     "metadata": {},
     "output_type": "execute_result"
    }
   ],
   "source": [
    "val WoS3 = WoS2.select(\"UID\", \"pub_info._pubtype\", \"pub_info._pubyear\", \"fund_ack.fund_text\", \"titles\", \"conference\", \"keyword\", \"abstract_text\",\n",
    "                       \"identifier\", \"name\",\"publishers.publisher.names.name.full_name\",\"address_name.address_spec.full_address\")\n",
    "val WoS4 = WoS3.withColumn(\"allAddresses\", array_join($\"full_address\", \"|\")).cache()\n",
    "WoS4.describe().filter($\"summary\" === \"count\").show"
   ]
  },
  {
   "cell_type": "code",
   "execution_count": 20,
   "metadata": {
    "scrolled": true
   },
   "outputs": [
    {
     "name": "stdout",
     "output_type": "stream",
     "text": [
      "root\n",
      " |-- UID: string (nullable = true)\n",
      " |-- _pubtype: string (nullable = true)\n",
      " |-- _pubyear: long (nullable = true)\n",
      " |-- fund_text: struct (nullable = true)\n",
      " |    |-- p: array (nullable = true)\n",
      " |    |    |-- element: string (containsNull = true)\n",
      " |-- titles: struct (nullable = true)\n",
      " |    |-- _count: long (nullable = true)\n",
      " |    |-- title: array (nullable = true)\n",
      " |    |    |-- element: struct (containsNull = true)\n",
      " |    |    |    |-- _VALUE: string (nullable = true)\n",
      " |    |    |    |-- _translated: string (nullable = true)\n",
      " |    |    |    |-- _type: string (nullable = true)\n",
      " |-- conference: array (nullable = true)\n",
      " |    |-- element: struct (containsNull = true)\n",
      " |    |    |-- _conf_id: long (nullable = true)\n",
      " |    |    |-- conf_dates: struct (nullable = true)\n",
      " |    |    |    |-- _count: long (nullable = true)\n",
      " |    |    |    |-- conf_date: struct (nullable = true)\n",
      " |    |    |    |    |-- _VALUE: string (nullable = true)\n",
      " |    |    |    |    |-- _conf_end: string (nullable = true)\n",
      " |    |    |    |    |-- _conf_start: string (nullable = true)\n",
      " |    |    |-- conf_infos: struct (nullable = true)\n",
      " |    |    |    |-- _count: long (nullable = true)\n",
      " |    |    |    |-- conf_info: string (nullable = true)\n",
      " |    |    |-- conf_locations: struct (nullable = true)\n",
      " |    |    |    |-- _count: long (nullable = true)\n",
      " |    |    |    |-- conf_location: struct (nullable = true)\n",
      " |    |    |    |    |-- conf_city: string (nullable = true)\n",
      " |    |    |    |    |-- conf_host: string (nullable = true)\n",
      " |    |    |    |    |-- conf_state: string (nullable = true)\n",
      " |    |    |-- conf_titles: struct (nullable = true)\n",
      " |    |    |    |-- _count: long (nullable = true)\n",
      " |    |    |    |-- conf_title: string (nullable = true)\n",
      " |    |    |-- sponsors: struct (nullable = true)\n",
      " |    |    |    |-- _count: long (nullable = true)\n",
      " |    |    |    |-- sponsor: array (nullable = true)\n",
      " |    |    |    |    |-- element: string (containsNull = true)\n",
      " |-- keyword: array (nullable = true)\n",
      " |    |-- element: string (containsNull = true)\n",
      " |-- abstract_text: struct (nullable = true)\n",
      " |    |-- _count: long (nullable = true)\n",
      " |    |-- p: array (nullable = true)\n",
      " |    |    |-- element: string (containsNull = true)\n",
      " |-- identifier: array (nullable = true)\n",
      " |    |-- element: struct (containsNull = true)\n",
      " |    |    |-- _VALUE: string (nullable = true)\n",
      " |    |    |-- _type: string (nullable = true)\n",
      " |    |    |-- _value: string (nullable = true)\n",
      " |-- name: array (nullable = true)\n",
      " |    |-- element: struct (containsNull = true)\n",
      " |    |    |-- _addr_no: string (nullable = true)\n",
      " |    |    |-- _orcid_id_tr: string (nullable = true)\n",
      " |    |    |-- _r_id_tr: string (nullable = true)\n",
      " |    |    |-- _reprint: string (nullable = true)\n",
      " |    |    |-- _role: string (nullable = true)\n",
      " |    |    |-- _seq_no: long (nullable = true)\n",
      " |    |    |-- display_name: string (nullable = true)\n",
      " |    |    |-- email_addr: string (nullable = true)\n",
      " |    |    |-- first_name: string (nullable = true)\n",
      " |    |    |-- full_name: string (nullable = true)\n",
      " |    |    |-- last_name: string (nullable = true)\n",
      " |    |    |-- suffix: string (nullable = true)\n",
      " |    |    |-- wos_standard: string (nullable = true)\n",
      " |-- full_name: string (nullable = true)\n",
      " |-- full_address: array (nullable = true)\n",
      " |    |-- element: string (containsNull = true)\n",
      " |-- allAddresses: string (nullable = true)\n",
      "\n"
     ]
    }
   ],
   "source": [
    "WoS4.printSchema"
   ]
  },
  {
   "cell_type": "code",
   "execution_count": 21,
   "metadata": {
    "scrolled": true
   },
   "outputs": [
    {
     "name": "stdout",
     "output_type": "stream",
     "text": [
      "+-------------------+--------+--------+---------+--------------------+----------+-------+-------------+--------------------+--------------------+--------------------+--------------------+--------------------+----+----+\n",
      "|                UID|_pubtype|_pubyear|fund_text|              titles|conference|keyword|abstract_text|          identifier|                name|           full_name|        full_address|        allAddresses|  FX|  AB|\n",
      "+-------------------+--------+--------+---------+--------------------+----------+-------+-------------+--------------------+--------------------+--------------------+--------------------+--------------------+----+----+\n",
      "|WOS:A1985AUK0600019| Journal|    1985|     null|[6, [[CLINICA CHI...|      null|   null|         null|[[, accession_no,...|[[,,, Y, author, ...| ELSEVIER SCIENCE BV|                null|                null|null|null|\n",
      "|WOS:A1985ATW9400035| Journal|    1985|     null|[6, [[INSULA-REVI...|      null|   null|         null|[[, accession_no,...|[[,,,, author, 1,...|INSULA LIBRERIA E...|                null|                null|null|null|\n",
      "|WOS:A1985AHR7600027| Journal|    1985|     null|[6, [[ELECTRONICS...|      null|   null|         null|[[, accession_no,...|[[,,, Y, author, ...|   IEE-INST ELEC ENG|                null|                null|null|null|\n",
      "|WOS:A1985AJM7300014| Journal|    1985|     null|[5, [[ACTA MORPHO...|      null|   null|         null|[[, accession_no,...|[[,,,, author, 1,...|SWETS ZEITLINGER ...|[STATE UNIV UTREC...|STATE UNIV UTRECH...|null|null|\n",
      "|WOS:A1985APH5500026| Journal|    1985|     null|[6, [[AIAA JOURNA...|      null|   null|         null|[[, accession_no,...|[[,,, Y, author, ...|AMER INST AERONAU...|                null|                null|null|null|\n",
      "|WOS:A1985AAK3200005| Journal|    1985|     null|[6, [[CRYOGENICS,...|      null|   null|         null|[[, accession_no,...|[[,,, Y, author, ...|BUTTERWORTH-HEINE...|                null|                null|null|null|\n",
      "|WOS:A1985AVL2400004| Journal|    1985|     null|[6, [[THIN SOLID ...|      null|   null|         null|[[, accession_no,...|[[,,, Y, author, ...|ELSEVIER SCIENCE ...|                null|                null|null|null|\n",
      "|WOS:A1985AVR2500014| Journal|    1985|     null|[6, [[MEDICAL EDU...|      null|   null|         null|[[, accession_no,...|[[,,,, author, 1,...|BLACKWELL SCIENCE...|[CAMBRIDGE UNIV,A...|CAMBRIDGE UNIV,AD...|null|null|\n",
      "|WOS:A1985APD6100014| Journal|    1985|     null|[6, [[SOCIOLOGY-T...|      null|   null|         null|[[, accession_no,...|[[,,,, author, 1,...|SAGE PUBLICATIONS...|                null|                null|null|null|\n",
      "|WOS:A1985AUK6500034| Journal|    1985|     null|[6, [[FRENCH STUD...|      null|   null|         null|[[, accession_no,...|[[,,,, author, 1,...|  SOC FRENCH STUDIES|                null|                null|null|null|\n",
      "|WOS:A1985ADG8200012| Journal|    1985|     null|[5, [[STAIN TECHN...|      null|   null|         null|[[, accession_no,...|[[,,, Y, author, ...|  WILLIAMS & WILKINS|[UNIV MONTPELLIER...|UNIV MONTPELLIER ...|null|null|\n",
      "|WOS:A1985ASX7400138| Journal|    1985|     null|[5, [[BULLETIN OF...|      null|   null|         null|[[, accession_no,...|[[,,,, author, 1,...| PSYCHONOMIC SOC INC|[UNIV TEXAS,ARLIN...|UNIV TEXAS,ARLING...|null|null|\n",
      "|WOS:A1985ABZ8800004| Journal|    1985|     null|[6, [[ORIENTAL AR...|      null|   null|         null|[[, accession_no,...|[[,,,, author, 1,...|ORIENTAL ART MAGA...|                null|                null|null|null|\n",
      "|WOS:A1985AWJ3900005| Journal|    1985|     null|[5, [[PROCEEDINGS...|      null|   null|         null|[[, accession_no,...|[[,,, Y, author, ...| ELSEVIER SCIENCE BV|                null|                null|null|null|\n",
      "|WOS:A1985ASZ2000001| Journal|    1985|     null|[5, [[REAL ESTATE...|      null|   null|         null|[[, accession_no,...|[[,,, Y, author, ...|WARREN GORHAM LAM...|                null|                null|null|null|\n",
      "|WOS:A1985AJE7100045| Journal|    1985|     null|[6, [[FOLIA PHARM...|      null|   null|         null|[[, accession_no,...|[[,,,, author, 1,...|JAPANESE PHARMACO...|                null|                null|null|null|\n",
      "|WOS:A1985ABJ4000121| Journal|    1985|     null|[6, [[VETERINARY ...|      null|   null|         null|[[, accession_no,...|[[,,,, author, 1,...|     W B SAUNDERS CO|[UNIV GUELPH,GUEL...|UNIV GUELPH,GUELP...|null|null|\n",
      "|WOS:A1985AAS0100007| Journal|    1985|     null|[6, [[EXPERIMENTA...|      null|   null|         null|[[, accession_no,...|[[,,,, author, 1,...|     SPRINGER VERLAG|[QUEENS UNIV,DEPT...|QUEENS UNIV,DEPT ...|null|null|\n",
      "|WOS:A1985AGQ4300016| Journal|    1985|     null|[6, [[PEDIATRIC R...|      null|   null|         null|[[, accession_no,...|[[,,, Y, author, ...|     SPRINGER VERLAG|[TRIPLER ARMY MED...|TRIPLER ARMY MED ...|null|null|\n",
      "|WOS:A1985AWQ6000022| Journal|    1985|     null|[6, [[JOURNAL OF ...|      null|   null|         null|[[, accession_no,...|[[,,, Y, author, ...|    ENTOMOL SOC AMER|                null|                null|null|null|\n",
      "+-------------------+--------+--------+---------+--------------------+----------+-------+-------------+--------------------+--------------------+--------------------+--------------------+--------------------+----+----+\n",
      "only showing top 20 rows\n",
      "\n"
     ]
    },
    {
     "data": {
      "text/plain": [
       "WoS5 = [UID: string, _pubtype: string ... 13 more fields]\n"
      ]
     },
     "metadata": {},
     "output_type": "display_data"
    },
    {
     "data": {
      "text/plain": [
       "[UID: string, _pubtype: string ... 13 more fields]"
      ]
     },
     "execution_count": 21,
     "metadata": {},
     "output_type": "execute_result"
    }
   ],
   "source": [
    "//WoSIU2.describe().filter($\"summary\" === \"count\").show\n",
    "val WoS5 = WoS4.withColumn(\"FX\", array_join($\"fund_text.p\", \".\")).withColumn(\"AB\", array_join($\"abstract_text.p\", \".\"))\n",
    "WoS5.show"
   ]
  },
  {
   "cell_type": "code",
   "execution_count": 22,
   "metadata": {
    "scrolled": true
   },
   "outputs": [
    {
     "name": "stdout",
     "output_type": "stream",
     "text": [
      "+-------------------+--------+--------+---------+--------------------+----------+-------+-------------+--------------------+--------------------+--------------------+--------------------+--------------------+----+----+--------------------+\n",
      "|                UID|_pubtype|_pubyear|fund_text|              titles|conference|keyword|abstract_text|          identifier|                name|           full_name|        full_address|        allAddresses|  FX|  AB|             journal|\n",
      "+-------------------+--------+--------+---------+--------------------+----------+-------+-------------+--------------------+--------------------+--------------------+--------------------+--------------------+----+----+--------------------+\n",
      "|WOS:A1985AUK0600019| Journal|    1985|     null|[6, [[CLINICA CHI...|      null|   null|         null|[[, accession_no,...|[[,,, Y, author, ...| ELSEVIER SCIENCE BV|                null|                null|null|null|CLINICA CHIMICA ACTA|\n",
      "|WOS:A1985ATW9400035| Journal|    1985|     null|[6, [[INSULA-REVI...|      null|   null|         null|[[, accession_no,...|[[,,,, author, 1,...|INSULA LIBRERIA E...|                null|                null|null|null|INSULA-REVISTA DE...|\n",
      "|WOS:A1985AHR7600027| Journal|    1985|     null|[6, [[ELECTRONICS...|      null|   null|         null|[[, accession_no,...|[[,,, Y, author, ...|   IEE-INST ELEC ENG|                null|                null|null|null| ELECTRONICS LETTERS|\n",
      "|WOS:A1985AJM7300014| Journal|    1985|     null|[5, [[ACTA MORPHO...|      null|   null|         null|[[, accession_no,...|[[,,,, author, 1,...|SWETS ZEITLINGER ...|[STATE UNIV UTREC...|STATE UNIV UTRECH...|null|null|ACTA MORPHOLOGICA...|\n",
      "|WOS:A1985APH5500026| Journal|    1985|     null|[6, [[AIAA JOURNA...|      null|   null|         null|[[, accession_no,...|[[,,, Y, author, ...|AMER INST AERONAU...|                null|                null|null|null|        AIAA JOURNAL|\n",
      "|WOS:A1985AAK3200005| Journal|    1985|     null|[6, [[CRYOGENICS,...|      null|   null|         null|[[, accession_no,...|[[,,, Y, author, ...|BUTTERWORTH-HEINE...|                null|                null|null|null|          CRYOGENICS|\n",
      "|WOS:A1985AVL2400004| Journal|    1985|     null|[6, [[THIN SOLID ...|      null|   null|         null|[[, accession_no,...|[[,,, Y, author, ...|ELSEVIER SCIENCE ...|                null|                null|null|null|    THIN SOLID FILMS|\n",
      "|WOS:A1985AVR2500014| Journal|    1985|     null|[6, [[MEDICAL EDU...|      null|   null|         null|[[, accession_no,...|[[,,,, author, 1,...|BLACKWELL SCIENCE...|[CAMBRIDGE UNIV,A...|CAMBRIDGE UNIV,AD...|null|null|   MEDICAL EDUCATION|\n",
      "|WOS:A1985APD6100014| Journal|    1985|     null|[6, [[SOCIOLOGY-T...|      null|   null|         null|[[, accession_no,...|[[,,,, author, 1,...|SAGE PUBLICATIONS...|                null|                null|null|null|SOCIOLOGY-THE JOU...|\n",
      "|WOS:A1985AUK6500034| Journal|    1985|     null|[6, [[FRENCH STUD...|      null|   null|         null|[[, accession_no,...|[[,,,, author, 1,...|  SOC FRENCH STUDIES|                null|                null|null|null|      FRENCH STUDIES|\n",
      "|WOS:A1985ADG8200012| Journal|    1985|     null|[5, [[STAIN TECHN...|      null|   null|         null|[[, accession_no,...|[[,,, Y, author, ...|  WILLIAMS & WILKINS|[UNIV MONTPELLIER...|UNIV MONTPELLIER ...|null|null|    STAIN TECHNOLOGY|\n",
      "|WOS:A1985ASX7400138| Journal|    1985|     null|[5, [[BULLETIN OF...|      null|   null|         null|[[, accession_no,...|[[,,,, author, 1,...| PSYCHONOMIC SOC INC|[UNIV TEXAS,ARLIN...|UNIV TEXAS,ARLING...|null|null|BULLETIN OF THE P...|\n",
      "|WOS:A1985ABZ8800004| Journal|    1985|     null|[6, [[ORIENTAL AR...|      null|   null|         null|[[, accession_no,...|[[,,,, author, 1,...|ORIENTAL ART MAGA...|                null|                null|null|null|        ORIENTAL ART|\n",
      "|WOS:A1985AWJ3900005| Journal|    1985|     null|[5, [[PROCEEDINGS...|      null|   null|         null|[[, accession_no,...|[[,,, Y, author, ...| ELSEVIER SCIENCE BV|                null|                null|null|null|PROCEEDINGS OF TH...|\n",
      "|WOS:A1985ASZ2000001| Journal|    1985|     null|[5, [[REAL ESTATE...|      null|   null|         null|[[, accession_no,...|[[,,, Y, author, ...|WARREN GORHAM LAM...|                null|                null|null|null|  REAL ESTATE REVIEW|\n",
      "|WOS:A1985AJE7100045| Journal|    1985|     null|[6, [[FOLIA PHARM...|      null|   null|         null|[[, accession_no,...|[[,,,, author, 1,...|JAPANESE PHARMACO...|                null|                null|null|null|FOLIA PHARMACOLOG...|\n",
      "|WOS:A1985ABJ4000121| Journal|    1985|     null|[6, [[VETERINARY ...|      null|   null|         null|[[, accession_no,...|[[,,,, author, 1,...|     W B SAUNDERS CO|[UNIV GUELPH,GUEL...|UNIV GUELPH,GUELP...|null|null|  VETERINARY SURGERY|\n",
      "|WOS:A1985AAS0100007| Journal|    1985|     null|[6, [[EXPERIMENTA...|      null|   null|         null|[[, accession_no,...|[[,,,, author, 1,...|     SPRINGER VERLAG|[QUEENS UNIV,DEPT...|QUEENS UNIV,DEPT ...|null|null|EXPERIMENTAL BRAI...|\n",
      "|WOS:A1985AGQ4300016| Journal|    1985|     null|[6, [[PEDIATRIC R...|      null|   null|         null|[[, accession_no,...|[[,,, Y, author, ...|     SPRINGER VERLAG|[TRIPLER ARMY MED...|TRIPLER ARMY MED ...|null|null| PEDIATRIC RADIOLOGY|\n",
      "|WOS:A1985AWQ6000022| Journal|    1985|     null|[6, [[JOURNAL OF ...|      null|   null|         null|[[, accession_no,...|[[,,, Y, author, ...|    ENTOMOL SOC AMER|                null|                null|null|null|JOURNAL OF ECONOM...|\n",
      "+-------------------+--------+--------+---------+--------------------+----------+-------+-------------+--------------------+--------------------+--------------------+--------------------+--------------------+----+----+--------------------+\n",
      "only showing top 20 rows\n",
      "\n"
     ]
    },
    {
     "data": {
      "text/plain": [
       "WoS6 = [UID: string, _pubtype: string ... 14 more fields]\n"
      ]
     },
     "metadata": {},
     "output_type": "display_data"
    },
    {
     "data": {
      "text/plain": [
       "getTitle: (_type: String)org.apache.spark.sql.expressions.UserDefinedFunction\n"
      ]
     },
     "metadata": {},
     "output_type": "display_data"
    },
    {
     "data": {
      "text/plain": [
       "[UID: string, _pubtype: string ... 14 more fields]"
      ]
     },
     "execution_count": 22,
     "metadata": {},
     "output_type": "execute_result"
    }
   ],
   "source": [
    "import scala.util.Try\n",
    "import org.apache.hadoop.fs._\n",
    "import org.apache.spark.sql.Row\n",
    "\n",
    "def getTitle(_type: String) = { \n",
    "  udf((row: Seq[Row]) =>\n",
    "    row.map(r => (r.getString(0), r.getString(1), r.getString(2)))\n",
    "      .find { case (_, _, s) => s == _type}\n",
    "      .map(_._1)\n",
    "      .orElse(None)\n",
    "  )\n",
    "}\n",
    "val WoS6 = WoS5.withColumn(\"journal\", when(col(\"titles.title\").isNotNull, getTitle(\"source\")($\"titles.title\")).otherwise(lit(null))).cache()\n",
    "WoS6.show()"
   ]
  },
  {
   "cell_type": "code",
   "execution_count": 24,
   "metadata": {
    "scrolled": true
   },
   "outputs": [
    {
     "name": "stdout",
     "output_type": "stream",
     "text": [
      "+-------------------+--------+--------+---------+--------------------+----------+-------+-------------+--------------------+--------------------+--------------------+--------------------+--------------------+----+----+--------------------+--------------------+\n",
      "|                UID|_pubtype|_pubyear|fund_text|              titles|conference|keyword|abstract_text|          identifier|                name|           full_name|        full_address|        allAddresses|  FX|  AB|             journal|               title|\n",
      "+-------------------+--------+--------+---------+--------------------+----------+-------+-------------+--------------------+--------------------+--------------------+--------------------+--------------------+----+----+--------------------+--------------------+\n",
      "|WOS:A1985AUK0600019| Journal|    1985|     null|[6, [[CLINICA CHI...|      null|   null|         null|[[, accession_no,...|[[,,, Y, author, ...| ELSEVIER SCIENCE BV|                null|                null|null|null|CLINICA CHIMICA ACTA|SERUM FERRITIN IN...|\n",
      "|WOS:A1985ATW9400035| Journal|    1985|     null|[6, [[INSULA-REVI...|      null|   null|         null|[[, accession_no,...|[[,,,, author, 1,...|INSULA LIBRERIA E...|                null|                null|null|null|INSULA-REVISTA DE...|6TH INTERNATIONAL...|\n",
      "|WOS:A1985AHR7600027| Journal|    1985|     null|[6, [[ELECTRONICS...|      null|   null|         null|[[, accession_no,...|[[,,, Y, author, ...|   IEE-INST ELEC ENG|                null|                null|null|null| ELECTRONICS LETTERS|SELECTIVELY IMPLA...|\n",
      "|WOS:A1985AJM7300014| Journal|    1985|     null|[5, [[ACTA MORPHO...|      null|   null|         null|[[, accession_no,...|[[,,,, author, 1,...|SWETS ZEITLINGER ...|[STATE UNIV UTREC...|STATE UNIV UTRECH...|null|null|ACTA MORPHOLOGICA...|REGRESSION OF THE...|\n",
      "|WOS:A1985APH5500026| Journal|    1985|     null|[6, [[AIAA JOURNA...|      null|   null|         null|[[, accession_no,...|[[,,, Y, author, ...|AMER INST AERONAU...|                null|                null|null|null|        AIAA JOURNAL|TIME FINITE-ELEME...|\n",
      "|WOS:A1985AAK3200005| Journal|    1985|     null|[6, [[CRYOGENICS,...|      null|   null|         null|[[, accession_no,...|[[,,, Y, author, ...|BUTTERWORTH-HEINE...|                null|                null|null|null|          CRYOGENICS|MAGNETIC-FIELD ME...|\n",
      "|WOS:A1985AVL2400004| Journal|    1985|     null|[6, [[THIN SOLID ...|      null|   null|         null|[[, accession_no,...|[[,,, Y, author, ...|ELSEVIER SCIENCE ...|                null|                null|null|null|    THIN SOLID FILMS|BAND-GAP ENERGY A...|\n",
      "|WOS:A1985AVR2500014| Journal|    1985|     null|[6, [[MEDICAL EDU...|      null|   null|         null|[[, accession_no,...|[[,,,, author, 1,...|BLACKWELL SCIENCE...|[CAMBRIDGE UNIV,A...|CAMBRIDGE UNIV,AD...|null|null|   MEDICAL EDUCATION|EXAMINERS BELIEFS...|\n",
      "|WOS:A1985APD6100014| Journal|    1985|     null|[6, [[SOCIOLOGY-T...|      null|   null|         null|[[, accession_no,...|[[,,,, author, 1,...|SAGE PUBLICATIONS...|                null|                null|null|null|SOCIOLOGY-THE JOU...|MAKING SOMETHING ...|\n",
      "|WOS:A1985AUK6500034| Journal|    1985|     null|[6, [[FRENCH STUD...|      null|   null|         null|[[, accession_no,...|[[,,,, author, 1,...|  SOC FRENCH STUDIES|                null|                null|null|null|      FRENCH STUDIES|NATURE AND VALUES...|\n",
      "|WOS:A1985ADG8200012| Journal|    1985|     null|[5, [[STAIN TECHN...|      null|   null|         null|[[, accession_no,...|[[,,, Y, author, ...|  WILLIAMS & WILKINS|[UNIV MONTPELLIER...|UNIV MONTPELLIER ...|null|null|    STAIN TECHNOLOGY|A RAPID TECHNIQUE...|\n",
      "|WOS:A1985ASX7400138| Journal|    1985|     null|[5, [[BULLETIN OF...|      null|   null|         null|[[, accession_no,...|[[,,,, author, 1,...| PSYCHONOMIC SOC INC|[UNIV TEXAS,ARLIN...|UNIV TEXAS,ARLING...|null|null|BULLETIN OF THE P...|PERCEPTION OF SEX...|\n",
      "|WOS:A1985ABZ8800004| Journal|    1985|     null|[6, [[ORIENTAL AR...|      null|   null|         null|[[, accession_no,...|[[,,,, author, 1,...|ORIENTAL ART MAGA...|                null|                null|null|null|        ORIENTAL ART|ELEPHANTA, THE CA...|\n",
      "|WOS:A1985AWJ3900005| Journal|    1985|     null|[5, [[PROCEEDINGS...|      null|   null|         null|[[, accession_no,...|[[,,, Y, author, ...| ELSEVIER SCIENCE BV|                null|                null|null|null|PROCEEDINGS OF TH...|METRICAL RESULTS ...|\n",
      "|WOS:A1985ASZ2000001| Journal|    1985|     null|[5, [[REAL ESTATE...|      null|   null|         null|[[, accession_no,...|[[,,, Y, author, ...|WARREN GORHAM LAM...|                null|                null|null|null|  REAL ESTATE REVIEW|REAL-ESTATE TAX B...|\n",
      "|WOS:A1985AJE7100045| Journal|    1985|     null|[6, [[FOLIA PHARM...|      null|   null|         null|[[, accession_no,...|[[,,,, author, 1,...|JAPANESE PHARMACO...|                null|                null|null|null|FOLIA PHARMACOLOG...|EFFECT OF MELILOT...|\n",
      "|WOS:A1985ABJ4000121| Journal|    1985|     null|[6, [[VETERINARY ...|      null|   null|         null|[[, accession_no,...|[[,,,, author, 1,...|     W B SAUNDERS CO|[UNIV GUELPH,GUEL...|UNIV GUELPH,GUELP...|null|null|  VETERINARY SURGERY|AVERSIVE-CONDITIO...|\n",
      "|WOS:A1985AAS0100007| Journal|    1985|     null|[6, [[EXPERIMENTA...|      null|   null|         null|[[, accession_no,...|[[,,,, author, 1,...|     SPRINGER VERLAG|[QUEENS UNIV,DEPT...|QUEENS UNIV,DEPT ...|null|null|EXPERIMENTAL BRAI...|CONVERGENCE OF SE...|\n",
      "|WOS:A1985AGQ4300016| Journal|    1985|     null|[6, [[PEDIATRIC R...|      null|   null|         null|[[, accession_no,...|[[,,, Y, author, ...|     SPRINGER VERLAG|[TRIPLER ARMY MED...|TRIPLER ARMY MED ...|null|null| PEDIATRIC RADIOLOGY|TRACHEOESOPHAGEAL...|\n",
      "|WOS:A1985AWQ6000022| Journal|    1985|     null|[6, [[JOURNAL OF ...|      null|   null|         null|[[, accession_no,...|[[,,, Y, author, ...|    ENTOMOL SOC AMER|                null|                null|null|null|JOURNAL OF ECONOM...|SENSITIVITY OF BE...|\n",
      "+-------------------+--------+--------+---------+--------------------+----------+-------+-------------+--------------------+--------------------+--------------------+--------------------+--------------------+----+----+--------------------+--------------------+\n",
      "only showing top 20 rows\n",
      "\n"
     ]
    },
    {
     "data": {
      "text/plain": [
       "WoS7 = [UID: string, _pubtype: string ... 15 more fields]\n"
      ]
     },
     "metadata": {},
     "output_type": "display_data"
    },
    {
     "data": {
      "text/plain": [
       "[UID: string, _pubtype: string ... 15 more fields]"
      ]
     },
     "execution_count": 24,
     "metadata": {},
     "output_type": "execute_result"
    }
   ],
   "source": [
    "//WoSIU4.write.mode(SaveMode.Overwrite).parquet(\"/WoSraw/WoS2019/IUpapersExtract\")\n",
    "//val WoSIU4b = spark.read.format(\"parquet\").load(\"/WoSraw/WoS2019/IUpapersExtract/*.parquet\")\n",
    "val WoS7 = WoS6.withColumn(\"title\", when(col(\"titles.title\").isNotNull, getTitle(\"item\")($\"titles.title\")).otherwise(lit(null)))\n",
    "WoS7.show"
   ]
  },
  {
   "cell_type": "code",
   "execution_count": 26,
   "metadata": {},
   "outputs": [
    {
     "name": "stdout",
     "output_type": "stream",
     "text": [
      "+-------+--------+--------+--------+---------+------------+--------+--------+--------+--------+--------+--------+--------+\n",
      "|summary|     UID|_pubtype|_pubyear|full_name|allAddresses|      FX|      AB| journal|   title|     doi|    issn|   eissn|\n",
      "+-------+--------+--------+--------+---------+------------+--------+--------+--------+--------+--------+--------+--------+\n",
      "|  count|74883966|74883966|74883966| 74588122|    52459808|11859531|35990463|74883485|74883956|24368416|68621122|21048392|\n",
      "+-------+--------+--------+--------+---------+------------+--------+--------+--------+--------+--------+--------+--------+\n",
      "\n"
     ]
    },
    {
     "data": {
      "text/plain": [
       "WoS8 = [UID: string, _pubtype: string ... 18 more fields]\n"
      ]
     },
     "metadata": {},
     "output_type": "display_data"
    },
    {
     "data": {
      "text/plain": [
       "lastException: Throwable = null\n",
       "getID: (_type: String)org.apache.spark.sql.expressions.UserDefinedFunction\n"
      ]
     },
     "metadata": {},
     "output_type": "display_data"
    },
    {
     "data": {
      "text/plain": [
       "[UID: string, _pubtype: string ... 18 more fields]"
      ]
     },
     "execution_count": 26,
     "metadata": {},
     "output_type": "execute_result"
    }
   ],
   "source": [
    "def getID(_type: String) = {\n",
    "  udf((row: Seq[Row]) =>\n",
    "    row.map(r => (r.getString(0), r.getString(1), r.getString(2)))\n",
    "      .find { case (_, s, _) => s == _type}\n",
    "      .map(_._3)\n",
    "      .orElse(None)\n",
    "  )\n",
    "}\n",
    "\n",
    "\n",
    "val WoS8 = WoS7.withColumn(\"doi\", when(col(\"identifier\").isNotNull, getID(\"doi\")($\"identifier\")).otherwise(lit(null)))\n",
    ".withColumn(\"issn\", when(col(\"identifier\").isNotNull, getID(\"issn\")($\"identifier\")).otherwise(lit(null)))\n",
    ".withColumn(\"eissn\", when(col(\"identifier\").isNotNull, getID(\"eissn\")($\"identifier\")).otherwise(lit(null))).cache()\n",
    "//.select(\"UID\",\"doi\",\"issn\",\"eissn\").filter($\"doi\" =!= \"null\").show\n",
    "WoS8.describe().filter($\"summary\" === \"count\").show"
   ]
  },
  {
   "cell_type": "code",
   "execution_count": 32,
   "metadata": {
    "scrolled": true
   },
   "outputs": [
    {
     "name": "stdout",
     "output_type": "stream",
     "text": [
      "+-------------------+-------+----+---------+---------+----+----------------------------------------------------------------------------------------------------------------------------------------+----+----------------------------------------------------------------------------------------------------+----------------------------+----+---+-----------------------------------------------------------------------------+-----------------------------------------------------------------------------------------------------+----------+-------+---------------------------------------------------------------------+\n",
      "|WoSid              |PT     |PY  |EI       |SN       |DI  |TI                                                                                                                                      |AB  |SO                                                                                                  |PU                          |FX  |RP |authors                                                                      |C1                                                                                                   |conference|keyword|AU                                                                   |\n",
      "+-------------------+-------+----+---------+---------+----+----------------------------------------------------------------------------------------------------------------------------------------+----+----------------------------------------------------------------------------------------------------+----------------------------+----+---+-----------------------------------------------------------------------------+-----------------------------------------------------------------------------------------------------+----------+-------+---------------------------------------------------------------------+\n",
      "|WOS:A1985AUK0600019|Journal|1985|null     |0009-8981|null|SERUM FERRITIN IN TYPE-I DIABETES                                                                                                       |null|CLINICA CHIMICA ACTA                                                                                |ELSEVIER SCIENCE BV         |null|1  |[CARENINI, A, RONCHI, D, GARBETTA, F, POZZA, G, GABRI, E, LEVI, S, AROSIO, P]|null                                                                                                 |null      |null   |CARENINI, A|RONCHI, D|GARBETTA, F|POZZA, G|GABRI, E|LEVI, S|AROSIO, P|\n",
      "|WOS:A1985ATW9400035|Journal|1985|null     |0020-4536|null|6TH INTERNATIONAL FILM FESTIVAL OF MADRID                                                                                               |null|INSULA-REVISTA DE LETRAS Y CIENCIAS HUMANAS                                                         |INSULA LIBRERIA EDIC PUBL SA|null|0  |[CASTRO, A]                                                                  |null                                                                                                 |null      |null   |CASTRO, A                                                            |\n",
      "|WOS:A1985AHR7600027|Journal|1985|null     |0013-5194|null|SELECTIVELY IMPLANTED OXYGEN ISOLATION TECHNOLOGY (SIO)                                                                                 |null|ELECTRONICS LETTERS                                                                                 |IEE-INST ELEC ENG           |null|1  |[RATNAM, P, SALAMA, CAT]                                                     |null                                                                                                 |null      |null   |RATNAM, P|SALAMA, CAT                                                |\n",
      "|WOS:A1985AJM7300014|Journal|1985|null     |0001-6225|null|REGRESSION OF THE RIGHT MULLERIAN DUCT IN THE FEMALE CHICK-EMBRYO                                                                       |null|ACTA MORPHOLOGICA NEERLANDO-SCANDINAVICA                                                            |SWETS ZEITLINGER PUBLISHERS |null|0  |[GROENENDIJKHUIJBERS, MM]                                                    |STATE UNIV UTRECHT,DEPT ANAT & EMBRYOL,UTRECHT,NETHERLANDS                                           |null      |null   |GROENENDIJKHUIJBERS, MM                                              |\n",
      "|WOS:A1985APH5500026|Journal|1985|null     |0001-1452|null|TIME FINITE-ELEMENT DISCRETIZATION OF HAMILTON LAW OF VARYING ACTION - COMMENT                                                          |null|AIAA JOURNAL                                                                                        |AMER INST AERONAUT ASTRONAUT|null|1  |[BORRI, M, LANZ, M, MANTEGAZZA, P]                                           |null                                                                                                 |null      |null   |BORRI, M|LANZ, M|MANTEGAZZA, P                                       |\n",
      "|WOS:A1985AAK3200005|Journal|1985|null     |0011-2275|null|MAGNETIC-FIELD MEASUREMENT WITHIN SUPERCONDUCTING WINDINGS BY CLTS TEMPERATURE SENSORS                                                  |null|CRYOGENICS                                                                                          |BUTTERWORTH-HEINEMANN LTD   |null|1  |[JUNGST, KP, KUTSCHERA, M, YAN, L]                                           |null                                                                                                 |null      |null   |JUNGST, KP|KUTSCHERA, M|YAN, L                                       |\n",
      "|WOS:A1985AVL2400004|Journal|1985|null     |0040-6090|null|BAND-GAP ENERGY AND URBACH TAIL STUDIES OF AMORPHOUS, PARTIALLY CRYSTALLINE AND POLYCRYSTALLINE TIN DIOXIDE                             |null|THIN SOLID FILMS                                                                                    |ELSEVIER SCIENCE SA LAUSANNE|null|1  |[MELSHEIMER, J, ZIEGLER, D]                                                  |null                                                                                                 |null      |null   |MELSHEIMER, J|ZIEGLER, D                                             |\n",
      "|WOS:A1985AVR2500014|Journal|1985|null     |0308-0110|null|EXAMINERS BELIEFS ABOUT THE UTILITY AND THE APPROPRIATENESS OF DIFFERENT EXAMINATION TECHNIQUES                                         |null|MEDICAL EDUCATION                                                                                   |BLACKWELL SCIENCE LTD       |null|0  |[WAKEFORD, R]                                                                |CAMBRIDGE UNIV,ADDENBROOKES HOSP,CLIN SCH,SCH CLIN MED,OFF REGIUS PROF PHYS,CAMBRIDGE CB2 2QQ,ENGLAND|null      |null   |WAKEFORD, R                                                          |\n",
      "|WOS:A1985APD6100014|Journal|1985|1469-8684|0038-0385|null|MAKING SOMETHING OF OURSELVES - MERELMAN,RM                                                                                             |null|SOCIOLOGY-THE JOURNAL OF THE BRITISH SOCIOLOGICAL ASSOCIATION                                       |SAGE PUBLICATIONS LTD       |null|0  |[REHIN, G]                                                                   |null                                                                                                 |null      |null   |REHIN, G                                                             |\n",
      "|WOS:A1985AUK6500034|Journal|1985|null     |0016-1128|null|NATURE AND VALUES IN THE PHILOSOPHY OF MONTESQUIEU, A METHODICAL ANALYSIS OF THE IDEA OF RAPPORT IN 'ESPRIT DES LOIS' - FRENCH - BEYER,C|null|FRENCH STUDIES                                                                                      |SOC FRENCH STUDIES          |null|0  |[WADDICOR, MH]                                                               |null                                                                                                 |null      |null   |WADDICOR, MH                                                         |\n",
      "|WOS:A1985ADG8200012|Journal|1985|null     |0038-9153|null|A RAPID TECHNIQUE FOR OBTAINING AIR DRIED MITOTIC CHROMOSOMES FROM MOSQUITO EGG RAFTS                                                   |null|STAIN TECHNOLOGY                                                                                    |WILLIAMS & WILKINS          |null|1  |[KING, M, PASTEUR, N]                                                        |UNIV MONTPELLIER 2,ECOLE PRAT HAUTES ETUD,GENET ECOL LAB,F-34060 MONTPELLIER,FRANCE                  |null      |null   |KING, M|PASTEUR, N                                                   |\n",
      "|WOS:A1985ASX7400138|Journal|1985|null     |0090-5054|null|PERCEPTION OF SEXUAL ATTRACTIVENESS AND ATTITUDES TOWARDS PORNOGRAPHY                                                                   |null|BULLETIN OF THE PSYCHONOMIC SOCIETY                                                                 |PSYCHONOMIC SOC INC         |null|0  |[BERNSTEIN, IH, HUANG, MH, LIN, TD]                                          |UNIV TEXAS,ARLINGTON,TX 76019                                                                        |null      |null   |BERNSTEIN, IH|HUANG, MH|LIN, TD                                      |\n",
      "|WOS:A1985ABZ8800004|Journal|1985|null     |0030-5278|null|ELEPHANTA, THE CAVE OF SHIVA - BERKSON,C, OFLAHERTY,WD, MICHELL,G                                                                       |null|ORIENTAL ART                                                                                        |ORIENTAL ART MAGAZINE LTD   |null|0  |[COLLINS, CD]                                                                |null                                                                                                 |null      |null   |COLLINS, CD                                                          |\n",
      "|WOS:A1985AWJ3900005|Journal|1985|null     |0023-3358|null|METRICAL RESULTS FOR THE NEAREST INTEGER CONTINUED-FRACTION                                                                             |null|PROCEEDINGS OF THE KONINKLIJKE NEDERLANDSE AKADEMIE VAN WETENSCHAPPEN SERIES A-MATHEMATICAL SCIENCES|ELSEVIER SCIENCE BV         |null|1  |[JAGER, H]                                                                   |null                                                                                                 |null      |null   |JAGER, H                                                             |\n",
      "|WOS:A1985ASZ2000001|Journal|1985|null     |0034-0790|null|REAL-ESTATE TAX BENEFITS AND REFORMS - THE LONG VIEW                                                                                    |null|REAL ESTATE REVIEW                                                                                  |WARREN GORHAM LAMONT INC    |null|1  |[PILZER, PZ]                                                                 |null                                                                                                 |null      |null   |PILZER, PZ                                                           |\n",
      "|WOS:A1985AJE7100045|Journal|1985|null     |0015-5691|null|EFFECT OF MELILOTUS EXTRACT ON THE MOTILITY OF THE MAMMALIAN GASTROINTESTINAL-TRACT                                                     |null|FOLIA PHARMACOLOGICA JAPONICA                                                                       |JAPANESE PHARMACOLOGICAL SOC|null|0  |[MIZUGUCHI, T, MIYAMOTO, A, OHSHIKA, H]                                      |null                                                                                                 |null      |null   |MIZUGUCHI, T|MIYAMOTO, A|OHSHIKA, H                                  |\n",
      "|WOS:A1985ABJ4000121|Journal|1985|null     |0161-3499|null|AVERSIVE-CONDITIONING USED TO TEST THE HUMANENESS OF A COMMERCIAL ELECTROIMMOBILIZATION UNIT IN CATTLE                                  |null|VETERINARY SURGERY                                                                                  |W B SAUNDERS CO             |null|0  |[PASCOE, PJ, MCDONELL, WN]                                                   |UNIV GUELPH,GUELPH N1G 2W1,ONTARIO,CANADA                                                            |null      |null   |PASCOE, PJ|MCDONELL, WN                                              |\n",
      "|WOS:A1985AAS0100007|Journal|1985|null     |0014-4819|null|CONVERGENCE OF SENSORY INPUTS IN SOMATOSENSORY CORTEX - INTERACTIONS FROM SEPARATE AFFERENT SOURCES                                     |null|EXPERIMENTAL BRAIN RESEARCH                                                                         |SPRINGER VERLAG             |null|0  |[KANG, R, HERMAN, D, MACGILLIS, M, ZARZECKI, P]                              |QUEENS UNIV,DEPT PHYSIOL,KINGSTON K7L 3N6,ONTARIO,CANADA                                             |null      |null   |KANG, R|HERMAN, D|MACGILLIS, M|ZARZECKI, P                           |\n",
      "|WOS:A1985AGQ4300016|Journal|1985|null     |0301-0449|null|TRACHEOESOPHAGEAL FISTULA - DIAGNOSIS WITH CT                                                                                           |null|PEDIATRIC RADIOLOGY                                                                                 |SPRINGER VERLAG             |null|1  |[JOHNSON, JF, SUEOKA, BL, MULLIGAN, ME, LUGO, EJ]                            |TRIPLER ARMY MED CTR,DEPT PEDIAT,HONOLULU,HI 96859                                                   |null      |null   |JOHNSON, JF|SUEOKA, BL|MULLIGAN, ME|LUGO, EJ                         |\n",
      "|WOS:A1985AWQ6000022|Journal|1985|null     |0022-0493|null|SENSITIVITY OF BEAUVERIA-BASSIANA TO SELECTED HERBICIDES                                                                                |null|JOURNAL OF ECONOMIC ENTOMOLOGY                                                                      |ENTOMOL SOC AMER            |null|1  |[GARDNER, WA, STOREY, GK]                                                    |null                                                                                                 |null      |null   |GARDNER, WA|STOREY, GK                                               |\n",
      "+-------------------+-------+----+---------+---------+----+----------------------------------------------------------------------------------------------------------------------------------------+----+----------------------------------------------------------------------------------------------------+----------------------------+----+---+-----------------------------------------------------------------------------+-----------------------------------------------------------------------------------------------------+----------+-------+---------------------------------------------------------------------+\n",
      "only showing top 20 rows\n",
      "\n"
     ]
    },
    {
     "data": {
      "text/plain": [
       "WoS9 = [WoSid: string, PT: string ... 15 more fields]\n"
      ]
     },
     "metadata": {},
     "output_type": "display_data"
    },
    {
     "data": {
      "text/plain": [
       "[WoSid: string, PT: string ... 15 more fields]"
      ]
     },
     "execution_count": 32,
     "metadata": {},
     "output_type": "execute_result"
    }
   ],
   "source": [
    "val WoS9 = WoS8.withColumn(\"reprintFlag\", array_position($\"name._reprint\", \"Y\"))\n",
    "            .select(\"UID\",\"_pubtype\",\"_pubyear\",\"eissn\",\"issn\",\"doi\",\"title\",\"AB\",\"journal\",\"full_name\",\"FX\",\"reprintFlag\",\n",
    "                    \"name.display_name\",\"allAddresses\",\"conference.conf_titles.conf_title\",\"keyword\")\n",
    "            .toDF(\"WoSid\",\"PT\",\"PY\",\"EI\",\"SN\",\"DI\",\"TI\",\"AB\",\"SO\",\"PU\",\"FX\",\"RP\",\"authors\",\"C1\",\"conference\",\"keyword\").withColumn(\"AU\", array_join($\"authors\", \"|\"))\n",
    "WoS9.show(false)"
   ]
  },
  {
   "cell_type": "code",
   "execution_count": 35,
   "metadata": {},
   "outputs": [
    {
     "name": "stdout",
     "output_type": "stream",
     "text": [
      "+-------+--------+--------+--------+--------+--------+--------+--------+--------+--------+--------+--------+--------+--------+--------+--------+--------+\n",
      "|summary|   WoSid|      PT|      PY|      EI|      SN|      DI|      TI|      AB|      SO|      PU|      FX|      RP|      C1|      AU|      DE|      CT|\n",
      "+-------+--------+--------+--------+--------+--------+--------+--------+--------+--------+--------+--------+--------+--------+--------+--------+--------+\n",
      "|  count|74883966|74883966|74883966|21048392|68621122|24368416|74883956|35990463|74883485|74588122|11859531|74883966|52459808|74883966|24204310|11432445|\n",
      "+-------+--------+--------+--------+--------+--------+--------+--------+--------+--------+--------+--------+--------+--------+--------+--------+--------+\n",
      "\n"
     ]
    },
    {
     "data": {
      "text/plain": [
       "WoS10 = [WoSid: string, PT: string ... 17 more fields]\n"
      ]
     },
     "metadata": {},
     "output_type": "display_data"
    },
    {
     "data": {
      "text/plain": [
       "[WoSid: string, PT: string ... 17 more fields]"
      ]
     },
     "execution_count": 35,
     "metadata": {},
     "output_type": "execute_result"
    }
   ],
   "source": [
    "//\"conference\", \"keyword\", \"abstract_text\",\n",
    "val WoS10 = WoS9.withColumn(\"DE\", array_join($\"keyword\", \".\")).withColumn(\"CT\", array_join($\"conference\", \".\"))\n",
    "//WoS9.printSchema\n",
    "WoS10.describe().filter($\"summary\" === \"count\").show"
   ]
  },
  {
   "cell_type": "code",
   "execution_count": 38,
   "metadata": {},
   "outputs": [
    {
     "name": "stdout",
     "output_type": "stream",
     "text": [
      "+-------------------+----+----+----+----+----+------------------------------------------------------------------------------------------+----+-----------------------------------------------------------------------------------------------+---------------------------------+----+---+-------------------------------------------------------------------------+----+----------------------------------------------------------------------------+-------+-------------------------------------------------------------------+----+--------------------------------------------------------------------------+\n",
      "|WoSid              |PT  |PY  |EI  |SN  |DI  |TI                                                                                        |AB  |SO                                                                                             |PU                               |FX  |RP |authors                                                                  |C1  |conference                                                                  |keyword|AU                                                                 |DE  |CT                                                                        |\n",
      "+-------------------+----+----+----+----+----+------------------------------------------------------------------------------------------+----+-----------------------------------------------------------------------------------------------+---------------------------------+----+---+-------------------------------------------------------------------------+----+----------------------------------------------------------------------------+-------+-------------------------------------------------------------------+----+--------------------------------------------------------------------------+\n",
      "|WOS:A1985BP81G00005|Book|1985|null|null|null|NEW-YORK-STATE AND THE SPECIE CRISIS OF 1837                                              |null|BUSINESS AND ECONOMIC HISTORY, 2ND SERIES, VOL 14                                              |BUSINESS HISTORY CONFERENCE      |null|0  |[OBERG, B, ATACK, J]                                                     |null|[31ST ANNUAL MEETING OF THE BUSINESS HISTORY CONF]                          |null   |OBERG, B|ATACK, J                                                  |null|31ST ANNUAL MEETING OF THE BUSINESS HISTORY CONF                          |\n",
      "|WOS:A1985BR61D00037|Book|1985|null|null|null|THE HUMANITIES                                                                            |null|MEETING THE CHALLENGE OF CHANGE : NEW DEMANDS AND NEW RESPONSES FOR CONTINUING HIGHER EDUCATION|ASSOC CONTINUING HIGHER EDUCATION|null|0  |[KAMHOLTZ, JZ, OSTRAND, KD, COREY, D, SUNDBERG, RE]                      |null|[47TH ANNUAL MEETING OF THE ASSOC FOR CONTINUING HIGHER EDUCATION]          |null   |KAMHOLTZ, JZ|OSTRAND, KD|COREY, D|SUNDBERG, RE                     |null|47TH ANNUAL MEETING OF THE ASSOC FOR CONTINUING HIGHER EDUCATION          |\n",
      "|WOS:A1985BR61D00034|Book|1985|null|null|null|AN ALLIANCE OF PROGRAMS FOR NONTRADITIONAL STUDENTS                                       |null|MEETING THE CHALLENGE OF CHANGE : NEW DEMANDS AND NEW RESPONSES FOR CONTINUING HIGHER EDUCATION|ASSOC CONTINUING HIGHER EDUCATION|null|0  |[ELLIOTT, W, LAWLERWIEDINMYER, P, SUNDBERG, RE]                          |null|[47TH ANNUAL MEETING OF THE ASSOC FOR CONTINUING HIGHER EDUCATION]          |null   |ELLIOTT, W|LAWLERWIEDINMYER, P|SUNDBERG, RE                        |null|47TH ANNUAL MEETING OF THE ASSOC FOR CONTINUING HIGHER EDUCATION          |\n",
      "|WOS:A1985BR61D00012|Book|1985|null|null|null|AMERICAN WORKFORCE - HOW ARE YOU                                                          |null|MEETING THE CHALLENGE OF CHANGE : NEW DEMANDS AND NEW RESPONSES FOR CONTINUING HIGHER EDUCATION|ASSOC CONTINUING HIGHER EDUCATION|null|0  |[GRAVES, JC, SUNDBERG, RE]                                               |null|[47TH ANNUAL MEETING OF THE ASSOC FOR CONTINUING HIGHER EDUCATION]          |null   |GRAVES, JC|SUNDBERG, RE                                            |null|47TH ANNUAL MEETING OF THE ASSOC FOR CONTINUING HIGHER EDUCATION          |\n",
      "|WOS:A1985BR61D00021|Book|1985|null|null|null|UNDERSTANDING THE ADULT LEARNER                                                           |null|MEETING THE CHALLENGE OF CHANGE : NEW DEMANDS AND NEW RESPONSES FOR CONTINUING HIGHER EDUCATION|ASSOC CONTINUING HIGHER EDUCATION|null|0  |[DENNIS, RW, SUNDBERG, RE]                                               |null|[47TH ANNUAL MEETING OF THE ASSOC FOR CONTINUING HIGHER EDUCATION]          |null   |DENNIS, RW|SUNDBERG, RE                                            |null|47TH ANNUAL MEETING OF THE ASSOC FOR CONTINUING HIGHER EDUCATION          |\n",
      "|WOS:A1985BR61D00024|Book|1985|null|null|null|QUALITY-CONTROL IN CONTINUING-EDUCATION                                                   |null|MEETING THE CHALLENGE OF CHANGE : NEW DEMANDS AND NEW RESPONSES FOR CONTINUING HIGHER EDUCATION|ASSOC CONTINUING HIGHER EDUCATION|null|0  |[KALAF, M, SUNDBERG, RE]                                                 |null|[47TH ANNUAL MEETING OF THE ASSOC FOR CONTINUING HIGHER EDUCATION]          |null   |KALAF, M|SUNDBERG, RE                                              |null|47TH ANNUAL MEETING OF THE ASSOC FOR CONTINUING HIGHER EDUCATION          |\n",
      "|WOS:A1985BR61D00005|Book|1985|null|null|null|ACHE PRESIDENT-ELECT REMARKS                                                              |null|MEETING THE CHALLENGE OF CHANGE : NEW DEMANDS AND NEW RESPONSES FOR CONTINUING HIGHER EDUCATION|ASSOC CONTINUING HIGHER EDUCATION|null|0  |[GWIAZDA, SJ, SUNDBERG, RE]                                              |null|[47TH ANNUAL MEETING OF THE ASSOC FOR CONTINUING HIGHER EDUCATION]          |null   |GWIAZDA, SJ|SUNDBERG, RE                                           |null|47TH ANNUAL MEETING OF THE ASSOC FOR CONTINUING HIGHER EDUCATION          |\n",
      "|WOS:A1985BP81G00001|Book|1985|null|null|null|MY 19TH-CENTURY NETWORK - CORNING,ERASTUS, INGHAM,BENJAMIN, FORSTALL,EDMOND               |null|BUSINESS AND ECONOMIC HISTORY, 2ND SERIES, VOL 14                                              |BUSINESS HISTORY CONFERENCE      |null|0  |[NEU, ID, ATACK, J]                                                      |null|[31ST ANNUAL MEETING OF THE BUSINESS HISTORY CONF]                          |null   |NEU, ID|ATACK, J                                                   |null|31ST ANNUAL MEETING OF THE BUSINESS HISTORY CONF                          |\n",
      "|WOS:A1985BR61D00026|Book|1985|null|null|null|THE CONTINUING-EDUCATION PROGRAM-DEVELOPMENT PROCESS .1. NEEDS ASSESSMENT                 |null|MEETING THE CHALLENGE OF CHANGE : NEW DEMANDS AND NEW RESPONSES FOR CONTINUING HIGHER EDUCATION|ASSOC CONTINUING HIGHER EDUCATION|null|0  |[BROOKS, G, SUNDBERG, RE]                                                |null|[47TH ANNUAL MEETING OF THE ASSOC FOR CONTINUING HIGHER EDUCATION]          |null   |BROOKS, G|SUNDBERG, RE                                             |null|47TH ANNUAL MEETING OF THE ASSOC FOR CONTINUING HIGHER EDUCATION          |\n",
      "|WOS:A1985BP81G00013|Book|1985|null|null|null|A COMPARATIVE-ANALYSIS OF THE EARLY HISTORY OF THE SOUTHERN AND NORTHERN TELEPHONE SYSTEMS|null|BUSINESS AND ECONOMIC HISTORY, 2ND SERIES, VOL 14                                              |BUSINESS HISTORY CONFERENCE      |null|0  |[LIPARTITO, K, ATACK, J]                                                 |null|[31ST ANNUAL MEETING OF THE BUSINESS HISTORY CONF]                          |null   |LIPARTITO, K|ATACK, J                                              |null|31ST ANNUAL MEETING OF THE BUSINESS HISTORY CONF                          |\n",
      "|WOS:A1985BR61D00015|Book|1985|null|null|null|THE FUTURE - A FACULTY PERSPECTIVE                                                        |null|MEETING THE CHALLENGE OF CHANGE : NEW DEMANDS AND NEW RESPONSES FOR CONTINUING HIGHER EDUCATION|ASSOC CONTINUING HIGHER EDUCATION|null|0  |[BENJAMIN, E, SUNDBERG, RE]                                              |null|[47TH ANNUAL MEETING OF THE ASSOC FOR CONTINUING HIGHER EDUCATION]          |null   |BENJAMIN, E|SUNDBERG, RE                                           |null|47TH ANNUAL MEETING OF THE ASSOC FOR CONTINUING HIGHER EDUCATION          |\n",
      "|WOS:A1985BQ83Z00001|Book|1985|null|null|null|JEWISH PRESENCE IN HISPANIA BEFORE THE 10TH-CENTURY                                       |null|JEWS IN CORDOBA ( X-XII CENTURIES )                                                            |EDICIONES EL ALMENDRO            |null|0  |[SAENZ, AP, PELAEZDELROSAL, J]                                           |null|[3RD COURSE OF HEBREW CULTURE : THE JEWS IN CORDOBA ( 10TH-12TH CENTURIES )]|null   |SAENZ, AP|PELAEZDELROSAL, J                                        |null|3RD COURSE OF HEBREW CULTURE : THE JEWS IN CORDOBA ( 10TH-12TH CENTURIES )|\n",
      "|WOS:A1985BR61D00006|Book|1985|null|null|null|GETTING INVOLVED WITH ACHE (FOR NEW AND NEWER MEMBERS)                                    |null|MEETING THE CHALLENGE OF CHANGE : NEW DEMANDS AND NEW RESPONSES FOR CONTINUING HIGHER EDUCATION|ASSOC CONTINUING HIGHER EDUCATION|null|0  |[SANTIAGO, F, GWIAZDA, SJ, LAWLERWIEDINMYER, P, SUBLETT, R, SUNDBERG, RE]|null|[47TH ANNUAL MEETING OF THE ASSOC FOR CONTINUING HIGHER EDUCATION]          |null   |SANTIAGO, F|GWIAZDA, SJ|LAWLERWIEDINMYER, P|SUBLETT, R|SUNDBERG, RE|null|47TH ANNUAL MEETING OF THE ASSOC FOR CONTINUING HIGHER EDUCATION          |\n",
      "|WOS:A1985BR61D00009|Book|1985|null|null|null|CAREER CHANGE - CHALLENGES AND OPPORTUNITIES                                              |null|MEETING THE CHALLENGE OF CHANGE : NEW DEMANDS AND NEW RESPONSES FOR CONTINUING HIGHER EDUCATION|ASSOC CONTINUING HIGHER EDUCATION|null|0  |[KIRBYMILLER, K, BLACKMAN, N, DONALDSON, J, GADBOW, NF, SUNDBERG, RE]    |null|[47TH ANNUAL MEETING OF THE ASSOC FOR CONTINUING HIGHER EDUCATION]          |null   |KIRBYMILLER, K|BLACKMAN, N|DONALDSON, J|GADBOW, NF|SUNDBERG, RE    |null|47TH ANNUAL MEETING OF THE ASSOC FOR CONTINUING HIGHER EDUCATION          |\n",
      "|WOS:A1985BR61D00025|Book|1985|null|null|null|STUDENT PROGRAMMING - EXPERIENCES TO BE SHARED                                            |null|MEETING THE CHALLENGE OF CHANGE : NEW DEMANDS AND NEW RESPONSES FOR CONTINUING HIGHER EDUCATION|ASSOC CONTINUING HIGHER EDUCATION|null|0  |[MCKEE, JA, STEUBE, GW, SMITH, A, NEUNDER, H, CARRINO, C, SUNDBERG, RE]  |null|[47TH ANNUAL MEETING OF THE ASSOC FOR CONTINUING HIGHER EDUCATION]          |null   |MCKEE, JA|STEUBE, GW|SMITH, A|NEUNDER, H|CARRINO, C|SUNDBERG, RE   |null|47TH ANNUAL MEETING OF THE ASSOC FOR CONTINUING HIGHER EDUCATION          |\n",
      "|WOS:A1985BQ83Z00007|Book|1985|null|null|null|THE RABBINICAL ACADEMY IN LUCENA (CORDOBA)                                                |null|JEWS IN CORDOBA ( X-XII CENTURIES )                                                            |EDICIONES EL ALMENDRO            |null|0  |[ESTEBAN, FD, PELAEZDELROSAL, J]                                         |null|[3RD COURSE OF HEBREW CULTURE : THE JEWS IN CORDOBA ( 10TH-12TH CENTURIES )]|null   |ESTEBAN, FD|PELAEZDELROSAL, J                                      |null|3RD COURSE OF HEBREW CULTURE : THE JEWS IN CORDOBA ( 10TH-12TH CENTURIES )|\n",
      "|WOS:A1985BR61D00023|Book|1985|null|null|null|STRATEGIC-PLANNING .2.                                                                    |null|MEETING THE CHALLENGE OF CHANGE : NEW DEMANDS AND NEW RESPONSES FOR CONTINUING HIGHER EDUCATION|ASSOC CONTINUING HIGHER EDUCATION|null|0  |[PETRELLO, GJ, LEIST, JC, SUNDBERG, RE]                                  |null|[47TH ANNUAL MEETING OF THE ASSOC FOR CONTINUING HIGHER EDUCATION]          |null   |PETRELLO, GJ|LEIST, JC|SUNDBERG, RE                                |null|47TH ANNUAL MEETING OF THE ASSOC FOR CONTINUING HIGHER EDUCATION          |\n",
      "|WOS:A1985BP81G00015|Book|1985|null|null|null|THE MANAGERIAL IDEOLOGY IN COLLEGIATE BUSINESS EDUCATION                                  |null|BUSINESS AND ECONOMIC HISTORY, 2ND SERIES, VOL 14                                              |BUSINESS HISTORY CONFERENCE      |null|0  |[SASS, SA, ATACK, J]                                                     |null|[31ST ANNUAL MEETING OF THE BUSINESS HISTORY CONF]                          |null   |SASS, SA|ATACK, J                                                  |null|31ST ANNUAL MEETING OF THE BUSINESS HISTORY CONF                          |\n",
      "|WOS:A1985BR61D00001|Book|1985|null|null|null|THE EMERGING TRANSFORMATION OF AMERICA                                                    |null|MEETING THE CHALLENGE OF CHANGE : NEW DEMANDS AND NEW RESPONSES FOR CONTINUING HIGHER EDUCATION|ASSOC CONTINUING HIGHER EDUCATION|null|0  |[DEDE, CJ, SUNDBERG, RE]                                                 |null|[47TH ANNUAL MEETING OF THE ASSOC FOR CONTINUING HIGHER EDUCATION]          |null   |DEDE, CJ|SUNDBERG, RE                                              |null|47TH ANNUAL MEETING OF THE ASSOC FOR CONTINUING HIGHER EDUCATION          |\n",
      "|WOS:A1985BR61D00004|Book|1985|null|null|null|DEMOGRAPHIC IMPERATIVES FOR CONTINUING-EDUCATION                                          |null|MEETING THE CHALLENGE OF CHANGE : NEW DEMANDS AND NEW RESPONSES FOR CONTINUING HIGHER EDUCATION|ASSOC CONTINUING HIGHER EDUCATION|null|0  |[HODGKINSON, H, SUNDBERG, RE]                                            |null|[47TH ANNUAL MEETING OF THE ASSOC FOR CONTINUING HIGHER EDUCATION]          |null   |HODGKINSON, H|SUNDBERG, RE                                         |null|47TH ANNUAL MEETING OF THE ASSOC FOR CONTINUING HIGHER EDUCATION          |\n",
      "+-------------------+----+----+----+----+----+------------------------------------------------------------------------------------------+----+-----------------------------------------------------------------------------------------------+---------------------------------+----+---+-------------------------------------------------------------------------+----+----------------------------------------------------------------------------+-------+-------------------------------------------------------------------+----+--------------------------------------------------------------------------+\n",
      "only showing top 20 rows\n",
      "\n"
     ]
    }
   ],
   "source": [
    "WoS10.filter(col(\"CT\").isNotNull).show(false)"
   ]
  },
  {
   "cell_type": "code",
   "execution_count": 39,
   "metadata": {
    "scrolled": true
   },
   "outputs": [],
   "source": [
    "//WoSIU8.describe().filter($\"summary\" === \"count\").show\n",
    "WoS10.select(\"WoSid\",\"PT\",\"PY\",\"EI\",\"SN\",\"DI\",\"TI\",\"AB\",\"DE\",\"CT\",\"SO\",\"PU\",\"FX\",\"RP\",\"AU\",\"C1\")\n",
    "    .write.mode(SaveMode.Overwrite)\n",
    "    .parquet(\"s3a://wos-athena/wos2019raw/papers/\")"
   ]
  },
  {
   "cell_type": "code",
   "execution_count": null,
   "metadata": {},
   "outputs": [],
   "source": []
  }
 ],
 "metadata": {
  "kernelspec": {
   "display_name": "Apache Toree - Scala",
   "language": "scala",
   "name": "apache_toree_scala"
  },
  "language_info": {
   "codemirror_mode": "text/x-scala",
   "file_extension": ".scala",
   "mimetype": "text/x-scala",
   "name": "scala",
   "pygments_lexer": "scala",
   "version": "2.11.12"
  }
 },
 "nbformat": 4,
 "nbformat_minor": 2
}
